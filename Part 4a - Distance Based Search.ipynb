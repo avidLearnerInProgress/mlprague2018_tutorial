{
 "cells": [
  {
   "cell_type": "markdown",
   "metadata": {},
   "source": [
    "# Finding Similar Songs on Spotify - Part 1: Distance Based Search\n",
    "\n",
    "The first part of this tutorial series demonstrates the traditional way of extracting features from the audio content, training a classifier and predicting results. Because we do not have access to the raw audio content, we cannot extract features ourselves. Fortunately, Spotify is so generious to provide extracted features via their API. Those are just low-level audio features, but they are more than any other streaming music service provide - so Kudos to Spotify for this API! To download the features from the Spotify API you need to apply for a valid client ID. Please follow the steps on the Github page to apply for such an ID.\n",
    "\n",
    "\n",
    "## Part 1 - Overview\n",
    "\n",
    "1. Introductions & Requirements\n",
    "2. Accessing the Spotify API\n",
    "3. Loading data\n",
    "4. Preprocess data\n",
    "5. Define the Similarity Model\n",
    "6. Optimize the Model\n",
    "7. Evaluate the Models\n",
    "\n",
    "\n",
    "# Short Introduction to Music Similarity Retrieval\n",
    "\n",
    "The objective of Music Similarity estimation or retrieval is to estimate the notion of similarity between two given tracks. A central part of such an approaches is the definition of a measure for similarity which is further affected by the approach taken to extract the relevant information. One approach is to analyze contextual data such as user generated listening behaviour data (e.g. play/skip-counts, user-tags, ratings, etc.). The approach followed by this tutorial is based on the music content itself and largely focuses on the notion of *acoustic similarity*. Music features are extracted from the audio content. The resulting music descriptors are high-dimensional numeric vectors and the accumulation of all feature vectors of a collection forms a vector-space. The general principle of content based similarity estimations is based on the assumption that numerical differences are an expression of perceptual dissimilarity. Different metrics such as the Manhattan (L1) or the Euclidean Distance (L2) or non-metric similarity functions such as the Kullback-Leibler divergence are used to estimate the numerical similarity of the feature vectors."
   ]
  },
  {
   "cell_type": "markdown",
   "metadata": {},
   "source": [
    "# Requirements\n",
    "\n",
    "Please follow the instructions on the tutorial's Github page (https://github.com/slychief/tutorials/tree/master/spotify_similarity_search) to install the following dependencies to run this tutorial:"
   ]
  },
  {
   "cell_type": "code",
   "execution_count": 1,
   "metadata": {
    "ExecuteTime": {
     "end_time": "2017-08-24T10:20:32.488000Z",
     "start_time": "2017-08-24T10:20:32.483000Z"
    }
   },
   "outputs": [],
   "source": [
    "# visualization\n",
    "%matplotlib inline\n",
    "import matplotlib\n",
    "import matplotlib.pyplot as plt\n",
    "matplotlib.style.use('ggplot')\n",
    "\n",
    "# numeric and scientific processing\n",
    "import numpy as np\n",
    "import pandas as pd\n",
    "\n",
    "# misc\n",
    "import os\n",
    "import progressbar"
   ]
  },
  {
   "cell_type": "markdown",
   "metadata": {},
   "source": [
    "**Spotipy**\n",
    "\n",
    "Spotipy is a thin client library for the Spotify Web API.\n",
    "\n",
    "https://github.com/plamere/spotipy"
   ]
  },
  {
   "cell_type": "code",
   "execution_count": 2,
   "metadata": {},
   "outputs": [],
   "source": [
    "import spotipy\n",
    "import spotipy.util as util"
   ]
  },
  {
   "cell_type": "markdown",
   "metadata": {},
   "source": [
    "Update the following two variables according the credentials you received from Spotify"
   ]
  },
  {
   "cell_type": "code",
   "execution_count": 3,
   "metadata": {
    "ExecuteTime": {
     "end_time": "2017-08-24T10:20:33.260000Z",
     "start_time": "2017-08-24T10:20:33.256000Z"
    }
   },
   "outputs": [],
   "source": [
    "# only valid for MLPrague 2018 Deep Learning for Music Workshop\n",
    "\n",
    "SPOTIFY_USER = \"slychief\"\n",
    "\n",
    "os.environ[\"SPOTIPY_CLIENT_ID\"]     = \"15ed4673698f4a1684cc74cf7b487662\"\n",
    "os.environ[\"SPOTIPY_CLIENT_SECRET\"] = \"91d6c3216ed94000b1035846d2e493a0\""
   ]
  },
  {
   "cell_type": "markdown",
   "metadata": {},
   "source": [
    "If you get the following message:\n",
    "\n",
    "    User authentication requires interaction with your\n",
    "    web browser. Once you enter your credentials and\n",
    "    give authorization, you will be redirected to\n",
    "    a url.  Paste that url you were directed to to\n",
    "    complete the authorization.\n",
    "\n",
    "    Opened https://accounts.spotify.com/authorize?scope=playlist-modify-public&redirect_uri=ht...\n",
    "    \n",
    "\n",
    "You need to authenticate your browser session. Follow the link and log in to Spotify. After login, you will be redirected to http://localhost/?code=... Copy the entire URL and paste it to the prompted textbox."
   ]
  },
  {
   "cell_type": "code",
   "execution_count": 4,
   "metadata": {
    "ExecuteTime": {
     "end_time": "2017-08-24T10:20:54.045000Z",
     "start_time": "2017-08-24T10:20:34.076000Z"
    }
   },
   "outputs": [],
   "source": [
    "token = util.prompt_for_user_token(SPOTIFY_USER, \n",
    "                                   \"playlist-modify-public\", \n",
    "                                   redirect_uri=\"http://localhost/\")\n",
    "\n",
    "sp = spotipy.Spotify(auth=token)"
   ]
  },
  {
   "cell_type": "markdown",
   "metadata": {},
   "source": [
    "# Loading Data\n",
    "\n",
    "Before we can train our models we first have to get some data.\n",
    "\n",
    "## Download Echonest Features from Spotify\n",
    "\n",
    "We use spotipy to access the Spotify API and to download metadata and audio features of Spotify tracks. The following list provides a selection of Spotify playlists of various music genres."
   ]
  },
  {
   "cell_type": "code",
   "execution_count": 5,
   "metadata": {},
   "outputs": [],
   "source": [
    "playlists = [\n",
    "    \n",
    "     {\"name\": \"clubbeats\",    \"uri\": \"spotify:user:spotify:playlist:37i9dQZF1DXbX3zSzB4MO0\"},\n",
    "     {\"name\": \"softpop\",      \"uri\": \"spotify:user:spotify:playlist:37i9dQZF1DWTwnEm1IYyoj\"},\n",
    "     {\"name\": \"electropop\",   \"uri\": \"spotify:user:spotify:playlist:37i9dQZF1DX4uPi2roRUwU\"},\n",
    "     {\"name\": \"rockclassics\", \"uri\": \"spotify:user:spotify:playlist:37i9dQZF1DWXRqgorJj26U\"},\n",
    "     {\"name\": \"rockhymns\",    \"uri\": \"spotify:user:spotify:playlist:37i9dQZF1DX4vth7idTQch\"},\n",
    "     {\"name\": \"soft_rock\",    \"uri\": \"spotify:user:spotify:playlist:37i9dQZF1DX6xOPeSOGone\"},\n",
    "     {\"name\": \"metalcore\",    \"uri\": \"spotify:user:spotify:playlist:37i9dQZF1DWXIcbzpLauPS\"}, \n",
    "     {\"name\": \"metal\",        \"uri\": \"spotify:user:spotify:playlist:37i9dQZF1DWWOaP4H0w5b0\"},\n",
    "     {\"name\": \"classic_metal\",\"uri\": \"spotify:user:spotify:playlist:37i9dQZF1DX2LTcinqsO68\"},\n",
    "     {\"name\": \"grunge\",       \"uri\": \"spotify:user:spotify:playlist:37i9dQZF1DX11ghcIxjcjE\"},\n",
    "     {\"name\": \"hiphop\",       \"uri\": \"spotify:user:spotify:playlist:37i9dQZF1DWVdgXTbYm2r0\"},\n",
    "     {\"name\": \"poppunk\",      \"uri\": \"spotify:user:spotify:playlist:37i9dQZF1DXa9wYJr1oMFq\"},\n",
    "     {\"name\": \"classic\",      \"uri\": \"spotify:user:spotify:playlist:37i9dQZF1DXcN1fAVSf7CR\"}\n",
    "    \n",
    "]"
   ]
  },
  {
   "cell_type": "markdown",
   "metadata": {},
   "source": [
    "### Get Playlist meta-data\n",
    "\n",
    "Insted of writing one big loop to download the data, I decided to split it into separate more comprehensible steps.\n",
    "\n",
    "The Spotify API does not return infinite elements, but requires batch processing. The largest batch size is 100 items such as tracks, artists or albums. As a first step we get relevant meta-data for the supplied playlists. Especially the *num_track* property is conveniant for the further processing."
   ]
  },
  {
   "cell_type": "code",
   "execution_count": 6,
   "metadata": {},
   "outputs": [],
   "source": [
    "def get_playlist_metadata(spotify_client, playlists):\n",
    "\n",
    "    for playlist in playlists:\n",
    "\n",
    "        # get user and playlist_id from uri\n",
    "        (_,_,user,_,playlist_id) = playlist[\"uri\"].split(\":\")\n",
    "\n",
    "        # retrieve playlist metadat from Spotify\n",
    "        playlist_metadata = spotify_client.user_playlist(user        = user,\n",
    "                                                         playlist_id = playlist_id)\n",
    "\n",
    "        # extract relevant information\n",
    "        playlist[\"user\"]        = user\n",
    "        playlist[\"playlist_id\"] = playlist_id\n",
    "        playlist[\"num_tracks\"]  = playlist_metadata[\"tracks\"][\"total\"]\n",
    "\n",
    "        # initialize fields for further processing\n",
    "        playlist[\"track_ids\"]   = []\n",
    "        \n",
    "    return playlists"
   ]
  },
  {
   "cell_type": "markdown",
   "metadata": {},
   "source": [
    "Run the function to get the data"
   ]
  },
  {
   "cell_type": "code",
   "execution_count": 7,
   "metadata": {},
   "outputs": [],
   "source": [
    "playlists = get_playlist_metadata(sp, playlists)"
   ]
  },
  {
   "cell_type": "markdown",
   "metadata": {},
   "source": [
    "**Size of our dataset**\n",
    "\n",
    "Now we can already estimate the approximate size of our data-set. The set might contain duplicate tracks from overlapping playlists. Those are removed later on."
   ]
  },
  {
   "cell_type": "code",
   "execution_count": 8,
   "metadata": {},
   "outputs": [
    {
     "data": {
      "image/png": "[encoded data removed]",
      "text/plain": [
       "<matplotlib.figure.Figure at 0x7feaa01b4780>"
      ]
     },
     "metadata": {},
     "output_type": "display_data"
    }
   ],
   "source": [
    "playlist_sizes = pd.DataFrame(data  = [playlist[\"num_tracks\"] for playlist in playlists],\n",
    "                              index = [playlist[\"name\"] for playlist in playlists])\n",
    "\n",
    "playlist_sizes.sort_values(0,ascending=False).plot(kind='bar', figsize=(10,4), legend=False);"
   ]
  },
  {
   "cell_type": "code",
   "execution_count": 9,
   "metadata": {},
   "outputs": [
    {
     "data": {
      "text/plain": [
       "1078"
      ]
     },
     "execution_count": 9,
     "metadata": {},
     "output_type": "execute_result"
    }
   ],
   "source": [
    "# Total number of tracks (including duplicates - will be removed later on)\n",
    "int(playlist_sizes.sum())"
   ]
  },
  {
   "cell_type": "markdown",
   "metadata": {},
   "source": [
    "### Get track-ids of all playlist entries\n",
    "\n",
    "To download meta- and feature-data for tracks, we need to fetch the playlist entries."
   ]
  },
  {
   "cell_type": "code",
   "execution_count": 10,
   "metadata": {},
   "outputs": [],
   "source": [
    "def get_track_ids(sp, playlists):\n",
    "\n",
    "    # max Spotify batch size\n",
    "    batch_size = 100\n",
    "\n",
    "    # retrieve tracks for each playlist\n",
    "    for playlist in playlists:\n",
    "\n",
    "        # batch processing\n",
    "        for offset in np.arange(0, playlist[\"num_tracks\"], batch_size):\n",
    "\n",
    "            limit = np.min([batch_size, playlist[\"num_tracks\"] - offset])\n",
    "\n",
    "            playlist_entries = sp.user_playlist_tracks(user        = playlist[\"user\"],\n",
    "                                                       playlist_id = playlist[\"playlist_id\"], \n",
    "                                                       limit       = limit, \n",
    "                                                       offset      = offset,\n",
    "                                                       fields      = [\"items\"])\n",
    "\n",
    "            playlist[\"track_ids\"].extend([entry[\"track\"][\"id\"] for entry in playlist_entries[\"items\"]])\n",
    "            \n",
    "    return playlists"
   ]
  },
  {
   "cell_type": "markdown",
   "metadata": {},
   "source": [
    "Run the function to get the data"
   ]
  },
  {
   "cell_type": "code",
   "execution_count": 11,
   "metadata": {},
   "outputs": [],
   "source": [
    "playlists = get_track_ids(sp, playlists)"
   ]
  },
  {
   "cell_type": "markdown",
   "metadata": {},
   "source": [
    "### Fetch data and features from Spotify\n",
    "\n",
    "Now it's time to download the dat for our tracks.\n",
    "\n",
    "The features provided by the Spotify API were extracted using the *Echonest Analyzer*. This is a music audio analysis tool developed by the music analysis company the Echonest which was aquired by Spotify in 2014. Music metadata returned by the Analyzer includes artist information (name, user applied tags including weights and term frequencies, a list of similar artists), album information (name, year) and song information (title). Additionally a set of identifiers is provided that can be used to access complimentary metadata repositories (e.g. musicbrainz\\footnote{http://musicbrainz.org}, playme\\footnote{http://www.playme.com},7digital)."
   ]
  },
  {
   "cell_type": "markdown",
   "metadata": {},
   "source": [
    "#### Caching with joblib\n",
    "\n",
    "We will use caching to locally store retrieved data. This is on the one hand a requirement of the API and on the other it speeds up processing when we reload the notebook. *joblib* is a convenient library which simplifies caching.\n",
    "\n",
    "*Update the cachdir to an appropriate path in the following cell*"
   ]
  },
  {
   "cell_type": "code",
   "execution_count": 12,
   "metadata": {
    "ExecuteTime": {
     "end_time": "2017-08-24T10:20:32.875000Z",
     "start_time": "2017-08-24T10:20:32.870000Z"
    }
   },
   "outputs": [],
   "source": [
    "from joblib import Memory\n",
    "\n",
    "memory = Memory(cachedir='/home/schindler/tmp/spotify/', verbose=0)"
   ]
  },
  {
   "cell_type": "markdown",
   "metadata": {},
   "source": [
    "The following method retrieves meta-data, sequential features such as *MFCCs* and *Chroma*, and track-level features such as *Dancability*. The *@memory.cache* annotation tells *joblib* to persist all return values for the supplied parameters."
   ]
  },
  {
   "cell_type": "code",
   "execution_count": 13,
   "metadata": {},
   "outputs": [],
   "source": [
    "@memory.cache\n",
    "def get_spotify_data(track_id):\n",
    "    \n",
    "    # meta-data\n",
    "    track_metadata      = sp.track(track_id)\n",
    "    album_metadata      = sp.album(track_metadata[\"album\"][\"id\"])\n",
    "    artist_metadata     = sp.artist(track_metadata[\"artists\"][0][\"id\"])\n",
    "    \n",
    "    # feature-data\n",
    "    sequential_features = sp.audio_analysis(track_id)\n",
    "    trackbased_features = sp.audio_features([track_id])\n",
    "    \n",
    "    return track_metadata, album_metadata, artist_metadata, sequential_features, trackbased_features"
   ]
  },
  {
   "cell_type": "markdown",
   "metadata": {},
   "source": [
    "**Retrieving data for all tracks**\n",
    "\n",
    "The following loop downloads meta- and feature-data for all tracks. The *processed_track_ids* list is used to avoid duplicated entries. Be aware that downloading a lot of tracks could take some time. Processing 1.000 tracks may take about 15 to 30 minutes."
   ]
  },
  {
   "cell_type": "code",
   "execution_count": 14,
   "metadata": {},
   "outputs": [],
   "source": [
    "def download_track_data(sp, playlists):\n",
    "\n",
    "    num_tracks_total = np.sum([playlist[\"num_tracks\"] for playlist in playlists])\n",
    "    \n",
    "    pbar = progressbar.ProgressBar(max_value=num_tracks_total)\n",
    "    pbar.start()\n",
    "\n",
    "    raw_track_data      = []\n",
    "    processed_track_ids = []\n",
    "\n",
    "    for playlist in playlists:\n",
    "\n",
    "        for track_id in playlist[\"track_ids\"]:\n",
    "\n",
    "            try:\n",
    "                # avoid duplicates in the data-set\n",
    "                if track_id not in processed_track_ids:\n",
    "\n",
    "                    # retrieve data from Spotify\n",
    "                    spotify_data = get_spotify_data(track_id)\n",
    "\n",
    "                    raw_track_data.append([playlist[\"name\"], spotify_data])\n",
    "                    processed_track_ids.append(track_id)\n",
    "\n",
    "            except Exception as e:\n",
    "                print(e)\n",
    "\n",
    "            pbar.update(len(raw_track_data))\n",
    "            \n",
    "    return raw_track_data"
   ]
  },
  {
   "cell_type": "markdown",
   "metadata": {},
   "source": [
    "Run the function to get the data"
   ]
  },
  {
   "cell_type": "code",
   "execution_count": 15,
   "metadata": {},
   "outputs": [
    {
     "name": "stderr",
     "output_type": "stream",
     "text": [
      " 98% (1059 of 1078) |#################### | Elapsed Time: 0:02:12 ETA:  0:00:03"
     ]
    }
   ],
   "source": [
    "raw_track_data = download_track_data(sp, playlists)"
   ]
  },
  {
   "cell_type": "markdown",
   "metadata": {},
   "source": [
    "# Aggregate data\n",
    "\n",
    "Currently we only have a list of raw data-objects retrieved from the Spotify API. We need to transform this information to a more structured format."
   ]
  },
  {
   "cell_type": "markdown",
   "metadata": {},
   "source": [
    "## Aggregate Meta-data\n",
    "\n",
    "First we aggregate the meta-data. All relevant information is stored in a dataframe."
   ]
  },
  {
   "cell_type": "code",
   "execution_count": 16,
   "metadata": {},
   "outputs": [],
   "source": [
    "def aggregate_metadata(raw_track_data):\n",
    "\n",
    "    metadata = []\n",
    "\n",
    "    for playlist_name, spotify_data in raw_track_data:\n",
    "\n",
    "        track_metadata, album_metadata, artist_metadata, _, _ = spotify_data\n",
    "\n",
    "        # get year of album release\n",
    "        release_date = album_metadata[\"release_date\"]\n",
    "\n",
    "        if album_metadata[\"release_date_precision\"] != \"year\":\n",
    "            release_date = release_date.split(\"-\")[0]\n",
    "\n",
    "        # assamble metadata\n",
    "        metadata.append([track_metadata[\"id\"],\n",
    "                         artist_metadata[\"name\"], \n",
    "                         track_metadata[\"name\"], \n",
    "                         album_metadata[\"name\"],\n",
    "                         album_metadata[\"label\"],\n",
    "                         track_metadata[\"duration_ms\"],\n",
    "                         track_metadata[\"popularity\"],\n",
    "                         release_date,\n",
    "                         artist_metadata[\"genres\"], \n",
    "                         playlist_name])\n",
    "\n",
    "    metadata = pd.DataFrame(metadata, columns=[\"track_id\", \"artist_name\", \"title\", \"album_name\", \n",
    "                                               \"label\", \"duration\", \"popularity\",  \"year\",  \"genres\", \n",
    "                                               \"playlist\"])\n",
    "    \n",
    "    return metadata"
   ]
  },
  {
   "cell_type": "code",
   "execution_count": 17,
   "metadata": {},
   "outputs": [],
   "source": [
    "metadata = aggregate_metadata(raw_track_data)"
   ]
  },
  {
   "cell_type": "markdown",
   "metadata": {},
   "source": [
    "Here an example of the aggregated meta-data:"
   ]
  },
  {
   "cell_type": "code",
   "execution_count": 18,
   "metadata": {},
   "outputs": [
    {
     "data": {
      "text/html": [
       "<div>\n",
       "<style scoped>\n",
       "    .dataframe tbody tr th:only-of-type {\n",
       "        vertical-align: middle;\n",
       "    }\n",
       "\n",
       "    .dataframe tbody tr th {\n",
       "        vertical-align: top;\n",
       "    }\n",
       "\n",
       "    .dataframe thead th {\n",
       "        text-align: right;\n",
       "    }\n",
       "</style>\n",
       "<table border=\"1\" class=\"dataframe\">\n",
       "  <thead>\n",
       "    <tr style=\"text-align: right;\">\n",
       "      <th></th>\n",
       "      <th>track_id</th>\n",
       "      <th>artist_name</th>\n",
       "      <th>title</th>\n",
       "      <th>album_name</th>\n",
       "      <th>label</th>\n",
       "      <th>duration</th>\n",
       "      <th>popularity</th>\n",
       "      <th>year</th>\n",
       "      <th>genres</th>\n",
       "      <th>playlist</th>\n",
       "    </tr>\n",
       "  </thead>\n",
       "  <tbody>\n",
       "    <tr>\n",
       "      <th>864</th>\n",
       "      <td>6T8cJz5lAqGer9GUHGyelE</td>\n",
       "      <td>Drake</td>\n",
       "      <td>God's Plan</td>\n",
       "      <td>Scary Hours</td>\n",
       "      <td>Universal Music Group</td>\n",
       "      <td>198960</td>\n",
       "      <td>100</td>\n",
       "      <td>2018</td>\n",
       "      <td>[canadian pop, hip hop, pop rap, rap]</td>\n",
       "      <td>hiphop</td>\n",
       "    </tr>\n",
       "    <tr>\n",
       "      <th>105</th>\n",
       "      <td>6tHWl8ows5JOZq9Yfaqn3M</td>\n",
       "      <td>Bazzi</td>\n",
       "      <td>Mine</td>\n",
       "      <td>Mine</td>\n",
       "      <td>ZZZ Entertainment</td>\n",
       "      <td>133994</td>\n",
       "      <td>99</td>\n",
       "      <td>2017</td>\n",
       "      <td>[]</td>\n",
       "      <td>softpop</td>\n",
       "    </tr>\n",
       "    <tr>\n",
       "      <th>863</th>\n",
       "      <td>4qKcDkK6siZ7Jp1Jb4m0aL</td>\n",
       "      <td>BlocBoy JB</td>\n",
       "      <td>Look Alive (feat. Drake)</td>\n",
       "      <td>Look Alive (feat. Drake)</td>\n",
       "      <td>OVO Sound/Warner Bros.</td>\n",
       "      <td>181263</td>\n",
       "      <td>98</td>\n",
       "      <td>2018</td>\n",
       "      <td>[rap, southern hip hop, trap music]</td>\n",
       "      <td>hiphop</td>\n",
       "    </tr>\n",
       "    <tr>\n",
       "      <th>865</th>\n",
       "      <td>7wrDRQgHlvDnimrRHfQZxt</td>\n",
       "      <td>Post Malone</td>\n",
       "      <td>Psycho (feat. Ty Dolla $ign)</td>\n",
       "      <td>Psycho (feat. Ty Dolla $ign)</td>\n",
       "      <td>Universal Music Group</td>\n",
       "      <td>220880</td>\n",
       "      <td>95</td>\n",
       "      <td>2018</td>\n",
       "      <td>[pop, rap]</td>\n",
       "      <td>hiphop</td>\n",
       "    </tr>\n",
       "    <tr>\n",
       "      <th>868</th>\n",
       "      <td>35ieKju5aLWFN5UgfJ27mL</td>\n",
       "      <td>XXXTENTACION</td>\n",
       "      <td>SAD!</td>\n",
       "      <td>SAD!</td>\n",
       "      <td>Bad Vibes Forever, LLC</td>\n",
       "      <td>166568</td>\n",
       "      <td>94</td>\n",
       "      <td>2018</td>\n",
       "      <td>[]</td>\n",
       "      <td>hiphop</td>\n",
       "    </tr>\n",
       "  </tbody>\n",
       "</table>\n",
       "</div>"
      ],
      "text/plain": [
       "                   track_id   artist_name                         title  \\\n",
       "864  6T8cJz5lAqGer9GUHGyelE         Drake                    God's Plan   \n",
       "105  6tHWl8ows5JOZq9Yfaqn3M         Bazzi                          Mine   \n",
       "863  4qKcDkK6siZ7Jp1Jb4m0aL    BlocBoy JB      Look Alive (feat. Drake)   \n",
       "865  7wrDRQgHlvDnimrRHfQZxt   Post Malone  Psycho (feat. Ty Dolla $ign)   \n",
       "868  35ieKju5aLWFN5UgfJ27mL  XXXTENTACION                          SAD!   \n",
       "\n",
       "                       album_name                   label  duration  \\\n",
       "864                   Scary Hours   Universal Music Group    198960   \n",
       "105                          Mine       ZZZ Entertainment    133994   \n",
       "863      Look Alive (feat. Drake)  OVO Sound/Warner Bros.    181263   \n",
       "865  Psycho (feat. Ty Dolla $ign)   Universal Music Group    220880   \n",
       "868                          SAD!  Bad Vibes Forever, LLC    166568   \n",
       "\n",
       "     popularity  year                                 genres playlist  \n",
       "864         100  2018  [canadian pop, hip hop, pop rap, rap]   hiphop  \n",
       "105          99  2017                                     []  softpop  \n",
       "863          98  2018    [rap, southern hip hop, trap music]   hiphop  \n",
       "865          95  2018                             [pop, rap]   hiphop  \n",
       "868          94  2018                                     []   hiphop  "
      ]
     },
     "execution_count": 18,
     "metadata": {},
     "output_type": "execute_result"
    }
   ],
   "source": [
    "metadata.sort_values(\"popularity\", ascending=False).head()"
   ]
  },
  {
   "cell_type": "markdown",
   "metadata": {},
   "source": [
    "## Aggregate Feature Data\n",
    "\n",
    "\n",
    "Further information provided by the Spotify API is based on audio signal analysis. Two major sets of audio features are provided describing timbre and pitch information of the corresponding music track. The features are extracted using onset detection to segment the audio based on music events. These *Segments* are described as sound entities that are relative uniform in timbre and harmony and are the basis for further feature extraction. For each *Segment* the following features are derived from musical audio signals:\n",
    "\n",
    "* **Segments Timbre** are casually described as MFCC-like features. A 12 dimensional vector with unbounded values centered around 0 representing a high level abstraction of the spectral surface.\n",
    "* **Segments Pitches** are casually described as Chroma-like features. A normalized 12 dimensional vector ranging from 0 to 1 corresponding to the 12 pitch classes C, C#, to B.\n",
    "* **Segments Loudness Max** represents the peak loudness value within each segment.\n",
    "* **Segments Loudness Max Time** describes the offset within the segment of the point of maximum loudness.\n",
    "* **Segments Start** provide start time information of each segment/onset.\n",
    "\n",
    "Additionally a set of high-level features provided on a global track-level:\n",
    "\n",
    "* **Tempo** measured in beats per minute\n",
    "* **Time Signature** three or four quater stroke\n",
    "* **Danceability** a value between 0 and 1 measuring of how danceable this song is \n",
    "* **Energy** a value between 0 and 1 measuring the perceived energy of a song\n",
    "* **acousticness** does the track only use acoustic instruments?\n",
    "* **danceability** can you dance to this track?\n",
    "* **instrumentalnes** is there somebody singing?\n",
    "* **liveness** live or studio version?\n",
    "* **speechiness** rap music or singing?\n",
    "* **valence** aggressive or calm?\n",
    "\n",
    "I performed a detailed evaluation of the Echonest Feature-sets and how to effectively aggregate the provided information for Music Information Retrieval Experiments on the Million Song Dataset. The results are published in the following article:\n",
    "\n",
    "* *Alexander Schindler and Andreas Rauber. [Capturing the temporal domain in echonest features for improved classification effectiveness](http://www.ifs.tuwien.ac.at/%7Eschindler/pubs/AMR2012.pdf). In Adaptive Multimedia Retrieval, Lecture Notes in Computer Science, Copenhagen, Denmark, October 24-25 2012. Springer.*\n",
    "\n",
    "### Single Vector Representation\n",
    "\n",
    "The simlarity retrieval approach presented in this tutorial is based on a vector-space model where each track is represented of a single fixed-length feature vector. The segment-based features provided by the Spotify API are lists of feature vectors of varying lengths. Thus, these features need to be aggregated into a single feature vector. The following function describes a simple approach to do so:"
   ]
  },
  {
   "cell_type": "code",
   "execution_count": 19,
   "metadata": {
    "ExecuteTime": {
     "end_time": "2017-08-24T12:58:50.844000Z",
     "start_time": "2017-08-24T12:58:50.830000Z"
    }
   },
   "outputs": [],
   "source": [
    "def aggregate_features(seq_data, track_data, metadata, with_year=False, with_popularity=False):\n",
    "\n",
    "    calc_statistical_moments = lambda x: np.concatenate([x.mean(axis=0), x.std(axis=0)])\n",
    "    \n",
    "    # sequential data\n",
    "    segments = seq_data[\"segments\"]\n",
    "    sl       = len(segments)\n",
    "    \n",
    "    # MFCCs - 24 dimensions\n",
    "    mfcc              = np.array([s[\"timbre\"] for s in segments])\n",
    "    mfcc              = calc_statistical_moments(mfcc)\n",
    "    \n",
    "    # Chroma / pitch classes - 24 dimensions\n",
    "    chroma            = np.array([s[\"pitches\"] for s in segments])\n",
    "    chroma            = calc_statistical_moments(chroma)\n",
    "    \n",
    "    # maximum loudness values per segment - 2 dimensions\n",
    "    loudness_max      = np.array([s[\"loudness_max\"] for s in segments]).reshape((sl,1))\n",
    "    loudness_max      = calc_statistical_moments(loudness_max)\n",
    "    \n",
    "    # offset of max loudness value within segment - 2 dimensions\n",
    "    loudness_start    = np.array([s[\"loudness_start\"] for s in segments]).reshape((sl,1))\n",
    "    loudness_start    = calc_statistical_moments(loudness_start)\n",
    "    \n",
    "    # length of max loudness values within segment - 2 dimensions\n",
    "    loudness_max_time = np.array([s[\"loudness_max_time\"] for s in segments]).reshape((sl,1))\n",
    "    loudness_max_time = calc_statistical_moments(loudness_max_time)\n",
    "    \n",
    "    # length of segment - 2 dimensions\n",
    "    duration          = np.array([s[\"duration\"] for s in segments]).reshape((sl,1))\n",
    "    duration          = calc_statistical_moments(duration)\n",
    "    \n",
    "    # confidence of segment boundary detection - 2 dimensions\n",
    "    confidence        = np.array([s[\"confidence\"] for s in segments]).reshape((sl,1))\n",
    "    confidence        = calc_statistical_moments(confidence)\n",
    "    \n",
    "    # concatenate sequential features\n",
    "    sequential_features = np.concatenate([mfcc, chroma, loudness_max, loudness_start, \n",
    "                                          loudness_max_time, duration, confidence], axis=0)\n",
    "    \n",
    "    # track-based data\n",
    "    track_features = [track_data[0][\"acousticness\"],     # acoustic or not?\n",
    "                      track_data[0][\"danceability\"],     # danceable?\n",
    "                      track_data[0][\"energy\"],           # energetic or calm?\n",
    "                      track_data[0][\"instrumentalness\"], # is somebody singing?\n",
    "                      track_data[0][\"liveness\"],         # live or studio?\n",
    "                      track_data[0][\"speechiness\"],      # rap or singing?\n",
    "                      track_data[0][\"tempo\"],            # slow or fast?\n",
    "                      track_data[0][\"time_signature\"],   # 3/4, 4/4, 6/8, etc.\n",
    "                      track_data[0][\"valence\"]]          # happy or sad?\n",
    "    \n",
    "    if with_year:\n",
    "        track_features.append(int(metadata[\"year\"]))\n",
    "        \n",
    "    if with_popularity:\n",
    "        track_features.append(int(metadata[\"popularity\"]))\n",
    "        \n",
    "    \n",
    "    return np.concatenate([sequential_features, track_features], axis=0)"
   ]
  },
  {
   "cell_type": "markdown",
   "metadata": {},
   "source": [
    "Afgregate all features of the downloaded data"
   ]
  },
  {
   "cell_type": "code",
   "execution_count": 20,
   "metadata": {},
   "outputs": [],
   "source": [
    "def aggregate_featuredata(raw_track_data):\n",
    "\n",
    "    feature_data = []\n",
    "\n",
    "    for i, (_, spotify_data) in enumerate(raw_track_data):\n",
    "\n",
    "        _, _, _, f_sequential, f_trackbased = spotify_data\n",
    "\n",
    "        feature_vec = aggregate_features(f_sequential, \n",
    "                                         f_trackbased, \n",
    "                                         metadata.iloc[i], \n",
    "                                         with_year       = True, \n",
    "                                         with_popularity = True)    \n",
    "\n",
    "        feature_data.append(feature_vec)\n",
    "\n",
    "    return np.asarray(feature_data)"
   ]
  },
  {
   "cell_type": "code",
   "execution_count": 21,
   "metadata": {
    "ExecuteTime": {
     "end_time": "2017-08-24T10:38:34.716000Z",
     "start_time": "2017-08-24T10:38:34.703000Z"
    }
   },
   "outputs": [
    {
     "name": "stdout",
     "output_type": "stream",
     "text": [
      "feature_data.shape: (1060, 69)\n"
     ]
    }
   ],
   "source": [
    "feature_data = aggregate_featuredata(raw_track_data)\n",
    "\n",
    "print(\"feature_data.shape:\", feature_data.shape)"
   ]
  },
  {
   "cell_type": "markdown",
   "metadata": {},
   "source": [
    "### Normalize feature data\n",
    "\n",
    "The feature vectors are composed of differnt feature-sets. All of them with different value ranges. While features such as Acousticness and Danceability are scaled between 0 and 1, the BPM values of the tempo feature ranges around 120 or higher. We apply Standard Score or Zero Mean and Unit Variance normalization to uniformly scale the value ranges of the features.\n",
    "\n",
    "$$\n",
    "z = {x- \\mu \\over \\sigma}\n",
    "$$"
   ]
  },
  {
   "cell_type": "code",
   "execution_count": 22,
   "metadata": {},
   "outputs": [],
   "source": [
    "# standardize sequential_features\n",
    "feature_data -= feature_data.mean(axis=0)\n",
    "feature_data /= feature_data.std(axis=0)"
   ]
  },
  {
   "cell_type": "markdown",
   "metadata": {},
   "source": [
    "# Calculate Similarities\n",
    "\n",
    "This section describes the fundamentals of the content-based audio similarity search approach followed in this tutorial. Audio features are descriptive numbers calculated from the audio spectrum of a track. A good example is the Spectral Centroid, which can be interpreted as the center of gravity of an audio recording. It describes the average frequency weighted by its intensity and distinguishes brighter from darker sounds. Such features are usually calculated for several intervals of a track and finally aggregated into a single vector representation. The latter step, which is a requirement for many machine/statistical learning tasks, is accomplished by calculating statistical measures such as mean, standard deviation, etc.\n",
    "\n",
    "In the following example, the Spectral Centroids of 10 different tracks are provided using their mean and standard deviation aggregations. Thus, the Spectral Centroid feature(-set) is represented by a two-dimensional feature vector such as the following example:\n",
    "\n",
    "    ID   Mean                  Standard Deviation\n",
    "    0    1517.5993814237531    291.1855836731788\n",
    "\n",
    "In this example the center frequency is 1518 Hz and it deviates by 291 Hz. These numbers already describe the audio content and can be used to find similar tracks. The common approach to calcualte music similarity from audio content is based on vector difference. The assumption is, that similar audio feature-values correspond with similar audio content. Thus, feature vectors with smaller vector differences correspond to more similar tracks. The following data represents the extracted Spectral Centroids of our 10-tracks collection:\n",
    "\n",
    "\n",
    "    ID   Mean                  Standard Deviation\n",
    "    0    1517.5993814237531    291.1855836731788\n",
    "    1    1659.1988993873124    327.64811981777865\n",
    "    2    1507.4617047141264    340.8830079395701\n",
    "    3    1597.6019371942953    507.1007933367403\n",
    "    4    1498.8531206911534    288.3780838480238\n",
    "    5    535.5910732230583     89.90893994909047\n",
    "    6    2261.4032345595674    353.5971736260454\n",
    "    7    2331.881852844861     406.33517225264194\n",
    "    8    1868.690426450363     342.7489751514078\n",
    "    9    2204.6324484864085    328.94334883095553\n",
    "\n",
    "The tracks have unique identifiers and we are using the track with ID 5 to search for similar items. This step requires a similarity metric, which defines how the vector distance has to be calculated as a single numeric value. The most common choices are the Manhattan (L1) and Euclidean (L2) distance measures. The Euclidean Distance is the square root of the sum of squared differences of two vectors.\n",
    "To calculate the Euclidean Distance between track 5 and track 0:\n",
    "\n",
    "    ID   Mean                  Standard Deviation\n",
    "    0    1517.5993814237531    291.1855836731788\n",
    "    5    535.5910732230583     89.90893994909047\n",
    "\n",
    "we first compute the difference between the values of each vectors\n",
    "\n",
    "    982.008308           201.276644\n",
    "\n",
    "square them to get the absolute magnitude:\n",
    "\n",
    "    964340.317375        40512.287309\n",
    "\n",
    "and take the sum of these values:\n",
    "\n",
    "    1004852.6046840245\n",
    "\n",
    "Per definition the square root has to be calculated from the sum, but this step is normally skipped because it does not alter the ranking and is processing intensive. By calculating the distance for all items in the collection, we retrieve a list of distance values where the smaller distances correspond to more similar audio content and the higher values should sound more dissimilar.\n",
    "\n",
    "    ID   Distance\n",
    "    0    1004852.6046840245\n",
    "    1    1319014.4646621975\n",
    "    2    1007520.5071585375\n",
    "    3    1301916.1177259558\n",
    "    4    967263.7731724023\n",
    "    5    0.0\n",
    "    6    3047959.100796666\n",
    "    7    3326786.1254441254\n",
    "    8    1841081.968976167\n",
    "    9    2842836.5609704787\n",
    "\n",
    "To retrieve a ranked list of similar sounding tracks, the list of vector distances has to be ordered ascendingly.\n",
    "\n",
    "    ID   Distance\n",
    "    5    0.0\n",
    "    4    967263.7731724023\n",
    "    0    1004852.6046840245\n",
    "    2    1007520.5071585375\n",
    "    3    1301916.1177259558\n",
    "    1    1319014.4646621975\n",
    "    8    1841081.968976167\n",
    "    9    2842836.5609704787\n",
    "    6    3047959.100796666\n",
    "    7    3326786.1254441254\n",
    "\n",
    "This so called vector space model is predominant in content based multimedia retrieval. The most crucial and problematic part is feature crafting, meaning that in the case in which the extracted numbers do not describe the audio well enough, the vector based similarity will also fail to provide results that are perceived as similar.\n",
    "The described approach requires the availability of all feature vectors of all items of a collection. Thus, the feature vectors must be stored. No matter which retrieval approach (pre-calculated / indexed / on demand) will be chosen, all features will be required at a certain time. Given that the feature extraction is an computationally expensive task (in terms of processing resources and total time), the extracted features are stored and made accessible using a common data format.\n"
   ]
  },
  {
   "cell_type": "markdown",
   "metadata": {},
   "source": [
    "### Euclidean Distance\n",
    "\n",
    "In the final part of this tutorial we wil use the Euclidean Distance to calculate similarities between tracks. As mentioned above, the Euclidean Distance is a metric to calculate the distance between two vectors and thus is a function of dissimilarity. This means, vectors with smaller distance values are more similar than those with higher distances.\n",
    "\n",
    "$$\n",
    "d(p,q) = \\sqrt{\\sum_{i=1}^n (q_i-p_i)^2}\n",
    "$$\n"
   ]
  },
  {
   "cell_type": "code",
   "execution_count": 23,
   "metadata": {},
   "outputs": [],
   "source": [
    "def eucledian_distance(feature_space, query_vector):\n",
    "    \n",
    "    return np.sqrt(np.sum((feature_space - query_vector)**2, axis=1))"
   ]
  },
  {
   "cell_type": "markdown",
   "metadata": {
    "collapsed": true
   },
   "source": [
    "For the rest of the tutorial we will use this song to demonstrate the results of the approach:"
   ]
  },
  {
   "cell_type": "code",
   "execution_count": 24,
   "metadata": {},
   "outputs": [
    {
     "data": {
      "text/html": [
       "<div>\n",
       "<style scoped>\n",
       "    .dataframe tbody tr th:only-of-type {\n",
       "        vertical-align: middle;\n",
       "    }\n",
       "\n",
       "    .dataframe tbody tr th {\n",
       "        vertical-align: top;\n",
       "    }\n",
       "\n",
       "    .dataframe thead th {\n",
       "        text-align: right;\n",
       "    }\n",
       "</style>\n",
       "<table border=\"1\" class=\"dataframe\">\n",
       "  <thead>\n",
       "    <tr style=\"text-align: right;\">\n",
       "      <th></th>\n",
       "      <th>track_id</th>\n",
       "      <th>artist_name</th>\n",
       "      <th>title</th>\n",
       "      <th>album_name</th>\n",
       "      <th>label</th>\n",
       "      <th>duration</th>\n",
       "      <th>popularity</th>\n",
       "      <th>year</th>\n",
       "      <th>genres</th>\n",
       "      <th>playlist</th>\n",
       "    </tr>\n",
       "  </thead>\n",
       "  <tbody>\n",
       "    <tr>\n",
       "      <th>33</th>\n",
       "      <td>637McrDyDQ9CffkFuZGRpq</td>\n",
       "      <td>KSHMR</td>\n",
       "      <td>Kolkata</td>\n",
       "      <td>Kolkata</td>\n",
       "      <td>Dharma</td>\n",
       "      <td>206250</td>\n",
       "      <td>54</td>\n",
       "      <td>2017</td>\n",
       "      <td>[big room, deep big room, edm, electro house, ...</td>\n",
       "      <td>clubbeats</td>\n",
       "    </tr>\n",
       "  </tbody>\n",
       "</table>\n",
       "</div>"
      ],
      "text/plain": [
       "                  track_id artist_name    title album_name   label  duration  \\\n",
       "33  637McrDyDQ9CffkFuZGRpq       KSHMR  Kolkata    Kolkata  Dharma    206250   \n",
       "\n",
       "    popularity  year                                             genres  \\\n",
       "33          54  2017  [big room, deep big room, edm, electro house, ...   \n",
       "\n",
       "     playlist  \n",
       "33  clubbeats  "
      ]
     },
     "execution_count": 24,
     "metadata": {},
     "output_type": "execute_result"
    }
   ],
   "source": [
    "query_track_idx = 33\n",
    "\n",
    "metadata.loc[[query_track_idx]]"
   ]
  },
  {
   "cell_type": "markdown",
   "metadata": {},
   "source": [
    "The following lines of code implement the approach described above. First, the distances between the query vector and all other vectors of the collection are calculated. Then the distances are sorted ascnedingly to get the simlar tracks. Because the metric distance of identical vectors is 0, the top-most entry of the sorted list is always the query track."
   ]
  },
  {
   "cell_type": "code",
   "execution_count": 25,
   "metadata": {},
   "outputs": [
    {
     "data": {
      "text/html": [
       "<div>\n",
       "<style scoped>\n",
       "    .dataframe tbody tr th:only-of-type {\n",
       "        vertical-align: middle;\n",
       "    }\n",
       "\n",
       "    .dataframe tbody tr th {\n",
       "        vertical-align: top;\n",
       "    }\n",
       "\n",
       "    .dataframe thead th {\n",
       "        text-align: right;\n",
       "    }\n",
       "</style>\n",
       "<table border=\"1\" class=\"dataframe\">\n",
       "  <thead>\n",
       "    <tr style=\"text-align: right;\">\n",
       "      <th></th>\n",
       "      <th>artist_name</th>\n",
       "      <th>title</th>\n",
       "      <th>album_name</th>\n",
       "      <th>year</th>\n",
       "      <th>playlist</th>\n",
       "    </tr>\n",
       "  </thead>\n",
       "  <tbody>\n",
       "    <tr>\n",
       "      <th>33</th>\n",
       "      <td>KSHMR</td>\n",
       "      <td>Kolkata</td>\n",
       "      <td>Kolkata</td>\n",
       "      <td>2017</td>\n",
       "      <td>clubbeats</td>\n",
       "    </tr>\n",
       "    <tr>\n",
       "      <th>29</th>\n",
       "      <td>JACKHAD</td>\n",
       "      <td>Get Money - Radio Edit</td>\n",
       "      <td>Get Money</td>\n",
       "      <td>2018</td>\n",
       "      <td>clubbeats</td>\n",
       "    </tr>\n",
       "    <tr>\n",
       "      <th>49</th>\n",
       "      <td>Calvin Logue</td>\n",
       "      <td>Warrior</td>\n",
       "      <td>Warrior EP</td>\n",
       "      <td>2018</td>\n",
       "      <td>clubbeats</td>\n",
       "    </tr>\n",
       "    <tr>\n",
       "      <th>22</th>\n",
       "      <td>Maeva Carter</td>\n",
       "      <td>Escape</td>\n",
       "      <td>Escape</td>\n",
       "      <td>2018</td>\n",
       "      <td>clubbeats</td>\n",
       "    </tr>\n",
       "    <tr>\n",
       "      <th>16</th>\n",
       "      <td>Hardwell</td>\n",
       "      <td>Get Low</td>\n",
       "      <td>Get Low</td>\n",
       "      <td>2018</td>\n",
       "      <td>clubbeats</td>\n",
       "    </tr>\n",
       "    <tr>\n",
       "      <th>13</th>\n",
       "      <td>James Hype</td>\n",
       "      <td>More Than Friends (feat. Kelli-Leigh)</td>\n",
       "      <td>More Than Friends (feat. Kelli-Leigh)</td>\n",
       "      <td>2017</td>\n",
       "      <td>clubbeats</td>\n",
       "    </tr>\n",
       "    <tr>\n",
       "      <th>285</th>\n",
       "      <td>What So Not</td>\n",
       "      <td>Beautiful</td>\n",
       "      <td>Beautiful</td>\n",
       "      <td>2018</td>\n",
       "      <td>electropop</td>\n",
       "    </tr>\n",
       "    <tr>\n",
       "      <th>945</th>\n",
       "      <td>The Offspring</td>\n",
       "      <td>Why Don't You Get A Job</td>\n",
       "      <td>Americana</td>\n",
       "      <td>1998</td>\n",
       "      <td>poppunk</td>\n",
       "    </tr>\n",
       "    <tr>\n",
       "      <th>681</th>\n",
       "      <td>Parkway Drive</td>\n",
       "      <td>Wishing Wells</td>\n",
       "      <td>Wishing Wells</td>\n",
       "      <td>2018</td>\n",
       "      <td>metalcore</td>\n",
       "    </tr>\n",
       "    <tr>\n",
       "      <th>11</th>\n",
       "      <td>Rave Radio</td>\n",
       "      <td>Turn Me Out - Radio Edit</td>\n",
       "      <td>Turn Me Out</td>\n",
       "      <td>2016</td>\n",
       "      <td>clubbeats</td>\n",
       "    </tr>\n",
       "    <tr>\n",
       "      <th>311</th>\n",
       "      <td>The Wild</td>\n",
       "      <td>Heaven Is A Place On Earth</td>\n",
       "      <td>Heaven Is A Place On Earth</td>\n",
       "      <td>2017</td>\n",
       "      <td>electropop</td>\n",
       "    </tr>\n",
       "  </tbody>\n",
       "</table>\n",
       "</div>"
      ],
      "text/plain": [
       "       artist_name                                  title  \\\n",
       "33           KSHMR                                Kolkata   \n",
       "29         JACKHAD                 Get Money - Radio Edit   \n",
       "49    Calvin Logue                                Warrior   \n",
       "22    Maeva Carter                                 Escape   \n",
       "16        Hardwell                                Get Low   \n",
       "13      James Hype  More Than Friends (feat. Kelli-Leigh)   \n",
       "285    What So Not                              Beautiful   \n",
       "945  The Offspring                Why Don't You Get A Job   \n",
       "681  Parkway Drive                          Wishing Wells   \n",
       "11      Rave Radio               Turn Me Out - Radio Edit   \n",
       "311       The Wild             Heaven Is A Place On Earth   \n",
       "\n",
       "                                album_name  year    playlist  \n",
       "33                                 Kolkata  2017   clubbeats  \n",
       "29                               Get Money  2018   clubbeats  \n",
       "49                              Warrior EP  2018   clubbeats  \n",
       "22                                  Escape  2018   clubbeats  \n",
       "16                                 Get Low  2018   clubbeats  \n",
       "13   More Than Friends (feat. Kelli-Leigh)  2017   clubbeats  \n",
       "285                              Beautiful  2018  electropop  \n",
       "945                              Americana  1998     poppunk  \n",
       "681                          Wishing Wells  2018   metalcore  \n",
       "11                             Turn Me Out  2016   clubbeats  \n",
       "311             Heaven Is A Place On Earth  2017  electropop  "
      ]
     },
     "execution_count": 25,
     "metadata": {},
     "output_type": "execute_result"
    }
   ],
   "source": [
    "# calculate the distance between the query-vector and all others\n",
    "dist = eucledian_distance(feature_data, feature_data[query_track_idx])\n",
    "\n",
    "# sort the distances ascendingly - use sorted index\n",
    "sorted_idx = np.argsort(dist)\n",
    "\n",
    "# display top-10 results (first track = query track)\n",
    "display_cols = [\"artist_name\", \"title\", \"album_name\", \"year\", \"playlist\"]\n",
    "\n",
    "metadata.loc[sorted_idx[:11], display_cols]"
   ]
  },
  {
   "cell_type": "markdown",
   "metadata": {},
   "source": [
    "### Scaled Eucledian Distance\n",
    "\n",
    "The approach taken to combine the different feature-sets is refered to as early fusion. The problem with the approach described in the previous step is, that larger feature-sets dominate the calculated distance values. The aggregated MFCC and Chroma features have 24 dimensions each. Together they have more dimensions as the remaining features which are mostly single dimensional features. Thus, the distances are unequally dominated by the two feature sets.\n",
    "\n",
    "To avoid such a bias, we scale the feature-space such that feature-sets and single-value features have euqal the same weights and thus euqal influence on the resulting distance."
   ]
  },
  {
   "cell_type": "code",
   "execution_count": 26,
   "metadata": {},
   "outputs": [],
   "source": [
    "# feature-set lengths and order\n",
    "featureset_lengths = [24, # mfcc\n",
    "                      24, # chroma\n",
    "                      2,  # loudness_max\n",
    "                      2,  # loudness_start\n",
    "                      2,  # loudness_max_time\n",
    "                      2,  # sequence length\n",
    "                      2,  # confidence\n",
    "                      1,  # acousticness\n",
    "                      1,  # danceability\n",
    "                      1,  # energy\n",
    "                      1,  # instrumentalness\n",
    "                      1,  # liveness\n",
    "                      1,  # speechiness\n",
    "                      1,  # tempo\n",
    "                      1,  # time_signature\n",
    "                      1,  # valence\n",
    "                      1,  # year\n",
    "                      1]  # popularity"
   ]
  },
  {
   "cell_type": "code",
   "execution_count": 27,
   "metadata": {},
   "outputs": [],
   "source": [
    "def scaled_eucledian_distance(feature_space, query_vector):\n",
    "    \n",
    "    distances = (feature_space - query_vector)**2\n",
    "    \n",
    "    # feature_start_idx\n",
    "    start_idx = 0 \n",
    "    \n",
    "    # normalize distances\n",
    "    for sequence_length in featureset_lengths:\n",
    "        \n",
    "        # feature_stop_idx\n",
    "        stop_idx                         = start_idx + sequence_length\n",
    "        distances[:,start_idx:stop_idx] /= distances[:,start_idx:stop_idx].sum(axis=1).max()\n",
    "        start_idx                        = stop_idx\n",
    "    \n",
    "    return np.sqrt(np.sum(distances, axis=1))"
   ]
  },
  {
   "cell_type": "markdown",
   "metadata": {},
   "source": [
    "Example result"
   ]
  },
  {
   "cell_type": "code",
   "execution_count": 28,
   "metadata": {},
   "outputs": [
    {
     "data": {
      "text/html": [
       "<div>\n",
       "<style scoped>\n",
       "    .dataframe tbody tr th:only-of-type {\n",
       "        vertical-align: middle;\n",
       "    }\n",
       "\n",
       "    .dataframe tbody tr th {\n",
       "        vertical-align: top;\n",
       "    }\n",
       "\n",
       "    .dataframe thead th {\n",
       "        text-align: right;\n",
       "    }\n",
       "</style>\n",
       "<table border=\"1\" class=\"dataframe\">\n",
       "  <thead>\n",
       "    <tr style=\"text-align: right;\">\n",
       "      <th></th>\n",
       "      <th>artist_name</th>\n",
       "      <th>title</th>\n",
       "      <th>album_name</th>\n",
       "      <th>year</th>\n",
       "      <th>playlist</th>\n",
       "    </tr>\n",
       "  </thead>\n",
       "  <tbody>\n",
       "    <tr>\n",
       "      <th>33</th>\n",
       "      <td>KSHMR</td>\n",
       "      <td>Kolkata</td>\n",
       "      <td>Kolkata</td>\n",
       "      <td>2017</td>\n",
       "      <td>clubbeats</td>\n",
       "    </tr>\n",
       "    <tr>\n",
       "      <th>285</th>\n",
       "      <td>What So Not</td>\n",
       "      <td>Beautiful</td>\n",
       "      <td>Beautiful</td>\n",
       "      <td>2018</td>\n",
       "      <td>electropop</td>\n",
       "    </tr>\n",
       "    <tr>\n",
       "      <th>461</th>\n",
       "      <td>Papa Roach</td>\n",
       "      <td>She Loves Me Not</td>\n",
       "      <td>To Be Loved: The Best Of Papa Roach (Explicit ...</td>\n",
       "      <td>2010</td>\n",
       "      <td>rockhymns</td>\n",
       "    </tr>\n",
       "    <tr>\n",
       "      <th>49</th>\n",
       "      <td>Calvin Logue</td>\n",
       "      <td>Warrior</td>\n",
       "      <td>Warrior EP</td>\n",
       "      <td>2018</td>\n",
       "      <td>clubbeats</td>\n",
       "    </tr>\n",
       "    <tr>\n",
       "      <th>58</th>\n",
       "      <td>David Tort</td>\n",
       "      <td>Yo Te Prefiero (feat. Dennisse Jackson)</td>\n",
       "      <td>Yo Te Prefiero (feat. Dennisse Jackson)</td>\n",
       "      <td>2018</td>\n",
       "      <td>clubbeats</td>\n",
       "    </tr>\n",
       "    <tr>\n",
       "      <th>16</th>\n",
       "      <td>Hardwell</td>\n",
       "      <td>Get Low</td>\n",
       "      <td>Get Low</td>\n",
       "      <td>2018</td>\n",
       "      <td>clubbeats</td>\n",
       "    </tr>\n",
       "    <tr>\n",
       "      <th>5</th>\n",
       "      <td>DNF x I.GOT.U</td>\n",
       "      <td>Sick - Radio Edit</td>\n",
       "      <td>Sick</td>\n",
       "      <td>2017</td>\n",
       "      <td>clubbeats</td>\n",
       "    </tr>\n",
       "    <tr>\n",
       "      <th>4</th>\n",
       "      <td>Mike Williams</td>\n",
       "      <td>Melody (Tip Of My Tongue)</td>\n",
       "      <td>Melody (Tip Of My Tongue)</td>\n",
       "      <td>2017</td>\n",
       "      <td>clubbeats</td>\n",
       "    </tr>\n",
       "    <tr>\n",
       "      <th>32</th>\n",
       "      <td>Dylan Taylor</td>\n",
       "      <td>Frankenstein</td>\n",
       "      <td>Frankenstein</td>\n",
       "      <td>2018</td>\n",
       "      <td>clubbeats</td>\n",
       "    </tr>\n",
       "    <tr>\n",
       "      <th>13</th>\n",
       "      <td>James Hype</td>\n",
       "      <td>More Than Friends (feat. Kelli-Leigh)</td>\n",
       "      <td>More Than Friends (feat. Kelli-Leigh)</td>\n",
       "      <td>2017</td>\n",
       "      <td>clubbeats</td>\n",
       "    </tr>\n",
       "    <tr>\n",
       "      <th>70</th>\n",
       "      <td>Stadiumx</td>\n",
       "      <td>Spacebird</td>\n",
       "      <td>Spacebird</td>\n",
       "      <td>2017</td>\n",
       "      <td>clubbeats</td>\n",
       "    </tr>\n",
       "  </tbody>\n",
       "</table>\n",
       "</div>"
      ],
      "text/plain": [
       "       artist_name                                    title  \\\n",
       "33           KSHMR                                  Kolkata   \n",
       "285    What So Not                                Beautiful   \n",
       "461     Papa Roach                         She Loves Me Not   \n",
       "49    Calvin Logue                                  Warrior   \n",
       "58      David Tort  Yo Te Prefiero (feat. Dennisse Jackson)   \n",
       "16        Hardwell                                  Get Low   \n",
       "5    DNF x I.GOT.U                        Sick - Radio Edit   \n",
       "4    Mike Williams                Melody (Tip Of My Tongue)   \n",
       "32    Dylan Taylor                             Frankenstein   \n",
       "13      James Hype    More Than Friends (feat. Kelli-Leigh)   \n",
       "70        Stadiumx                                Spacebird   \n",
       "\n",
       "                                            album_name  year    playlist  \n",
       "33                                             Kolkata  2017   clubbeats  \n",
       "285                                          Beautiful  2018  electropop  \n",
       "461  To Be Loved: The Best Of Papa Roach (Explicit ...  2010   rockhymns  \n",
       "49                                          Warrior EP  2018   clubbeats  \n",
       "58             Yo Te Prefiero (feat. Dennisse Jackson)  2018   clubbeats  \n",
       "16                                             Get Low  2018   clubbeats  \n",
       "5                                                 Sick  2017   clubbeats  \n",
       "4                            Melody (Tip Of My Tongue)  2017   clubbeats  \n",
       "32                                        Frankenstein  2018   clubbeats  \n",
       "13               More Than Friends (feat. Kelli-Leigh)  2017   clubbeats  \n",
       "70                                           Spacebird  2017   clubbeats  "
      ]
     },
     "execution_count": 28,
     "metadata": {},
     "output_type": "execute_result"
    }
   ],
   "source": [
    "dist = scaled_eucledian_distance(feature_data, feature_data[query_track_idx])\n",
    "\n",
    "metadata.loc[np.argsort(dist)[:11], display_cols]"
   ]
  },
  {
   "cell_type": "markdown",
   "metadata": {},
   "source": [
    "### Feature Weighting\n",
    "\n",
    "As explained above, the vanilla Eucliden Distance in an early fusion approach is dominated by large feature-sets. Through scaling the feature-space we achieved equal influence for all feature-sets and features. Now, equal influence is not always the best choice fo music similarity. For example, the year and popularity feature we included into our feature vector are not an intrinsic music property. We just added them to cluster recordings of the same epoch together. Currently this feature has the same impact on the estimated similarity as timbre, rhythm and harmonics. When using many features it is commonly a good choice to apply different weights to them. Estimating these weights is generally achieved empirically."
   ]
  },
  {
   "cell_type": "code",
   "execution_count": 29,
   "metadata": {},
   "outputs": [],
   "source": [
    "# feature-set lengths and order\n",
    "featureset_weights = [1.55,  # mfcc\n",
    "                      0.6,  # chroma\n",
    "                      0.8,  # loudness_max\n",
    "                      0.5,  # loudness_start\n",
    "                      0.5,  # loudness_max_time\n",
    "                      2.5,  # sequence length\n",
    "                      0.5,  # confidence\n",
    "                      0.5,  # acousticness\n",
    "                      0.5,  # danceability\n",
    "                      1.5,  # energy\n",
    "                      0.0,  # instrumentalness\n",
    "                      0.0,  # liveness\n",
    "                      0.1,  # speechiness\n",
    "                      0.1,  # tempo\n",
    "                      0.9,  # time_signature\n",
    "                      0.1,  # valence\n",
    "                      5.5,  # year\n",
    "                      0.4]  # popularity"
   ]
  },
  {
   "cell_type": "code",
   "execution_count": 30,
   "metadata": {},
   "outputs": [],
   "source": [
    "def weighted_eucledian_distance(feature_space, query_vector, featureset_weights):\n",
    "    \n",
    "    distances = (feature_space - query_vector)**2\n",
    "    \n",
    "    # feature_start_idx\n",
    "    start_idx = 0 \n",
    "    \n",
    "    # normalize distances\n",
    "    for sequence_length, weight in zip(featureset_lengths, featureset_weights):\n",
    "\n",
    "        # feature_stop_idx\n",
    "        stop_idx                         = start_idx + sequence_length\n",
    "        distances[:,start_idx:stop_idx] /= distances[:,start_idx:stop_idx].sum(axis=1).max()\n",
    "        distances[:,start_idx:stop_idx] *= weight\n",
    "        start_idx                        = stop_idx\n",
    "\n",
    "    return np.sqrt(np.sum(distances, axis=1))"
   ]
  },
  {
   "cell_type": "markdown",
   "metadata": {},
   "source": [
    "Example result:"
   ]
  },
  {
   "cell_type": "code",
   "execution_count": 31,
   "metadata": {},
   "outputs": [
    {
     "data": {
      "text/html": [
       "<div>\n",
       "<style scoped>\n",
       "    .dataframe tbody tr th:only-of-type {\n",
       "        vertical-align: middle;\n",
       "    }\n",
       "\n",
       "    .dataframe tbody tr th {\n",
       "        vertical-align: top;\n",
       "    }\n",
       "\n",
       "    .dataframe thead th {\n",
       "        text-align: right;\n",
       "    }\n",
       "</style>\n",
       "<table border=\"1\" class=\"dataframe\">\n",
       "  <thead>\n",
       "    <tr style=\"text-align: right;\">\n",
       "      <th></th>\n",
       "      <th>artist_name</th>\n",
       "      <th>title</th>\n",
       "      <th>album_name</th>\n",
       "      <th>year</th>\n",
       "      <th>playlist</th>\n",
       "    </tr>\n",
       "  </thead>\n",
       "  <tbody>\n",
       "    <tr>\n",
       "      <th>33</th>\n",
       "      <td>KSHMR</td>\n",
       "      <td>Kolkata</td>\n",
       "      <td>Kolkata</td>\n",
       "      <td>2017</td>\n",
       "      <td>clubbeats</td>\n",
       "    </tr>\n",
       "    <tr>\n",
       "      <th>36</th>\n",
       "      <td>Hardwell</td>\n",
       "      <td>Safari</td>\n",
       "      <td>Safari</td>\n",
       "      <td>2018</td>\n",
       "      <td>clubbeats</td>\n",
       "    </tr>\n",
       "    <tr>\n",
       "      <th>1</th>\n",
       "      <td>Will Sparks</td>\n",
       "      <td>Take Me</td>\n",
       "      <td>Take Me</td>\n",
       "      <td>2017</td>\n",
       "      <td>clubbeats</td>\n",
       "    </tr>\n",
       "    <tr>\n",
       "      <th>25</th>\n",
       "      <td>Galantis</td>\n",
       "      <td>Rich Boy - Quintino Remix</td>\n",
       "      <td>Rich Boy (Remixes)</td>\n",
       "      <td>2017</td>\n",
       "      <td>clubbeats</td>\n",
       "    </tr>\n",
       "    <tr>\n",
       "      <th>22</th>\n",
       "      <td>Maeva Carter</td>\n",
       "      <td>Escape</td>\n",
       "      <td>Escape</td>\n",
       "      <td>2018</td>\n",
       "      <td>clubbeats</td>\n",
       "    </tr>\n",
       "    <tr>\n",
       "      <th>38</th>\n",
       "      <td>Ummet Ozcan</td>\n",
       "      <td>Krypton</td>\n",
       "      <td>Krypton</td>\n",
       "      <td>2018</td>\n",
       "      <td>clubbeats</td>\n",
       "    </tr>\n",
       "    <tr>\n",
       "      <th>49</th>\n",
       "      <td>Calvin Logue</td>\n",
       "      <td>Warrior</td>\n",
       "      <td>Warrior EP</td>\n",
       "      <td>2018</td>\n",
       "      <td>clubbeats</td>\n",
       "    </tr>\n",
       "    <tr>\n",
       "      <th>40</th>\n",
       "      <td>Bassjackers</td>\n",
       "      <td>Are You Randy?</td>\n",
       "      <td>Are You Randy?</td>\n",
       "      <td>2018</td>\n",
       "      <td>clubbeats</td>\n",
       "    </tr>\n",
       "    <tr>\n",
       "      <th>285</th>\n",
       "      <td>What So Not</td>\n",
       "      <td>Beautiful</td>\n",
       "      <td>Beautiful</td>\n",
       "      <td>2018</td>\n",
       "      <td>electropop</td>\n",
       "    </tr>\n",
       "    <tr>\n",
       "      <th>2</th>\n",
       "      <td>Chimp &amp; Panse</td>\n",
       "      <td>One</td>\n",
       "      <td>One</td>\n",
       "      <td>2017</td>\n",
       "      <td>clubbeats</td>\n",
       "    </tr>\n",
       "    <tr>\n",
       "      <th>52</th>\n",
       "      <td>Mike Williams</td>\n",
       "      <td>Step Up</td>\n",
       "      <td>Step Up</td>\n",
       "      <td>2017</td>\n",
       "      <td>clubbeats</td>\n",
       "    </tr>\n",
       "  </tbody>\n",
       "</table>\n",
       "</div>"
      ],
      "text/plain": [
       "       artist_name                      title          album_name  year  \\\n",
       "33           KSHMR                    Kolkata             Kolkata  2017   \n",
       "36        Hardwell                     Safari              Safari  2018   \n",
       "1      Will Sparks                    Take Me             Take Me  2017   \n",
       "25        Galantis  Rich Boy - Quintino Remix  Rich Boy (Remixes)  2017   \n",
       "22    Maeva Carter                     Escape              Escape  2018   \n",
       "38     Ummet Ozcan                    Krypton             Krypton  2018   \n",
       "49    Calvin Logue                    Warrior          Warrior EP  2018   \n",
       "40     Bassjackers             Are You Randy?      Are You Randy?  2018   \n",
       "285    What So Not                  Beautiful           Beautiful  2018   \n",
       "2    Chimp & Panse                        One                 One  2017   \n",
       "52   Mike Williams                    Step Up             Step Up  2017   \n",
       "\n",
       "       playlist  \n",
       "33    clubbeats  \n",
       "36    clubbeats  \n",
       "1     clubbeats  \n",
       "25    clubbeats  \n",
       "22    clubbeats  \n",
       "38    clubbeats  \n",
       "49    clubbeats  \n",
       "40    clubbeats  \n",
       "285  electropop  \n",
       "2     clubbeats  \n",
       "52    clubbeats  "
      ]
     },
     "execution_count": 31,
     "metadata": {},
     "output_type": "execute_result"
    }
   ],
   "source": [
    "dist = weighted_eucledian_distance(feature_data, feature_data[query_track_idx], featureset_weights)\n",
    "\n",
    "metadata.loc[np.argsort(dist)[:11], display_cols]"
   ]
  },
  {
   "cell_type": "markdown",
   "metadata": {},
   "source": [
    "# Evaluation\n",
    "\n",
    "So far we have only tested our similarity retrieval algorithms on a few single examples. To evaluate, if the presented approaches perform differently, we perform a full evaluation. To estimate the performance we measure precision and recall of our algorithms. These are standard information retrieval measures of relevance. In the context of this tutorial **precision** measures how many tracks of a given resultlist belong to the same playlist as the query song (relative to the length of the resultlist). **Recall** measures how many tracks of the query song's playlist are contained in the resultlist (relative to the length of the playlist)."
   ]
  },
  {
   "cell_type": "code",
   "execution_count": 32,
   "metadata": {},
   "outputs": [],
   "source": [
    "def evaluate(similarity_function, cut_off):\n",
    "\n",
    "    all_precisions = []\n",
    "    all_recall     = []\n",
    "\n",
    "    for idx in metadata.index.values:\n",
    "\n",
    "        dist           = similarity_function(feature_data, feature_data[idx])\n",
    "        similar_tracks = metadata.loc[np.argsort(dist)[:cut_off]]\n",
    "        same_label     = similar_tracks[\"playlist\"] == metadata.loc[idx, \"playlist\"]\n",
    "        precision      = same_label.sum() / float(cut_off)\n",
    "        all_precisions.append(precision)\n",
    "        \n",
    "        recall = float(same_label.sum()) / metadata[metadata.playlist == metadata.loc[idx, \"playlist\"]].shape[0]\n",
    "        all_recall.append(recall)\n",
    "\n",
    "    all_precisions = np.array(all_precisions)\n",
    "    all_recall     = np.array(recall)\n",
    "\n",
    "    return all_precisions.mean(), all_recall.mean()"
   ]
  },
  {
   "cell_type": "markdown",
   "metadata": {},
   "source": [
    "Run the evauation for all three introduced algorithms:"
   ]
  },
  {
   "cell_type": "code",
   "execution_count": 53,
   "metadata": {},
   "outputs": [
    {
     "data": {
      "text/html": [
       "<div>\n",
       "<style scoped>\n",
       "    .dataframe tbody tr th:only-of-type {\n",
       "        vertical-align: middle;\n",
       "    }\n",
       "\n",
       "    .dataframe tbody tr th {\n",
       "        vertical-align: top;\n",
       "    }\n",
       "\n",
       "    .dataframe thead th {\n",
       "        text-align: right;\n",
       "    }\n",
       "</style>\n",
       "<table border=\"1\" class=\"dataframe\">\n",
       "  <thead>\n",
       "    <tr style=\"text-align: right;\">\n",
       "      <th></th>\n",
       "      <th>precision</th>\n",
       "      <th>recall</th>\n",
       "    </tr>\n",
       "  </thead>\n",
       "  <tbody>\n",
       "    <tr>\n",
       "      <th>Weighted Eucledian Distance</th>\n",
       "      <td>0.609009</td>\n",
       "      <td>0.2</td>\n",
       "    </tr>\n",
       "    <tr>\n",
       "      <th>Scaled Eucledian Distance</th>\n",
       "      <td>0.534387</td>\n",
       "      <td>0.2</td>\n",
       "    </tr>\n",
       "    <tr>\n",
       "      <th>Eucledian Distance</th>\n",
       "      <td>0.472028</td>\n",
       "      <td>0.2</td>\n",
       "    </tr>\n",
       "  </tbody>\n",
       "</table>\n",
       "</div>"
      ],
      "text/plain": [
       "                             precision  recall\n",
       "Weighted Eucledian Distance   0.609009     0.2\n",
       "Scaled Eucledian Distance     0.534387     0.2\n",
       "Eucledian Distance            0.472028     0.2"
      ]
     },
     "execution_count": 53,
     "metadata": {},
     "output_type": "execute_result"
    }
   ],
   "source": [
    "cut_off = 20\n",
    "\n",
    "evaluation_results = {}\n",
    "\n",
    "# run evaluation\n",
    "\n",
    "evaluation_results[\"Eucledian Distance\"] = \\\n",
    "    evaluate(lambda x,y: eucledian_distance(x,y), cut_off)\n",
    "    \n",
    "\n",
    "evaluation_results[\"Scaled Eucledian Distance\"] = \\\n",
    "    evaluate(lambda x,y: scaled_eucledian_distance(x,y), cut_off)\n",
    "\n",
    "evaluation_results[\"Weighted Eucledian Distance\"] = \\\n",
    "    evaluate(lambda x,y: weighted_eucledian_distance(x,y, featureset_weights), cut_off)\n",
    "\n",
    "# aggregate results\n",
    "evaluation_results = pd.DataFrame(data  = [evaluation_results[key] for key in evaluation_results.keys()], \n",
    "                                  index = evaluation_results.keys(), \n",
    "                                  columns=[\"precision\", \"recall\"])\n",
    "\n",
    "# results\n",
    "evaluation_results.sort_values(\"precision\", ascending=False)"
   ]
  },
  {
   "cell_type": "markdown",
   "metadata": {},
   "source": [
    "These results must be interpreted in relation to the analyzed data-set and the method how the metrics are measured. We measure how many tracks in the resulting list of similar songs belong to the same playlist of the query song. We have chosen genre-related playlists such as *Metal* and *Hip-Hop*. But there are also overalpping playlists such as *Classic Metal* and *Rock Hymns* which both contain Rock and Metal tracks. This should be considered in the interpretation of the evaluation results. To get more reliable results, more efforts need to be put into creating better non-overlapping playlists. But, since music similarity is subject to subjective interpretation, this is a challinging task.\n",
    "\n",
    "Although we have a small bias from the overlapping playlists, we see that it makes sense to tune the weights of the features to regulate their impact on the final results. "
   ]
  },
  {
   "cell_type": "markdown",
   "metadata": {},
   "source": [
    "# Conclusions\n",
    "\n",
    "In this part of the tutorial I have demonstrated how to access the Spotify to download meta- and feature-data to estimate similarities between songs. The presented method is a content-based approach which calculate similarities based on numerical vector distances.\n",
    "\n",
    "The approach has been chosen due to its simplicity. There is a lot of room for improvements, but this would have made the code examples more complex and the tutorial much longer. To improve the performance, you can consider the following improvements:\n",
    "\n",
    "* **Feature aggregation:** taking only mean and standard deviation is not the most efficient way to aggregate the sequential features provided by the Spotify API.\n",
    "* **Distance Measure:** other distance measures could yield better results. This often depends on the underlying dataset.\n",
    "* **Better Machine Learning Methods:** the presented nearest neighobr based approach is a linear model and is not able to model non-linearities of music similarities.\n",
    "\n",
    "In the next part of this tutorial series I will introduce Siamese Netowkrs. These Deep Neural Networks are able to learn high-level features from the low-level features as well as to learn the non-linear distance function to estimate the similarity between two tracks."
   ]
  }
 ],
 "metadata": {
  "kernelspec": {
   "display_name": "Python 3",
   "language": "python",
   "name": "python3"
  },
  "language_info": {
   "codemirror_mode": {
    "name": "ipython",
    "version": 3
   },
   "file_extension": ".py",
   "mimetype": "text/x-python",
   "name": "python",
   "nbconvert_exporter": "python",
   "pygments_lexer": "ipython3",
   "version": "3.6.4"
  },
  "notify_time": "5",
  "toc": {
   "toc_cell": false,
   "toc_number_sections": true,
   "toc_threshold": 6,
   "toc_window_display": false
  }
 },
 "nbformat": 4,
 "nbformat_minor": 1
}
