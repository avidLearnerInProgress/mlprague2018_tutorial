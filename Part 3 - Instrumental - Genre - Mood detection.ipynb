{
 "cells": [
  {
   "cell_type": "markdown",
   "metadata": {},
   "source": [
    "# Instrumental, Genre and Mood Detection in Music with Deep Learning\n",
    "\n",
    "This tutorial shows how different Convolutional Neural Network architectures are used for:\n",
    "* Instrumental vs. Vocal Detection:  detecting whether a piece of music is instrumental or contains vocals\n",
    "* Genre Classification\n",
    "* Mood Recognition\n",
    "\n",
    "The data set used is the [MagnaTagATune Dataset](http://mirg.city.ac.uk/codeapps/the-magnatagatune-dataset), but a smaller subset of it, with only 1 sample excerpt of each of the original audio files.\n",
    "\n",
    "It consists of 5405 files, each 30 seconds long. \n",
    "\n",
    "The annotations for this dataset contain a multitude of tags, including some that hint at whether the file is instrumental or vocal. (see [Create 2 classes from a list of tags](#Create-2-classes-from-a-list-of-tags) below)"
   ]
  },
  {
   "cell_type": "markdown",
   "metadata": {},
   "source": [
    "### Requirements\n",
    "\n",
    "* Python 3.5\n",
    "* Keras >= 2.1.1\n",
    "* Tensorflow\n",
    "* scikit-learn >= 0.18\n",
    "* Pandas\n",
    "* Librosa\n",
    "* MatplotLib"
   ]
  },
  {
   "cell_type": "markdown",
   "metadata": {},
   "source": [
    "### Table of Contents\n",
    "\n",
    "This tutorial contains:\n",
    "* Loading and Preprocessing of Audio files\n",
    "* Loading class files from CSV and using Label Encoder\n",
    "* Audio Preprocessing: Generating log Mel spectrograms\n",
    "* Standardization of Data\n",
    "* Convolutional Neural Networks\n",
    "* Train/Test set split\n",
    "\n",
    "* Instrumental vs. Vocal Detection\n",
    "* Genre Classification\n",
    "* Mood Recognition\n",
    "\n",
    "You can execute the following code blocks by pressing SHIFT+Enter consecutively."
   ]
  },
  {
   "cell_type": "markdown",
   "metadata": {},
   "source": [
    "### Download Data\n",
    "\n",
    "The (subsampled) data set can be downloaded from [here](https://owncloud.tuwien.ac.at/index.php/s/hivOGXKoUQtacbo).\n",
    "\n",
    "Please unzip it.\n",
    "\n",
    "Set the path to the unpacked folder in the next box:"
   ]
  },
  {
   "cell_type": "code",
   "execution_count": 1,
   "metadata": {},
   "outputs": [],
   "source": [
    "import os\n",
    "\n",
    "DATA_PATH = '/home/tlidy/data/MagnaTagATune'\n",
    "AUDIO_PATH = os.path.join(DATA_PATH, 'audio')\n",
    "META_PATH = os.path.join(DATA_PATH, 'metadata')\n",
    "\n",
    "#NPZ_FILE = '/home/tlidy/data/mel_spectrogram_segments_96x1366.npz'"
   ]
  },
  {
   "cell_type": "code",
   "execution_count": 2,
   "metadata": {},
   "outputs": [
    {
     "name": "stderr",
     "output_type": "stream",
     "text": [
      "Using TensorFlow backend.\n"
     ]
    }
   ],
   "source": [
    "# General Imports\n",
    "\n",
    "import argparse\n",
    "import csv\n",
    "import datetime\n",
    "import glob\n",
    "import math\n",
    "import sys\n",
    "import time\n",
    "import numpy as np\n",
    "import pandas as pd # Pandas for reading CSV files and easier Data handling in preparation\n",
    "\n",
    "# Deep Learning\n",
    "\n",
    "import keras\n",
    "from keras import optimizers\n",
    "from keras import backend as K\n",
    "from keras.models import Sequential, Model\n",
    "from keras.layers import Input, Convolution2D, MaxPooling2D, Dense, Dropout, Activation, Flatten, merge\n",
    "from keras.layers.normalization import BatchNormalization\n",
    "from keras.layers.advanced_activations import ELU\n",
    "\n",
    "# Machine Learning preprocessing and evaluation\n",
    "\n",
    "from sklearn import preprocessing\n",
    "from sklearn.metrics import accuracy_score\n",
    "from sklearn.model_selection import train_test_split\n",
    "from sklearn.model_selection import StratifiedShuffleSplit"
   ]
  },
  {
   "cell_type": "code",
   "execution_count": 3,
   "metadata": {},
   "outputs": [],
   "source": [
    "# local imports for audio reading and processing\n",
    "import audio_spectrogram as rp\n",
    "from audiofile_read import audiofile_read"
   ]
  },
  {
   "cell_type": "markdown",
   "metadata": {},
   "source": [
    "## Load the Metadata\n",
    "\n",
    "The tab-separated file contains pairs of filename TAB class."
   ]
  },
  {
   "cell_type": "code",
   "execution_count": 4,
   "metadata": {},
   "outputs": [
    {
     "data": {
      "text/html": [
       "<div>\n",
       "<style scoped>\n",
       "    .dataframe tbody tr th:only-of-type {\n",
       "        vertical-align: middle;\n",
       "    }\n",
       "\n",
       "    .dataframe tbody tr th {\n",
       "        vertical-align: top;\n",
       "    }\n",
       "\n",
       "    .dataframe thead th {\n",
       "        text-align: right;\n",
       "    }\n",
       "</style>\n",
       "<table border=\"1\" class=\"dataframe\">\n",
       "  <thead>\n",
       "    <tr style=\"text-align: right;\">\n",
       "      <th></th>\n",
       "      <th>clip_id</th>\n",
       "      <th>no voice</th>\n",
       "      <th>singer</th>\n",
       "      <th>duet</th>\n",
       "      <th>plucking</th>\n",
       "      <th>hard rock</th>\n",
       "      <th>world</th>\n",
       "      <th>bongos</th>\n",
       "      <th>harpsichord</th>\n",
       "      <th>female singing</th>\n",
       "      <th>...</th>\n",
       "      <th>female singer</th>\n",
       "      <th>rap</th>\n",
       "      <th>metal</th>\n",
       "      <th>hip hop</th>\n",
       "      <th>quick</th>\n",
       "      <th>water</th>\n",
       "      <th>baroque</th>\n",
       "      <th>women</th>\n",
       "      <th>fiddle</th>\n",
       "      <th>english</th>\n",
       "    </tr>\n",
       "    <tr>\n",
       "      <th>mp3_path</th>\n",
       "      <th></th>\n",
       "      <th></th>\n",
       "      <th></th>\n",
       "      <th></th>\n",
       "      <th></th>\n",
       "      <th></th>\n",
       "      <th></th>\n",
       "      <th></th>\n",
       "      <th></th>\n",
       "      <th></th>\n",
       "      <th></th>\n",
       "      <th></th>\n",
       "      <th></th>\n",
       "      <th></th>\n",
       "      <th></th>\n",
       "      <th></th>\n",
       "      <th></th>\n",
       "      <th></th>\n",
       "      <th></th>\n",
       "      <th></th>\n",
       "      <th></th>\n",
       "    </tr>\n",
       "  </thead>\n",
       "  <tbody>\n",
       "    <tr>\n",
       "      <th>d/ambient_teknology-the_all_seeing_eye_project-01-cyclops-262-291.mp3</th>\n",
       "      <td>1119</td>\n",
       "      <td>0</td>\n",
       "      <td>0</td>\n",
       "      <td>0</td>\n",
       "      <td>0</td>\n",
       "      <td>0</td>\n",
       "      <td>0</td>\n",
       "      <td>0</td>\n",
       "      <td>0</td>\n",
       "      <td>0</td>\n",
       "      <td>...</td>\n",
       "      <td>0</td>\n",
       "      <td>0</td>\n",
       "      <td>0</td>\n",
       "      <td>0</td>\n",
       "      <td>0</td>\n",
       "      <td>0</td>\n",
       "      <td>0</td>\n",
       "      <td>0</td>\n",
       "      <td>0</td>\n",
       "      <td>0</td>\n",
       "    </tr>\n",
       "    <tr>\n",
       "      <th>d/ambient_teknology-the_all_seeing_eye_project-02-all_seeing_eye-175-204.mp3</th>\n",
       "      <td>6021</td>\n",
       "      <td>0</td>\n",
       "      <td>0</td>\n",
       "      <td>0</td>\n",
       "      <td>0</td>\n",
       "      <td>0</td>\n",
       "      <td>0</td>\n",
       "      <td>0</td>\n",
       "      <td>0</td>\n",
       "      <td>0</td>\n",
       "      <td>...</td>\n",
       "      <td>0</td>\n",
       "      <td>0</td>\n",
       "      <td>0</td>\n",
       "      <td>0</td>\n",
       "      <td>0</td>\n",
       "      <td>0</td>\n",
       "      <td>0</td>\n",
       "      <td>0</td>\n",
       "      <td>0</td>\n",
       "      <td>0</td>\n",
       "    </tr>\n",
       "    <tr>\n",
       "      <th>d/ambient_teknology-the_all_seeing_eye_project-03-black-175-204.mp3</th>\n",
       "      <td>11847</td>\n",
       "      <td>0</td>\n",
       "      <td>0</td>\n",
       "      <td>0</td>\n",
       "      <td>0</td>\n",
       "      <td>0</td>\n",
       "      <td>0</td>\n",
       "      <td>0</td>\n",
       "      <td>0</td>\n",
       "      <td>0</td>\n",
       "      <td>...</td>\n",
       "      <td>0</td>\n",
       "      <td>0</td>\n",
       "      <td>0</td>\n",
       "      <td>0</td>\n",
       "      <td>0</td>\n",
       "      <td>0</td>\n",
       "      <td>0</td>\n",
       "      <td>0</td>\n",
       "      <td>0</td>\n",
       "      <td>0</td>\n",
       "    </tr>\n",
       "    <tr>\n",
       "      <th>d/ambient_teknology-the_all_seeing_eye_project-04-confusion_says-88-117.mp3</th>\n",
       "      <td>17119</td>\n",
       "      <td>0</td>\n",
       "      <td>0</td>\n",
       "      <td>0</td>\n",
       "      <td>0</td>\n",
       "      <td>0</td>\n",
       "      <td>0</td>\n",
       "      <td>0</td>\n",
       "      <td>0</td>\n",
       "      <td>0</td>\n",
       "      <td>...</td>\n",
       "      <td>0</td>\n",
       "      <td>0</td>\n",
       "      <td>0</td>\n",
       "      <td>0</td>\n",
       "      <td>0</td>\n",
       "      <td>0</td>\n",
       "      <td>0</td>\n",
       "      <td>0</td>\n",
       "      <td>0</td>\n",
       "      <td>0</td>\n",
       "    </tr>\n",
       "    <tr>\n",
       "      <th>d/ambient_teknology-the_all_seeing_eye_project-05-the_beholder-291-320.mp3</th>\n",
       "      <td>25118</td>\n",
       "      <td>0</td>\n",
       "      <td>0</td>\n",
       "      <td>0</td>\n",
       "      <td>0</td>\n",
       "      <td>0</td>\n",
       "      <td>0</td>\n",
       "      <td>0</td>\n",
       "      <td>0</td>\n",
       "      <td>0</td>\n",
       "      <td>...</td>\n",
       "      <td>0</td>\n",
       "      <td>0</td>\n",
       "      <td>0</td>\n",
       "      <td>0</td>\n",
       "      <td>0</td>\n",
       "      <td>0</td>\n",
       "      <td>0</td>\n",
       "      <td>0</td>\n",
       "      <td>0</td>\n",
       "      <td>0</td>\n",
       "    </tr>\n",
       "    <tr>\n",
       "      <th>d/ambient_teknology-the_all_seeing_eye_project-06-cyead-378-407.mp3</th>\n",
       "      <td>26533</td>\n",
       "      <td>0</td>\n",
       "      <td>0</td>\n",
       "      <td>0</td>\n",
       "      <td>0</td>\n",
       "      <td>0</td>\n",
       "      <td>0</td>\n",
       "      <td>0</td>\n",
       "      <td>0</td>\n",
       "      <td>0</td>\n",
       "      <td>...</td>\n",
       "      <td>0</td>\n",
       "      <td>0</td>\n",
       "      <td>0</td>\n",
       "      <td>0</td>\n",
       "      <td>0</td>\n",
       "      <td>0</td>\n",
       "      <td>0</td>\n",
       "      <td>0</td>\n",
       "      <td>0</td>\n",
       "      <td>0</td>\n",
       "    </tr>\n",
       "    <tr>\n",
       "      <th>d/ambient_teknology-the_all_seeing_eye_project-07-telekonology-117-146.mp3</th>\n",
       "      <td>33637</td>\n",
       "      <td>0</td>\n",
       "      <td>0</td>\n",
       "      <td>0</td>\n",
       "      <td>0</td>\n",
       "      <td>0</td>\n",
       "      <td>0</td>\n",
       "      <td>0</td>\n",
       "      <td>0</td>\n",
       "      <td>0</td>\n",
       "      <td>...</td>\n",
       "      <td>0</td>\n",
       "      <td>0</td>\n",
       "      <td>0</td>\n",
       "      <td>0</td>\n",
       "      <td>0</td>\n",
       "      <td>0</td>\n",
       "      <td>0</td>\n",
       "      <td>0</td>\n",
       "      <td>0</td>\n",
       "      <td>0</td>\n",
       "    </tr>\n",
       "    <tr>\n",
       "      <th>0/american_bach_soloists-j_s__bach__cantatas_volume_v-01-gleichwie_der_regen_und_schnee_vom_himmel_fallt_bwv_18_i_sinfonia-117-146.mp3</th>\n",
       "      <td>29</td>\n",
       "      <td>0</td>\n",
       "      <td>0</td>\n",
       "      <td>0</td>\n",
       "      <td>0</td>\n",
       "      <td>0</td>\n",
       "      <td>0</td>\n",
       "      <td>0</td>\n",
       "      <td>0</td>\n",
       "      <td>0</td>\n",
       "      <td>...</td>\n",
       "      <td>0</td>\n",
       "      <td>0</td>\n",
       "      <td>0</td>\n",
       "      <td>0</td>\n",
       "      <td>0</td>\n",
       "      <td>0</td>\n",
       "      <td>0</td>\n",
       "      <td>0</td>\n",
       "      <td>0</td>\n",
       "      <td>0</td>\n",
       "    </tr>\n",
       "    <tr>\n",
       "      <th>0/american_bach_soloists-j_s__bach__cantatas_volume_v-02-gleichwie_der_regen_und_schnee_vom_himmel_fallt_bwv_18_ii_recitative__gleichwie_der_regen_und_schnee-30-59.mp3</th>\n",
       "      <td>5864</td>\n",
       "      <td>0</td>\n",
       "      <td>0</td>\n",
       "      <td>0</td>\n",
       "      <td>0</td>\n",
       "      <td>0</td>\n",
       "      <td>0</td>\n",
       "      <td>0</td>\n",
       "      <td>0</td>\n",
       "      <td>0</td>\n",
       "      <td>...</td>\n",
       "      <td>0</td>\n",
       "      <td>0</td>\n",
       "      <td>0</td>\n",
       "      <td>0</td>\n",
       "      <td>0</td>\n",
       "      <td>0</td>\n",
       "      <td>0</td>\n",
       "      <td>0</td>\n",
       "      <td>0</td>\n",
       "      <td>0</td>\n",
       "    </tr>\n",
       "    <tr>\n",
       "      <th>0/american_bach_soloists-j_s__bach__cantatas_volume_v-03-gleichwie_der_regen_und_schnee_vom_himmel_fallt_bwv_18_iii_recitative_and_litany__mein_gott_hier_wird_mein_herze_sein-88-117.mp3</th>\n",
       "      <td>11264</td>\n",
       "      <td>0</td>\n",
       "      <td>0</td>\n",
       "      <td>0</td>\n",
       "      <td>0</td>\n",
       "      <td>0</td>\n",
       "      <td>0</td>\n",
       "      <td>0</td>\n",
       "      <td>0</td>\n",
       "      <td>0</td>\n",
       "      <td>...</td>\n",
       "      <td>0</td>\n",
       "      <td>0</td>\n",
       "      <td>0</td>\n",
       "      <td>0</td>\n",
       "      <td>0</td>\n",
       "      <td>0</td>\n",
       "      <td>0</td>\n",
       "      <td>0</td>\n",
       "      <td>0</td>\n",
       "      <td>0</td>\n",
       "    </tr>\n",
       "  </tbody>\n",
       "</table>\n",
       "<p>10 rows × 189 columns</p>\n",
       "</div>"
      ],
      "text/plain": [
       "                                                    clip_id  no voice  singer  \\\n",
       "mp3_path                                                                        \n",
       "d/ambient_teknology-the_all_seeing_eye_project-...     1119         0       0   \n",
       "d/ambient_teknology-the_all_seeing_eye_project-...     6021         0       0   \n",
       "d/ambient_teknology-the_all_seeing_eye_project-...    11847         0       0   \n",
       "d/ambient_teknology-the_all_seeing_eye_project-...    17119         0       0   \n",
       "d/ambient_teknology-the_all_seeing_eye_project-...    25118         0       0   \n",
       "d/ambient_teknology-the_all_seeing_eye_project-...    26533         0       0   \n",
       "d/ambient_teknology-the_all_seeing_eye_project-...    33637         0       0   \n",
       "0/american_bach_soloists-j_s__bach__cantatas_vo...       29         0       0   \n",
       "0/american_bach_soloists-j_s__bach__cantatas_vo...     5864         0       0   \n",
       "0/american_bach_soloists-j_s__bach__cantatas_vo...    11264         0       0   \n",
       "\n",
       "                                                    duet  plucking  hard rock  \\\n",
       "mp3_path                                                                        \n",
       "d/ambient_teknology-the_all_seeing_eye_project-...     0         0          0   \n",
       "d/ambient_teknology-the_all_seeing_eye_project-...     0         0          0   \n",
       "d/ambient_teknology-the_all_seeing_eye_project-...     0         0          0   \n",
       "d/ambient_teknology-the_all_seeing_eye_project-...     0         0          0   \n",
       "d/ambient_teknology-the_all_seeing_eye_project-...     0         0          0   \n",
       "d/ambient_teknology-the_all_seeing_eye_project-...     0         0          0   \n",
       "d/ambient_teknology-the_all_seeing_eye_project-...     0         0          0   \n",
       "0/american_bach_soloists-j_s__bach__cantatas_vo...     0         0          0   \n",
       "0/american_bach_soloists-j_s__bach__cantatas_vo...     0         0          0   \n",
       "0/american_bach_soloists-j_s__bach__cantatas_vo...     0         0          0   \n",
       "\n",
       "                                                    world  bongos  \\\n",
       "mp3_path                                                            \n",
       "d/ambient_teknology-the_all_seeing_eye_project-...      0       0   \n",
       "d/ambient_teknology-the_all_seeing_eye_project-...      0       0   \n",
       "d/ambient_teknology-the_all_seeing_eye_project-...      0       0   \n",
       "d/ambient_teknology-the_all_seeing_eye_project-...      0       0   \n",
       "d/ambient_teknology-the_all_seeing_eye_project-...      0       0   \n",
       "d/ambient_teknology-the_all_seeing_eye_project-...      0       0   \n",
       "d/ambient_teknology-the_all_seeing_eye_project-...      0       0   \n",
       "0/american_bach_soloists-j_s__bach__cantatas_vo...      0       0   \n",
       "0/american_bach_soloists-j_s__bach__cantatas_vo...      0       0   \n",
       "0/american_bach_soloists-j_s__bach__cantatas_vo...      0       0   \n",
       "\n",
       "                                                    harpsichord  \\\n",
       "mp3_path                                                          \n",
       "d/ambient_teknology-the_all_seeing_eye_project-...            0   \n",
       "d/ambient_teknology-the_all_seeing_eye_project-...            0   \n",
       "d/ambient_teknology-the_all_seeing_eye_project-...            0   \n",
       "d/ambient_teknology-the_all_seeing_eye_project-...            0   \n",
       "d/ambient_teknology-the_all_seeing_eye_project-...            0   \n",
       "d/ambient_teknology-the_all_seeing_eye_project-...            0   \n",
       "d/ambient_teknology-the_all_seeing_eye_project-...            0   \n",
       "0/american_bach_soloists-j_s__bach__cantatas_vo...            0   \n",
       "0/american_bach_soloists-j_s__bach__cantatas_vo...            0   \n",
       "0/american_bach_soloists-j_s__bach__cantatas_vo...            0   \n",
       "\n",
       "                                                    female singing   ...     \\\n",
       "mp3_path                                                             ...      \n",
       "d/ambient_teknology-the_all_seeing_eye_project-...               0   ...      \n",
       "d/ambient_teknology-the_all_seeing_eye_project-...               0   ...      \n",
       "d/ambient_teknology-the_all_seeing_eye_project-...               0   ...      \n",
       "d/ambient_teknology-the_all_seeing_eye_project-...               0   ...      \n",
       "d/ambient_teknology-the_all_seeing_eye_project-...               0   ...      \n",
       "d/ambient_teknology-the_all_seeing_eye_project-...               0   ...      \n",
       "d/ambient_teknology-the_all_seeing_eye_project-...               0   ...      \n",
       "0/american_bach_soloists-j_s__bach__cantatas_vo...               0   ...      \n",
       "0/american_bach_soloists-j_s__bach__cantatas_vo...               0   ...      \n",
       "0/american_bach_soloists-j_s__bach__cantatas_vo...               0   ...      \n",
       "\n",
       "                                                    female singer  rap  metal  \\\n",
       "mp3_path                                                                        \n",
       "d/ambient_teknology-the_all_seeing_eye_project-...              0    0      0   \n",
       "d/ambient_teknology-the_all_seeing_eye_project-...              0    0      0   \n",
       "d/ambient_teknology-the_all_seeing_eye_project-...              0    0      0   \n",
       "d/ambient_teknology-the_all_seeing_eye_project-...              0    0      0   \n",
       "d/ambient_teknology-the_all_seeing_eye_project-...              0    0      0   \n",
       "d/ambient_teknology-the_all_seeing_eye_project-...              0    0      0   \n",
       "d/ambient_teknology-the_all_seeing_eye_project-...              0    0      0   \n",
       "0/american_bach_soloists-j_s__bach__cantatas_vo...              0    0      0   \n",
       "0/american_bach_soloists-j_s__bach__cantatas_vo...              0    0      0   \n",
       "0/american_bach_soloists-j_s__bach__cantatas_vo...              0    0      0   \n",
       "\n",
       "                                                    hip hop  quick  water  \\\n",
       "mp3_path                                                                    \n",
       "d/ambient_teknology-the_all_seeing_eye_project-...        0      0      0   \n",
       "d/ambient_teknology-the_all_seeing_eye_project-...        0      0      0   \n",
       "d/ambient_teknology-the_all_seeing_eye_project-...        0      0      0   \n",
       "d/ambient_teknology-the_all_seeing_eye_project-...        0      0      0   \n",
       "d/ambient_teknology-the_all_seeing_eye_project-...        0      0      0   \n",
       "d/ambient_teknology-the_all_seeing_eye_project-...        0      0      0   \n",
       "d/ambient_teknology-the_all_seeing_eye_project-...        0      0      0   \n",
       "0/american_bach_soloists-j_s__bach__cantatas_vo...        0      0      0   \n",
       "0/american_bach_soloists-j_s__bach__cantatas_vo...        0      0      0   \n",
       "0/american_bach_soloists-j_s__bach__cantatas_vo...        0      0      0   \n",
       "\n",
       "                                                    baroque  women  fiddle  \\\n",
       "mp3_path                                                                     \n",
       "d/ambient_teknology-the_all_seeing_eye_project-...        0      0       0   \n",
       "d/ambient_teknology-the_all_seeing_eye_project-...        0      0       0   \n",
       "d/ambient_teknology-the_all_seeing_eye_project-...        0      0       0   \n",
       "d/ambient_teknology-the_all_seeing_eye_project-...        0      0       0   \n",
       "d/ambient_teknology-the_all_seeing_eye_project-...        0      0       0   \n",
       "d/ambient_teknology-the_all_seeing_eye_project-...        0      0       0   \n",
       "d/ambient_teknology-the_all_seeing_eye_project-...        0      0       0   \n",
       "0/american_bach_soloists-j_s__bach__cantatas_vo...        0      0       0   \n",
       "0/american_bach_soloists-j_s__bach__cantatas_vo...        0      0       0   \n",
       "0/american_bach_soloists-j_s__bach__cantatas_vo...        0      0       0   \n",
       "\n",
       "                                                    english  \n",
       "mp3_path                                                     \n",
       "d/ambient_teknology-the_all_seeing_eye_project-...        0  \n",
       "d/ambient_teknology-the_all_seeing_eye_project-...        0  \n",
       "d/ambient_teknology-the_all_seeing_eye_project-...        0  \n",
       "d/ambient_teknology-the_all_seeing_eye_project-...        0  \n",
       "d/ambient_teknology-the_all_seeing_eye_project-...        0  \n",
       "d/ambient_teknology-the_all_seeing_eye_project-...        0  \n",
       "d/ambient_teknology-the_all_seeing_eye_project-...        0  \n",
       "0/american_bach_soloists-j_s__bach__cantatas_vo...        0  \n",
       "0/american_bach_soloists-j_s__bach__cantatas_vo...        0  \n",
       "0/american_bach_soloists-j_s__bach__cantatas_vo...        0  \n",
       "\n",
       "[10 rows x 189 columns]"
      ]
     },
     "execution_count": 4,
     "metadata": {},
     "output_type": "execute_result"
    }
   ],
   "source": [
    "csv_file = os.path.join(META_PATH,'annotations_final_subsample.csv')\n",
    "\n",
    "# we select the last column (-1) as the index column (= filename)\n",
    "metadata = pd.read_csv(csv_file, index_col=0, sep='\\t')\n",
    "metadata.head(10)"
   ]
  },
  {
   "cell_type": "code",
   "execution_count": 5,
   "metadata": {
    "scrolled": false
   },
   "outputs": [
    {
     "data": {
      "text/html": [
       "<div>\n",
       "<style scoped>\n",
       "    .dataframe tbody tr th:only-of-type {\n",
       "        vertical-align: middle;\n",
       "    }\n",
       "\n",
       "    .dataframe tbody tr th {\n",
       "        vertical-align: top;\n",
       "    }\n",
       "\n",
       "    .dataframe thead th {\n",
       "        text-align: right;\n",
       "    }\n",
       "</style>\n",
       "<table border=\"1\" class=\"dataframe\">\n",
       "  <thead>\n",
       "    <tr style=\"text-align: right;\">\n",
       "      <th></th>\n",
       "      <th>no voice</th>\n",
       "      <th>singer</th>\n",
       "      <th>duet</th>\n",
       "      <th>plucking</th>\n",
       "      <th>hard rock</th>\n",
       "      <th>world</th>\n",
       "      <th>bongos</th>\n",
       "      <th>harpsichord</th>\n",
       "      <th>female singing</th>\n",
       "      <th>clasical</th>\n",
       "      <th>...</th>\n",
       "      <th>female singer</th>\n",
       "      <th>rap</th>\n",
       "      <th>metal</th>\n",
       "      <th>hip hop</th>\n",
       "      <th>quick</th>\n",
       "      <th>water</th>\n",
       "      <th>baroque</th>\n",
       "      <th>women</th>\n",
       "      <th>fiddle</th>\n",
       "      <th>english</th>\n",
       "    </tr>\n",
       "    <tr>\n",
       "      <th>mp3_path</th>\n",
       "      <th></th>\n",
       "      <th></th>\n",
       "      <th></th>\n",
       "      <th></th>\n",
       "      <th></th>\n",
       "      <th></th>\n",
       "      <th></th>\n",
       "      <th></th>\n",
       "      <th></th>\n",
       "      <th></th>\n",
       "      <th></th>\n",
       "      <th></th>\n",
       "      <th></th>\n",
       "      <th></th>\n",
       "      <th></th>\n",
       "      <th></th>\n",
       "      <th></th>\n",
       "      <th></th>\n",
       "      <th></th>\n",
       "      <th></th>\n",
       "      <th></th>\n",
       "    </tr>\n",
       "  </thead>\n",
       "  <tbody>\n",
       "    <tr>\n",
       "      <th>d/ambient_teknology-the_all_seeing_eye_project-01-cyclops-262-291.mp3</th>\n",
       "      <td>0</td>\n",
       "      <td>0</td>\n",
       "      <td>0</td>\n",
       "      <td>0</td>\n",
       "      <td>0</td>\n",
       "      <td>0</td>\n",
       "      <td>0</td>\n",
       "      <td>0</td>\n",
       "      <td>0</td>\n",
       "      <td>0</td>\n",
       "      <td>...</td>\n",
       "      <td>0</td>\n",
       "      <td>0</td>\n",
       "      <td>0</td>\n",
       "      <td>0</td>\n",
       "      <td>0</td>\n",
       "      <td>0</td>\n",
       "      <td>0</td>\n",
       "      <td>0</td>\n",
       "      <td>0</td>\n",
       "      <td>0</td>\n",
       "    </tr>\n",
       "    <tr>\n",
       "      <th>d/ambient_teknology-the_all_seeing_eye_project-02-all_seeing_eye-175-204.mp3</th>\n",
       "      <td>0</td>\n",
       "      <td>0</td>\n",
       "      <td>0</td>\n",
       "      <td>0</td>\n",
       "      <td>0</td>\n",
       "      <td>0</td>\n",
       "      <td>0</td>\n",
       "      <td>0</td>\n",
       "      <td>0</td>\n",
       "      <td>0</td>\n",
       "      <td>...</td>\n",
       "      <td>0</td>\n",
       "      <td>0</td>\n",
       "      <td>0</td>\n",
       "      <td>0</td>\n",
       "      <td>0</td>\n",
       "      <td>0</td>\n",
       "      <td>0</td>\n",
       "      <td>0</td>\n",
       "      <td>0</td>\n",
       "      <td>0</td>\n",
       "    </tr>\n",
       "    <tr>\n",
       "      <th>d/ambient_teknology-the_all_seeing_eye_project-03-black-175-204.mp3</th>\n",
       "      <td>0</td>\n",
       "      <td>0</td>\n",
       "      <td>0</td>\n",
       "      <td>0</td>\n",
       "      <td>0</td>\n",
       "      <td>0</td>\n",
       "      <td>0</td>\n",
       "      <td>0</td>\n",
       "      <td>0</td>\n",
       "      <td>0</td>\n",
       "      <td>...</td>\n",
       "      <td>0</td>\n",
       "      <td>0</td>\n",
       "      <td>0</td>\n",
       "      <td>0</td>\n",
       "      <td>0</td>\n",
       "      <td>0</td>\n",
       "      <td>0</td>\n",
       "      <td>0</td>\n",
       "      <td>0</td>\n",
       "      <td>0</td>\n",
       "    </tr>\n",
       "    <tr>\n",
       "      <th>d/ambient_teknology-the_all_seeing_eye_project-04-confusion_says-88-117.mp3</th>\n",
       "      <td>0</td>\n",
       "      <td>0</td>\n",
       "      <td>0</td>\n",
       "      <td>0</td>\n",
       "      <td>0</td>\n",
       "      <td>0</td>\n",
       "      <td>0</td>\n",
       "      <td>0</td>\n",
       "      <td>0</td>\n",
       "      <td>0</td>\n",
       "      <td>...</td>\n",
       "      <td>0</td>\n",
       "      <td>0</td>\n",
       "      <td>0</td>\n",
       "      <td>0</td>\n",
       "      <td>0</td>\n",
       "      <td>0</td>\n",
       "      <td>0</td>\n",
       "      <td>0</td>\n",
       "      <td>0</td>\n",
       "      <td>0</td>\n",
       "    </tr>\n",
       "    <tr>\n",
       "      <th>d/ambient_teknology-the_all_seeing_eye_project-05-the_beholder-291-320.mp3</th>\n",
       "      <td>0</td>\n",
       "      <td>0</td>\n",
       "      <td>0</td>\n",
       "      <td>0</td>\n",
       "      <td>0</td>\n",
       "      <td>0</td>\n",
       "      <td>0</td>\n",
       "      <td>0</td>\n",
       "      <td>0</td>\n",
       "      <td>0</td>\n",
       "      <td>...</td>\n",
       "      <td>0</td>\n",
       "      <td>0</td>\n",
       "      <td>0</td>\n",
       "      <td>0</td>\n",
       "      <td>0</td>\n",
       "      <td>0</td>\n",
       "      <td>0</td>\n",
       "      <td>0</td>\n",
       "      <td>0</td>\n",
       "      <td>0</td>\n",
       "    </tr>\n",
       "  </tbody>\n",
       "</table>\n",
       "<p>5 rows × 188 columns</p>\n",
       "</div>"
      ],
      "text/plain": [
       "                                                    no voice  singer  duet  \\\n",
       "mp3_path                                                                     \n",
       "d/ambient_teknology-the_all_seeing_eye_project-...         0       0     0   \n",
       "d/ambient_teknology-the_all_seeing_eye_project-...         0       0     0   \n",
       "d/ambient_teknology-the_all_seeing_eye_project-...         0       0     0   \n",
       "d/ambient_teknology-the_all_seeing_eye_project-...         0       0     0   \n",
       "d/ambient_teknology-the_all_seeing_eye_project-...         0       0     0   \n",
       "\n",
       "                                                    plucking  hard rock  \\\n",
       "mp3_path                                                                  \n",
       "d/ambient_teknology-the_all_seeing_eye_project-...         0          0   \n",
       "d/ambient_teknology-the_all_seeing_eye_project-...         0          0   \n",
       "d/ambient_teknology-the_all_seeing_eye_project-...         0          0   \n",
       "d/ambient_teknology-the_all_seeing_eye_project-...         0          0   \n",
       "d/ambient_teknology-the_all_seeing_eye_project-...         0          0   \n",
       "\n",
       "                                                    world  bongos  \\\n",
       "mp3_path                                                            \n",
       "d/ambient_teknology-the_all_seeing_eye_project-...      0       0   \n",
       "d/ambient_teknology-the_all_seeing_eye_project-...      0       0   \n",
       "d/ambient_teknology-the_all_seeing_eye_project-...      0       0   \n",
       "d/ambient_teknology-the_all_seeing_eye_project-...      0       0   \n",
       "d/ambient_teknology-the_all_seeing_eye_project-...      0       0   \n",
       "\n",
       "                                                    harpsichord  \\\n",
       "mp3_path                                                          \n",
       "d/ambient_teknology-the_all_seeing_eye_project-...            0   \n",
       "d/ambient_teknology-the_all_seeing_eye_project-...            0   \n",
       "d/ambient_teknology-the_all_seeing_eye_project-...            0   \n",
       "d/ambient_teknology-the_all_seeing_eye_project-...            0   \n",
       "d/ambient_teknology-the_all_seeing_eye_project-...            0   \n",
       "\n",
       "                                                    female singing  clasical  \\\n",
       "mp3_path                                                                       \n",
       "d/ambient_teknology-the_all_seeing_eye_project-...               0         0   \n",
       "d/ambient_teknology-the_all_seeing_eye_project-...               0         0   \n",
       "d/ambient_teknology-the_all_seeing_eye_project-...               0         0   \n",
       "d/ambient_teknology-the_all_seeing_eye_project-...               0         0   \n",
       "d/ambient_teknology-the_all_seeing_eye_project-...               0         0   \n",
       "\n",
       "                                                     ...     female singer  \\\n",
       "mp3_path                                             ...                     \n",
       "d/ambient_teknology-the_all_seeing_eye_project-...   ...                 0   \n",
       "d/ambient_teknology-the_all_seeing_eye_project-...   ...                 0   \n",
       "d/ambient_teknology-the_all_seeing_eye_project-...   ...                 0   \n",
       "d/ambient_teknology-the_all_seeing_eye_project-...   ...                 0   \n",
       "d/ambient_teknology-the_all_seeing_eye_project-...   ...                 0   \n",
       "\n",
       "                                                    rap  metal  hip hop  \\\n",
       "mp3_path                                                                  \n",
       "d/ambient_teknology-the_all_seeing_eye_project-...    0      0        0   \n",
       "d/ambient_teknology-the_all_seeing_eye_project-...    0      0        0   \n",
       "d/ambient_teknology-the_all_seeing_eye_project-...    0      0        0   \n",
       "d/ambient_teknology-the_all_seeing_eye_project-...    0      0        0   \n",
       "d/ambient_teknology-the_all_seeing_eye_project-...    0      0        0   \n",
       "\n",
       "                                                    quick  water  baroque  \\\n",
       "mp3_path                                                                    \n",
       "d/ambient_teknology-the_all_seeing_eye_project-...      0      0        0   \n",
       "d/ambient_teknology-the_all_seeing_eye_project-...      0      0        0   \n",
       "d/ambient_teknology-the_all_seeing_eye_project-...      0      0        0   \n",
       "d/ambient_teknology-the_all_seeing_eye_project-...      0      0        0   \n",
       "d/ambient_teknology-the_all_seeing_eye_project-...      0      0        0   \n",
       "\n",
       "                                                    women  fiddle  english  \n",
       "mp3_path                                                                    \n",
       "d/ambient_teknology-the_all_seeing_eye_project-...      0       0        0  \n",
       "d/ambient_teknology-the_all_seeing_eye_project-...      0       0        0  \n",
       "d/ambient_teknology-the_all_seeing_eye_project-...      0       0        0  \n",
       "d/ambient_teknology-the_all_seeing_eye_project-...      0       0        0  \n",
       "d/ambient_teknology-the_all_seeing_eye_project-...      0       0        0  \n",
       "\n",
       "[5 rows x 188 columns]"
      ]
     },
     "execution_count": 5,
     "metadata": {},
     "output_type": "execute_result"
    }
   ],
   "source": [
    "# remove the unneeded column \"clip_id\"\n",
    "cols = \"clip_id\"\n",
    "metadata.drop(cols,axis=1,inplace=True)\n",
    "\n",
    "metadata.head()"
   ]
  },
  {
   "cell_type": "markdown",
   "metadata": {},
   "source": [
    "# 1) Instrumental vs. Vocal Detection\n",
    "\n",
    "this is a binary classification task (output decision is between 0 and 1)"
   ]
  },
  {
   "cell_type": "markdown",
   "metadata": {},
   "source": [
    "### Create 2 classes from a list of tags\n",
    "\n",
    "There are plenty of \"tags\" in this data set which hint at wether a track is \"vocal\" or \"instrumental\". We group these tags and finally come up with 1 boolean column saying whether a track is \"vocal\" or \"instrumental\"."
   ]
  },
  {
   "cell_type": "code",
   "execution_count": 6,
   "metadata": {},
   "outputs": [],
   "source": [
    "tags_vocal = ['singer', 'female singing', 'female opera', 'male vocal', 'vocals', 'men', 'female', 'female voice', 'voice', 'male voice', 'girl', 'chanting', 'talking', 'choral', 'male singer', 'man singing', 'male opera', 'chant', 'man', 'female vocal', 'male vocals', 'vocal', 'woman', 'woman singing', 'singing', 'female vocals', 'voices', 'choir', 'female singer', 'women', 'choir', 'women']\n",
    "\n",
    "tags_instrumental = ['instrumental', 'no voice', 'no voices', 'no vocals', 'no vocal', 'no singing', 'no singer']"
   ]
  },
  {
   "cell_type": "code",
   "execution_count": 7,
   "metadata": {},
   "outputs": [
    {
     "data": {
      "text/html": [
       "<div>\n",
       "<style scoped>\n",
       "    .dataframe tbody tr th:only-of-type {\n",
       "        vertical-align: middle;\n",
       "    }\n",
       "\n",
       "    .dataframe tbody tr th {\n",
       "        vertical-align: top;\n",
       "    }\n",
       "\n",
       "    .dataframe thead th {\n",
       "        text-align: right;\n",
       "    }\n",
       "</style>\n",
       "<table border=\"1\" class=\"dataframe\">\n",
       "  <thead>\n",
       "    <tr style=\"text-align: right;\">\n",
       "      <th></th>\n",
       "      <th>singer</th>\n",
       "      <th>female singing</th>\n",
       "      <th>female opera</th>\n",
       "      <th>male vocal</th>\n",
       "      <th>vocals</th>\n",
       "      <th>men</th>\n",
       "      <th>female</th>\n",
       "      <th>female voice</th>\n",
       "      <th>voice</th>\n",
       "      <th>male voice</th>\n",
       "      <th>...</th>\n",
       "      <th>woman</th>\n",
       "      <th>woman singing</th>\n",
       "      <th>singing</th>\n",
       "      <th>female vocals</th>\n",
       "      <th>voices</th>\n",
       "      <th>choir</th>\n",
       "      <th>female singer</th>\n",
       "      <th>women</th>\n",
       "      <th>choir</th>\n",
       "      <th>women</th>\n",
       "    </tr>\n",
       "    <tr>\n",
       "      <th>mp3_path</th>\n",
       "      <th></th>\n",
       "      <th></th>\n",
       "      <th></th>\n",
       "      <th></th>\n",
       "      <th></th>\n",
       "      <th></th>\n",
       "      <th></th>\n",
       "      <th></th>\n",
       "      <th></th>\n",
       "      <th></th>\n",
       "      <th></th>\n",
       "      <th></th>\n",
       "      <th></th>\n",
       "      <th></th>\n",
       "      <th></th>\n",
       "      <th></th>\n",
       "      <th></th>\n",
       "      <th></th>\n",
       "      <th></th>\n",
       "      <th></th>\n",
       "      <th></th>\n",
       "    </tr>\n",
       "  </thead>\n",
       "  <tbody>\n",
       "    <tr>\n",
       "      <th>d/ambient_teknology-the_all_seeing_eye_project-01-cyclops-262-291.mp3</th>\n",
       "      <td>0</td>\n",
       "      <td>0</td>\n",
       "      <td>0</td>\n",
       "      <td>0</td>\n",
       "      <td>0</td>\n",
       "      <td>0</td>\n",
       "      <td>0</td>\n",
       "      <td>0</td>\n",
       "      <td>0</td>\n",
       "      <td>0</td>\n",
       "      <td>...</td>\n",
       "      <td>0</td>\n",
       "      <td>0</td>\n",
       "      <td>0</td>\n",
       "      <td>0</td>\n",
       "      <td>0</td>\n",
       "      <td>0</td>\n",
       "      <td>0</td>\n",
       "      <td>0</td>\n",
       "      <td>0</td>\n",
       "      <td>0</td>\n",
       "    </tr>\n",
       "    <tr>\n",
       "      <th>d/ambient_teknology-the_all_seeing_eye_project-02-all_seeing_eye-175-204.mp3</th>\n",
       "      <td>0</td>\n",
       "      <td>0</td>\n",
       "      <td>0</td>\n",
       "      <td>0</td>\n",
       "      <td>0</td>\n",
       "      <td>0</td>\n",
       "      <td>0</td>\n",
       "      <td>0</td>\n",
       "      <td>0</td>\n",
       "      <td>0</td>\n",
       "      <td>...</td>\n",
       "      <td>0</td>\n",
       "      <td>0</td>\n",
       "      <td>0</td>\n",
       "      <td>0</td>\n",
       "      <td>0</td>\n",
       "      <td>0</td>\n",
       "      <td>0</td>\n",
       "      <td>0</td>\n",
       "      <td>0</td>\n",
       "      <td>0</td>\n",
       "    </tr>\n",
       "    <tr>\n",
       "      <th>d/ambient_teknology-the_all_seeing_eye_project-03-black-175-204.mp3</th>\n",
       "      <td>0</td>\n",
       "      <td>0</td>\n",
       "      <td>0</td>\n",
       "      <td>0</td>\n",
       "      <td>0</td>\n",
       "      <td>0</td>\n",
       "      <td>0</td>\n",
       "      <td>0</td>\n",
       "      <td>0</td>\n",
       "      <td>0</td>\n",
       "      <td>...</td>\n",
       "      <td>0</td>\n",
       "      <td>0</td>\n",
       "      <td>0</td>\n",
       "      <td>0</td>\n",
       "      <td>0</td>\n",
       "      <td>0</td>\n",
       "      <td>0</td>\n",
       "      <td>0</td>\n",
       "      <td>0</td>\n",
       "      <td>0</td>\n",
       "    </tr>\n",
       "    <tr>\n",
       "      <th>d/ambient_teknology-the_all_seeing_eye_project-04-confusion_says-88-117.mp3</th>\n",
       "      <td>0</td>\n",
       "      <td>0</td>\n",
       "      <td>0</td>\n",
       "      <td>0</td>\n",
       "      <td>0</td>\n",
       "      <td>0</td>\n",
       "      <td>0</td>\n",
       "      <td>0</td>\n",
       "      <td>0</td>\n",
       "      <td>0</td>\n",
       "      <td>...</td>\n",
       "      <td>0</td>\n",
       "      <td>0</td>\n",
       "      <td>0</td>\n",
       "      <td>0</td>\n",
       "      <td>0</td>\n",
       "      <td>0</td>\n",
       "      <td>0</td>\n",
       "      <td>0</td>\n",
       "      <td>0</td>\n",
       "      <td>0</td>\n",
       "    </tr>\n",
       "    <tr>\n",
       "      <th>d/ambient_teknology-the_all_seeing_eye_project-05-the_beholder-291-320.mp3</th>\n",
       "      <td>0</td>\n",
       "      <td>0</td>\n",
       "      <td>0</td>\n",
       "      <td>0</td>\n",
       "      <td>0</td>\n",
       "      <td>0</td>\n",
       "      <td>0</td>\n",
       "      <td>0</td>\n",
       "      <td>0</td>\n",
       "      <td>0</td>\n",
       "      <td>...</td>\n",
       "      <td>0</td>\n",
       "      <td>0</td>\n",
       "      <td>0</td>\n",
       "      <td>0</td>\n",
       "      <td>0</td>\n",
       "      <td>0</td>\n",
       "      <td>0</td>\n",
       "      <td>0</td>\n",
       "      <td>0</td>\n",
       "      <td>0</td>\n",
       "    </tr>\n",
       "  </tbody>\n",
       "</table>\n",
       "<p>5 rows × 32 columns</p>\n",
       "</div>"
      ],
      "text/plain": [
       "                                                    singer  female singing  \\\n",
       "mp3_path                                                                     \n",
       "d/ambient_teknology-the_all_seeing_eye_project-...       0               0   \n",
       "d/ambient_teknology-the_all_seeing_eye_project-...       0               0   \n",
       "d/ambient_teknology-the_all_seeing_eye_project-...       0               0   \n",
       "d/ambient_teknology-the_all_seeing_eye_project-...       0               0   \n",
       "d/ambient_teknology-the_all_seeing_eye_project-...       0               0   \n",
       "\n",
       "                                                    female opera  male vocal  \\\n",
       "mp3_path                                                                       \n",
       "d/ambient_teknology-the_all_seeing_eye_project-...             0           0   \n",
       "d/ambient_teknology-the_all_seeing_eye_project-...             0           0   \n",
       "d/ambient_teknology-the_all_seeing_eye_project-...             0           0   \n",
       "d/ambient_teknology-the_all_seeing_eye_project-...             0           0   \n",
       "d/ambient_teknology-the_all_seeing_eye_project-...             0           0   \n",
       "\n",
       "                                                    vocals  men  female  \\\n",
       "mp3_path                                                                  \n",
       "d/ambient_teknology-the_all_seeing_eye_project-...       0    0       0   \n",
       "d/ambient_teknology-the_all_seeing_eye_project-...       0    0       0   \n",
       "d/ambient_teknology-the_all_seeing_eye_project-...       0    0       0   \n",
       "d/ambient_teknology-the_all_seeing_eye_project-...       0    0       0   \n",
       "d/ambient_teknology-the_all_seeing_eye_project-...       0    0       0   \n",
       "\n",
       "                                                    female voice  voice  \\\n",
       "mp3_path                                                                  \n",
       "d/ambient_teknology-the_all_seeing_eye_project-...             0      0   \n",
       "d/ambient_teknology-the_all_seeing_eye_project-...             0      0   \n",
       "d/ambient_teknology-the_all_seeing_eye_project-...             0      0   \n",
       "d/ambient_teknology-the_all_seeing_eye_project-...             0      0   \n",
       "d/ambient_teknology-the_all_seeing_eye_project-...             0      0   \n",
       "\n",
       "                                                    male voice  ...    woman  \\\n",
       "mp3_path                                                        ...            \n",
       "d/ambient_teknology-the_all_seeing_eye_project-...           0  ...        0   \n",
       "d/ambient_teknology-the_all_seeing_eye_project-...           0  ...        0   \n",
       "d/ambient_teknology-the_all_seeing_eye_project-...           0  ...        0   \n",
       "d/ambient_teknology-the_all_seeing_eye_project-...           0  ...        0   \n",
       "d/ambient_teknology-the_all_seeing_eye_project-...           0  ...        0   \n",
       "\n",
       "                                                    woman singing  singing  \\\n",
       "mp3_path                                                                     \n",
       "d/ambient_teknology-the_all_seeing_eye_project-...              0        0   \n",
       "d/ambient_teknology-the_all_seeing_eye_project-...              0        0   \n",
       "d/ambient_teknology-the_all_seeing_eye_project-...              0        0   \n",
       "d/ambient_teknology-the_all_seeing_eye_project-...              0        0   \n",
       "d/ambient_teknology-the_all_seeing_eye_project-...              0        0   \n",
       "\n",
       "                                                    female vocals  voices  \\\n",
       "mp3_path                                                                    \n",
       "d/ambient_teknology-the_all_seeing_eye_project-...              0       0   \n",
       "d/ambient_teknology-the_all_seeing_eye_project-...              0       0   \n",
       "d/ambient_teknology-the_all_seeing_eye_project-...              0       0   \n",
       "d/ambient_teknology-the_all_seeing_eye_project-...              0       0   \n",
       "d/ambient_teknology-the_all_seeing_eye_project-...              0       0   \n",
       "\n",
       "                                                    choir  female singer  \\\n",
       "mp3_path                                                                   \n",
       "d/ambient_teknology-the_all_seeing_eye_project-...      0              0   \n",
       "d/ambient_teknology-the_all_seeing_eye_project-...      0              0   \n",
       "d/ambient_teknology-the_all_seeing_eye_project-...      0              0   \n",
       "d/ambient_teknology-the_all_seeing_eye_project-...      0              0   \n",
       "d/ambient_teknology-the_all_seeing_eye_project-...      0              0   \n",
       "\n",
       "                                                    women  choir  women  \n",
       "mp3_path                                                                 \n",
       "d/ambient_teknology-the_all_seeing_eye_project-...      0      0      0  \n",
       "d/ambient_teknology-the_all_seeing_eye_project-...      0      0      0  \n",
       "d/ambient_teknology-the_all_seeing_eye_project-...      0      0      0  \n",
       "d/ambient_teknology-the_all_seeing_eye_project-...      0      0      0  \n",
       "d/ambient_teknology-the_all_seeing_eye_project-...      0      0      0  \n",
       "\n",
       "[5 rows x 32 columns]"
      ]
     },
     "execution_count": 7,
     "metadata": {},
     "output_type": "execute_result"
    }
   ],
   "source": [
    "metadata[tags_vocal].head()"
   ]
  },
  {
   "cell_type": "code",
   "execution_count": 8,
   "metadata": {},
   "outputs": [
    {
     "data": {
      "text/plain": [
       "mp3_path\n",
       "d/ambient_teknology-the_all_seeing_eye_project-01-cyclops-262-291.mp3           False\n",
       "d/ambient_teknology-the_all_seeing_eye_project-02-all_seeing_eye-175-204.mp3    False\n",
       "d/ambient_teknology-the_all_seeing_eye_project-03-black-175-204.mp3             False\n",
       "d/ambient_teknology-the_all_seeing_eye_project-04-confusion_says-88-117.mp3     False\n",
       "d/ambient_teknology-the_all_seeing_eye_project-05-the_beholder-291-320.mp3      False\n",
       "dtype: bool"
      ]
     },
     "execution_count": 8,
     "metadata": {},
     "output_type": "execute_result"
    }
   ],
   "source": [
    "# set vocal to True of any of the tags_vocal are 1\n",
    "gt_vocal = metadata[tags_vocal].any(axis=1)\n",
    "gt_vocal.head()"
   ]
  },
  {
   "cell_type": "code",
   "execution_count": 9,
   "metadata": {},
   "outputs": [
    {
     "data": {
      "text/plain": [
       "mp3_path\n",
       "d/ambient_teknology-the_all_seeing_eye_project-01-cyclops-262-291.mp3           False\n",
       "d/ambient_teknology-the_all_seeing_eye_project-02-all_seeing_eye-175-204.mp3    False\n",
       "d/ambient_teknology-the_all_seeing_eye_project-03-black-175-204.mp3             False\n",
       "d/ambient_teknology-the_all_seeing_eye_project-04-confusion_says-88-117.mp3     False\n",
       "d/ambient_teknology-the_all_seeing_eye_project-05-the_beholder-291-320.mp3       True\n",
       "dtype: bool"
      ]
     },
     "execution_count": 9,
     "metadata": {},
     "output_type": "execute_result"
    }
   ],
   "source": [
    "# set instrumental to True of any of the tags_instrumental are 1\n",
    "gt_instrumental = metadata[tags_instrumental].any(axis=1)\n",
    "gt_instrumental.head()"
   ]
  },
  {
   "cell_type": "markdown",
   "metadata": {},
   "source": [
    "<b>We can only use the tag if EITHER instrumental OR vocal is True.</b><br>\n",
    "If both of them are True or both of them are False, we cannot trust the groundtruth data. Ergo we have to remove these and retain only the others."
   ]
  },
  {
   "cell_type": "code",
   "execution_count": 10,
   "metadata": {},
   "outputs": [
    {
     "data": {
      "text/plain": [
       "mp3_path\n",
       "d/ambient_teknology-the_all_seeing_eye_project-01-cyclops-262-291.mp3           False\n",
       "d/ambient_teknology-the_all_seeing_eye_project-02-all_seeing_eye-175-204.mp3    False\n",
       "d/ambient_teknology-the_all_seeing_eye_project-03-black-175-204.mp3             False\n",
       "d/ambient_teknology-the_all_seeing_eye_project-04-confusion_says-88-117.mp3     False\n",
       "d/ambient_teknology-the_all_seeing_eye_project-05-the_beholder-291-320.mp3       True\n",
       "dtype: bool"
      ]
     },
     "execution_count": 10,
     "metadata": {},
     "output_type": "execute_result"
    }
   ],
   "source": [
    "retain = np.logical_xor(gt_vocal,gt_instrumental)\n",
    "retain.head()"
   ]
  },
  {
   "cell_type": "code",
   "execution_count": 11,
   "metadata": {},
   "outputs": [
    {
     "name": "stdout",
     "output_type": "stream",
     "text": [
      "From originally 3023 input examples, we can only retain 959 trusted ones in our groundtruth\n"
     ]
    }
   ],
   "source": [
    "n_orig = len(gt_vocal)\n",
    "\n",
    "n_retain = sum(retain)\n",
    "\n",
    "print(\"From originally\", n_orig, \"input examples, we can only retain\",n_retain, \"trusted ones in our groundtruth\")"
   ]
  },
  {
   "cell_type": "markdown",
   "metadata": {},
   "source": [
    "In the end we cut from gt_vocal only the exampls to retain. If they are True they are vocal, if they are False, they are instrumental:"
   ]
  },
  {
   "cell_type": "code",
   "execution_count": 12,
   "metadata": {},
   "outputs": [
    {
     "data": {
      "text/plain": [
       "mp3_path\n",
       "d/ambient_teknology-the_all_seeing_eye_project-05-the_beholder-291-320.mp3                                                                                                                   False\n",
       "0/american_bach_soloists-j_s__bach__cantatas_volume_v-03-gleichwie_der_regen_und_schnee_vom_himmel_fallt_bwv_18_iii_recitative_and_litany__mein_gott_hier_wird_mein_herze_sein-88-117.mp3     True\n",
       "0/american_bach_soloists-j_s__bach__cantatas_volume_v-07-weinen_klagen_sorgen_zagen_bwv_12_ii_chorus__weinen_klagen_sorgen_zagen-262-291.mp3                                                  True\n",
       "0/american_bach_soloists-j_s__bach__cantatas_volume_v-08-weinen_klagen_sorgen_zagen_bwv_12_iii_recitative__wir_mussen_durch_viel_truebsal-0-29.mp3                                            True\n",
       "0/american_bach_soloists-j_s__bach__cantatas_volume_v-09-weinen_klagen_sorgen_zagen_bwv_12_iv_aria__kreuz_und_krone_sind_verbunden-59-88.mp3                                                  True\n",
       "0/american_bach_soloists-j_s__bach__cantatas_volume_v-11-weinen_klagen_sorgen_zagen_bwv_12_vi_aria__sei_getreu-88-117.mp3                                                                     True\n",
       "0/american_bach_soloists-j_s__bach__cantatas_volume_v-13-nun_komm_der_heiden_heiland_bwv_61_i_ouverture__nun_komm_der_heiden_heiland-59-88.mp3                                                True\n",
       "0/american_bach_soloists-j_s__bach__cantatas_volume_v-14-nun_komm_der_heiden_heiland_bwv_61_ii_recitative__der_heiland_ist_gekommen-30-59.mp3                                                 True\n",
       "0/american_bach_soloists-j_s__bach__cantatas_volume_v-15-nun_komm_der_heiden_heiland_bwv_61_iii_aria__komm_jesu_komm_zu_deiner_kirche-117-146.mp3                                             True\n",
       "dtype: bool"
      ]
     },
     "execution_count": 12,
     "metadata": {},
     "output_type": "execute_result"
    }
   ],
   "source": [
    "gt_final = gt_vocal[retain]\n",
    "gt_final.head(9)"
   ]
  },
  {
   "cell_type": "code",
   "execution_count": 13,
   "metadata": {},
   "outputs": [
    {
     "name": "stdout",
     "output_type": "stream",
     "text": [
      "671 vocal tracks\n"
     ]
    }
   ],
   "source": [
    "print(str(sum(gt_final)) + \" vocal tracks\")"
   ]
  },
  {
   "cell_type": "code",
   "execution_count": 14,
   "metadata": {},
   "outputs": [
    {
     "name": "stdout",
     "output_type": "stream",
     "text": [
      "288 instrumental tracks\n"
     ]
    }
   ],
   "source": [
    "print(str(sum(np.logical_not(gt_final))) + \" instrumental tracks\")"
   ]
  },
  {
   "cell_type": "markdown",
   "metadata": {},
   "source": [
    "<b>Create two lists: one with filenames and one with associated classes</b>"
   ]
  },
  {
   "cell_type": "code",
   "execution_count": 15,
   "metadata": {},
   "outputs": [],
   "source": [
    "# index in list of strings\n",
    "filelist = gt_final.index.tolist()\n",
    "# convert boolean to int and store in other list\n",
    "classes = (gt_final * 1).tolist()"
   ]
  },
  {
   "cell_type": "code",
   "execution_count": 16,
   "metadata": {},
   "outputs": [
    {
     "data": {
      "text/plain": [
       "['d/ambient_teknology-the_all_seeing_eye_project-05-the_beholder-291-320.mp3',\n",
       " '0/american_bach_soloists-j_s__bach__cantatas_volume_v-03-gleichwie_der_regen_und_schnee_vom_himmel_fallt_bwv_18_iii_recitative_and_litany__mein_gott_hier_wird_mein_herze_sein-88-117.mp3',\n",
       " '0/american_bach_soloists-j_s__bach__cantatas_volume_v-07-weinen_klagen_sorgen_zagen_bwv_12_ii_chorus__weinen_klagen_sorgen_zagen-262-291.mp3',\n",
       " '0/american_bach_soloists-j_s__bach__cantatas_volume_v-08-weinen_klagen_sorgen_zagen_bwv_12_iii_recitative__wir_mussen_durch_viel_truebsal-0-29.mp3',\n",
       " '0/american_bach_soloists-j_s__bach__cantatas_volume_v-09-weinen_klagen_sorgen_zagen_bwv_12_iv_aria__kreuz_und_krone_sind_verbunden-59-88.mp3']"
      ]
     },
     "execution_count": 16,
     "metadata": {},
     "output_type": "execute_result"
    }
   ],
   "source": [
    "filelist[0:5]"
   ]
  },
  {
   "cell_type": "code",
   "execution_count": 17,
   "metadata": {},
   "outputs": [
    {
     "data": {
      "text/plain": [
       "[0, 1, 1, 1, 1]"
      ]
     },
     "execution_count": 17,
     "metadata": {},
     "output_type": "execute_result"
    }
   ],
   "source": [
    "classes[0:5]"
   ]
  },
  {
   "cell_type": "code",
   "execution_count": 18,
   "metadata": {},
   "outputs": [
    {
     "data": {
      "text/plain": [
       "array([0, 1, 1, 1, 1])"
      ]
     },
     "execution_count": 18,
     "metadata": {},
     "output_type": "execute_result"
    }
   ],
   "source": [
    "# convert to Numpy array as needed by Keras\n",
    "classes = np.array(classes)\n",
    "classes[0:5]"
   ]
  },
  {
   "cell_type": "markdown",
   "metadata": {},
   "source": [
    "## Load the Audio Files"
   ]
  },
  {
   "cell_type": "markdown",
   "metadata": {},
   "source": [
    "#### Function to analyze audio files and get small or large spectrogram excerpts"
   ]
  },
  {
   "cell_type": "code",
   "execution_count": 19,
   "metadata": {},
   "outputs": [],
   "source": [
    "def create_spectrograms(filelist, n_mel_bands=40, frames=80, return_example=False):\n",
    "\n",
    "    list_spectrograms = [] # spectrograms are put into a list first\n",
    "\n",
    "    # some FFT parameters\n",
    "    fft_window_size=512\n",
    "    fft_overlap = 0.5\n",
    "    hop_size = int(fft_window_size*(1-fft_overlap))\n",
    "    segment_size = fft_window_size + (frames-1) * hop_size # segment size for desired # frames\n",
    "\n",
    "    print(\"Reading and processing\", len(filelist), \"audio files\")\n",
    "    \n",
    "    for filename in filelist:\n",
    "        print(\".\", end='')\n",
    "        filepath = os.path.join(AUDIO_PATH, filename)\n",
    "        samplerate, samplewidth, wavedata = audiofile_read(filepath,verbose=False)\n",
    "        sample_length = wavedata.shape[0]\n",
    "\n",
    "        # make Mono (in case of multiple channels / stereo)\n",
    "        if wavedata.ndim > 1:\n",
    "            wavedata = np.mean(wavedata, 1)\n",
    "\n",
    "        # take only a segment; choose start position:\n",
    "        #pos = 0 # beginning\n",
    "        pos = int(wavedata.shape[0]/2 - segment_size/2) # center minus half segment size\n",
    "        wav_segment = wavedata[pos:pos+segment_size]\n",
    "\n",
    "        # 1) FFT spectrogram \n",
    "        spectrogram = rp.calc_spectrogram(wav_segment,fft_window_size,fft_overlap)\n",
    "\n",
    "        # 2) Transform to perceptual Mel scale (uses librosa.filters.mel)\n",
    "        spectrogram = rp.transform2mel(spectrogram,samplerate,fft_window_size,n_mel_bands)\n",
    "\n",
    "        # 3) Log 10 transform\n",
    "        spectrogram = np.log10(spectrogram)\n",
    "\n",
    "        list_spectrograms.append(spectrogram)\n",
    "\n",
    "    print(\"\\nConverting to big data array...\")\n",
    "    # a list of many spectrograms is made into 1 big array with 3 dimensions\n",
    "    # + convert the input data to the right data type used by Keras Deep Learning (GPU)\n",
    "    data = np.array(list_spectrograms, dtype=K.floatx())\n",
    "\n",
    "    # replace Inf values:\n",
    "    # as in our preprocessing some files generated an Inf value in the log10 computation, we replace those by 0:\n",
    "\n",
    "    data[np.isinf(data)] = 0\n",
    "\n",
    "    print(\"done.\")\n",
    "    \n",
    "    # just for illustration purposes, return the last wav file and its spectrogram and audio data\n",
    "    if return_example:\n",
    "        return data, wav_segment, spectrogram, segment_size, samplerate, samplewidth\n",
    "    \n",
    "    return data"
   ]
  },
  {
   "cell_type": "markdown",
   "metadata": {},
   "source": [
    "#### Define desired output parameters"
   ]
  },
  {
   "cell_type": "code",
   "execution_count": 20,
   "metadata": {},
   "outputs": [],
   "source": [
    "# small spectrograms\n",
    "#n_mel_bands = 40   # y axis\n",
    "#frames = 80        # x axis\n",
    "\n",
    "# large  spectrograms\n",
    "n_mel_bands = 96   # y axis\n",
    "frames = 683        # x axis\n",
    "\n",
    "# extra large  spectrograms\n",
    "#n_mel_bands = 96   # y axis\n",
    "#frames = 1366        # x axis"
   ]
  },
  {
   "cell_type": "code",
   "execution_count": 21,
   "metadata": {},
   "outputs": [
    {
     "name": "stdout",
     "output_type": "stream",
     "text": [
      "Reading and processing 959 audio files\n",
      "............................................................................................................................................................................................................................................................................................................................"
     ]
    },
    {
     "name": "stderr",
     "output_type": "stream",
     "text": [
      "/usr/local/lib/python3.5/dist-packages/ipykernel_launcher.py:35: RuntimeWarning: divide by zero encountered in log10\n"
     ]
    },
    {
     "name": "stdout",
     "output_type": "stream",
     "text": [
      "...................................................................................................................................................................................................................................................................................................................................................................................................................................................................................................................................................................................................................................................................\n",
      "Converting to big data array...\n",
      "done.\n"
     ]
    }
   ],
   "source": [
    "#data = create_spectrograms(filelist, n_mel_bands, frames)\n",
    " \n",
    "# get some extra data for illustration\n",
    "data, wav_segment, spectrogram, segment_size, samplerate, samplewidth = create_spectrograms(filelist, n_mel_bands, frames, return_example=True)"
   ]
  },
  {
   "cell_type": "code",
   "execution_count": 30,
   "metadata": {},
   "outputs": [
    {
     "name": "stdout",
     "output_type": "stream",
     "text": [
      "Features stored to /home/tlidy/data/MagnaTagATune/spectrograms_instrumental.npz\n"
     ]
    }
   ],
   "source": [
    "# OPTIONAL: store audio features for faster reload later\n",
    "\n",
    "save_features = True\n",
    "\n",
    "if save_features:\n",
    "    FEAT_FILE = os.path.join(DATA_PATH, \"spectrograms_instrumental.npz\")\n",
    "    np.savez(FEAT_FILE, data = data, filenames = filelist)\n",
    "    print(\"Features stored to \" + FEAT_FILE)"
   ]
  },
  {
   "cell_type": "markdown",
   "metadata": {},
   "source": [
    "### Show Waveform and Spectrogram (just for illustration)"
   ]
  },
  {
   "cell_type": "code",
   "execution_count": 26,
   "metadata": {},
   "outputs": [
    {
     "data": {
      "text/plain": [
       "(22050, 2)"
      ]
     },
     "execution_count": 26,
     "metadata": {},
     "output_type": "execute_result"
    }
   ],
   "source": [
    "samplerate, samplewidth"
   ]
  },
  {
   "cell_type": "code",
   "execution_count": 27,
   "metadata": {},
   "outputs": [
    {
     "data": {
      "text/plain": [
       "array([-0.00286865, -0.02416992,  0.00906372, ...,  0.04193115,\n",
       "        0.05844116,  0.06524658])"
      ]
     },
     "execution_count": 27,
     "metadata": {},
     "output_type": "execute_result"
    }
   ],
   "source": [
    "wav_segment"
   ]
  },
  {
   "cell_type": "code",
   "execution_count": 28,
   "metadata": {},
   "outputs": [
    {
     "data": {
      "text/plain": [
       "(96, 683)"
      ]
     },
     "execution_count": 28,
     "metadata": {},
     "output_type": "execute_result"
    }
   ],
   "source": [
    "spectrogram.shape"
   ]
  },
  {
   "cell_type": "code",
   "execution_count": null,
   "metadata": {},
   "outputs": [],
   "source": [
    "print(\"An audio segment is\", round(float(segment_size) / samplerate, 2), \"seconds long\")"
   ]
  },
  {
   "cell_type": "code",
   "execution_count": 31,
   "metadata": {},
   "outputs": [
    {
     "data": {
      "text/plain": [
       "(959, 96, 683)"
      ]
     },
     "execution_count": 31,
     "metadata": {},
     "output_type": "execute_result"
    }
   ],
   "source": [
    "data.shape"
   ]
  },
  {
   "cell_type": "code",
   "execution_count": 32,
   "metadata": {},
   "outputs": [
    {
     "ename": "NameError",
     "evalue": "name 'filename' is not defined",
     "output_type": "error",
     "traceback": [
      "\u001b[0;31m---------------------------------------------------------------------------\u001b[0m",
      "\u001b[0;31mNameError\u001b[0m                                 Traceback (most recent call last)",
      "\u001b[0;32m<ipython-input-32-bda8832822cf>\u001b[0m in \u001b[0;36m<module>\u001b[0;34m()\u001b[0m\n\u001b[1;32m      6\u001b[0m \u001b[0;31m# show 1 sec wave segment\u001b[0m\u001b[0;34m\u001b[0m\u001b[0;34m\u001b[0m\u001b[0m\n\u001b[1;32m      7\u001b[0m \u001b[0mplt\u001b[0m\u001b[0;34m.\u001b[0m\u001b[0mplot\u001b[0m\u001b[0;34m(\u001b[0m\u001b[0mwav_segment\u001b[0m\u001b[0;34m)\u001b[0m\u001b[0;34m\u001b[0m\u001b[0m\n\u001b[0;32m----> 8\u001b[0;31m \u001b[0mfilename\u001b[0m\u001b[0;34m\u001b[0m\u001b[0m\n\u001b[0m",
      "\u001b[0;31mNameError\u001b[0m: name 'filename' is not defined"
     ]
    },
    {
     "data": {
      "image/png": "[encoded data removed]",
      "text/plain": [
       "<Figure size 432x288 with 1 Axes>"
      ]
     },
     "metadata": {},
     "output_type": "display_data"
    }
   ],
   "source": [
    "# you can skip this if you do not have matplotlib installed\n",
    "\n",
    "import matplotlib.pyplot as plt\n",
    "%matplotlib inline \n",
    "\n",
    "# show 1 sec wave segment\n",
    "plt.plot(wav_segment)\n",
    "filename"
   ]
  },
  {
   "cell_type": "code",
   "execution_count": null,
   "metadata": {},
   "outputs": [],
   "source": [
    "# show spectrogram\n",
    "fig = plt.imshow(spectrogram, origin='lower', aspect='auto')\n",
    "fig.set_cmap('jet')\n",
    "fig.axes.get_xaxis().set_visible(False)\n",
    "fig.axes.get_yaxis().set_visible(False)"
   ]
  },
  {
   "cell_type": "markdown",
   "metadata": {},
   "source": [
    "## Standardization\n",
    "\n",
    "<b>Always standardize</b> the data before feeding it into the Neural Network!\n",
    "\n",
    "We use <b>Zero-mean Unit-variance standardization</b> (also known as Z-score normalization).\n",
    "Here, we use <b>attribute-wise standardization</b>, i.e. each pixel is standardized individually, as opposed to computing a single mean and single standard deviation of all values.\n",
    "\n",
    "('Flat' standardization would also be possible, but we have seen benefits of attribut-wise standardization in our experiments).\n",
    "\n",
    "We use the StandardScaler from the scikit-learn package for our purpose.\n",
    "As it works typically on vector data, we have to vectorize (i.e. reshape) our matrices first."
   ]
  },
  {
   "cell_type": "code",
   "execution_count": 33,
   "metadata": {},
   "outputs": [],
   "source": [
    "def standardize(data):\n",
    "    # vectorize before standardization (cause scaler can't do it in that format)\n",
    "    N, ydim, xdim = data.shape\n",
    "    data = data.reshape(N, xdim*ydim)\n",
    "\n",
    "    # standardize\n",
    "    scaler = preprocessing.StandardScaler()\n",
    "    data = scaler.fit_transform(data)\n",
    "\n",
    "    # reshape to original shape\n",
    "    return data.reshape(N, ydim, xdim)"
   ]
  },
  {
   "cell_type": "code",
   "execution_count": 34,
   "metadata": {},
   "outputs": [],
   "source": [
    "data = standardize(data)"
   ]
  },
  {
   "cell_type": "markdown",
   "metadata": {},
   "source": [
    "# Convolutional Neural Networks\n",
    "\n",
    "A Convolutional Neural Network (ConvNet or CNN) is a type of (deep) Neural Network that is well-suited for 2D axes data, such as images or spectrograms, as it is optimized for learning from spatial proximity. Its core elements are 2D filter kernels which essentially learn the weights of the Neural Network, and downscaling functions such as Max Pooling.\n",
    "\n",
    "A CNN can have one or more Convolution layers, each of them having an arbitrary number of N filters (which define the depth of the CNN layer), following typically by a pooling step, which aggregates neighboring pixels together and thus reduces the image resolution by retaining only the maximum values of neighboring pixels."
   ]
  },
  {
   "cell_type": "markdown",
   "metadata": {},
   "source": [
    "## Preparing the Data\n",
    "\n",
    "### Adding the channel\n",
    "\n",
    "As CNNs were initially made for image data, we need to add a dimension for the color channel to the data. RGB images typically have a 3rd dimension with the color. \n",
    "\n",
    "<b>Spectrograms, however, are considered like greyscale images, as in the previous tutorial.\n",
    "Likewise we need to add an extra dimension for compatibility with the CNN implementation.</b>\n",
    "\n",
    "For greyscale images, we add the number 1 as the depth of the additional dimension of the input shape (for RGB color images, the number of channels is 3).\n",
    "\n",
    "<i>Note on Tensorflow vs. Theano:</i>\n",
    "\n",
    "In Theano, traditionally the color channel was the <b>first</b> dimension in the image shape. \n",
    "In Tensorflow, the color channel is the <b>last</b> dimension in the image shape. \n",
    "\n",
    "This can be configured in ~/.keras/keras.json: \"image_dim_ordering\": \"th\" or \"tf\" (for Theano or Tensorflow) *or* with \"image_data_format\" set to \"channels_first\" or \"channels_last\".\n",
    "\n",
    "Tensorflow is now the default image ordering for Kears (\"tf\" and/or \"channels_last\").\n",
    "To be on the safe side, we added the if statement below."
   ]
  },
  {
   "cell_type": "code",
   "execution_count": 33,
   "metadata": {},
   "outputs": [
    {
     "data": {
      "text/plain": [
       "'channels_last'"
      ]
     },
     "execution_count": 33,
     "metadata": {},
     "output_type": "execute_result"
    }
   ],
   "source": [
    "keras.backend.image_data_format()"
   ]
  },
  {
   "cell_type": "code",
   "execution_count": 69,
   "metadata": {},
   "outputs": [],
   "source": [
    "def add_channel(data, n_channels=1):\n",
    "    # n_channels: 1 for grey-scale, 3 for RGB, but usually already present in the data\n",
    "    \n",
    "    N, ydim, xdim = data.shape\n",
    "\n",
    "    if keras.backend.image_data_format() == 'channels_last':  # TENSORFLOW\n",
    "        # Tensorflow ordering (~/.keras/keras.json: \"image_dim_ordering\": \"tf\")\n",
    "        data = data.reshape(N, ydim, xdim, n_channels)\n",
    "    else: # THEANO\n",
    "        # Theano ordering (~/.keras/keras.json: \"image_dim_ordering\": \"th\")\n",
    "        data = data.reshape(N, n_channels, ydim, xdim)\n",
    "        \n",
    "    return data"
   ]
  },
  {
   "cell_type": "code",
   "execution_count": null,
   "metadata": {},
   "outputs": [],
   "source": [
    "data = add_channel(data, n_channels=1)\n",
    "data.shape"
   ]
  },
  {
   "cell_type": "code",
   "execution_count": 36,
   "metadata": {},
   "outputs": [
    {
     "data": {
      "text/plain": [
       "(96, 683, 1)"
      ]
     },
     "execution_count": 36,
     "metadata": {},
     "output_type": "execute_result"
    }
   ],
   "source": [
    "# we store the new shape of the images in the 'input_shape' variable.\n",
    "# take all dimensions except the 0th one (which is the number of files)\n",
    "input_shape = data.shape[1:]  \n",
    "input_shape"
   ]
  },
  {
   "cell_type": "markdown",
   "metadata": {},
   "source": [
    "### Train & Test Set Split\n",
    "\n",
    "We split the original full data set into two parts: Train Set (75%) and Test Set (25%).\n",
    "\n",
    "Note: \n",
    "For demo purposes we use only 1 split here. A better way to do it is to use **Cross-Validation**, doing the split multiple times, iterating training and testing over the splits and averaging the results."
   ]
  },
  {
   "cell_type": "code",
   "execution_count": 37,
   "metadata": {},
   "outputs": [],
   "source": [
    "testset_size = 0.25 # % portion of whole data set to keep for testing, i.e. 75% is used for training"
   ]
  },
  {
   "cell_type": "code",
   "execution_count": 38,
   "metadata": {},
   "outputs": [
    {
     "name": "stdout",
     "output_type": "stream",
     "text": [
      "TRAIN INDEX: [135 957 350 397 651 154 704 255 811 881 937 921 229 635 839 643   2 619\n",
      " 299 225 388 400 717 444 736 673 675 548 731 850 401 112 608  71 791  76\n",
      " 281 721 545 538 155 753 206  41 527 856 491 745 366 756 720 227 218 836\n",
      " 103 711  72 878  42 144 447 349 589 710 362 203 376 864 782 226 302 220\n",
      " 379 773 256 555 476 231  49  51 601 458 744 623 906 685 136 730 115 781\n",
      " 747 628 869 441 148 728 264 934  37 479 599 237 134 493 557 265 687  88\n",
      " 363 884 179 201 195 578 166 342 797 339 842 284 924 416 145 382  22  80\n",
      " 851 927  60 952 912 292 378 634 287 263 181 316 954  53 141 928 278 348\n",
      " 563 890 735 553  93 385 564 294 824 371 841 585 198 757 700 876   3 558\n",
      " 953 748 678 903 544 920 784  16 832 466 448 883 190 187 200 483 650 654\n",
      " 128 442  75 752 914 894 776 386 100  30 178   1 249 420 129 101 497 429\n",
      "  61 888 450 396 480 172 923 885 694 693 916 373 909 273 624 621 331  55\n",
      "  39 570 104 234 785 672  86 270 475  54  95 569 146  59 603 521 543 568\n",
      " 403 726  47 702 577  94  12 216 267 760 471 828 482 300 829 768 242 413\n",
      " 617 729 767 436  18 795 321 542 758 790 549 664  32 922 514 461 175 830\n",
      " 293 592 827 106 304 676 949 706 246  43 825 199 233 235 739 431 674 337\n",
      "  99 254 866 610 682 525 121 662 633 587 367 434 245 370 595 122 556 383\n",
      " 171 251 193 309 541 656 897   9 318 737 365 932 435 554 207  70 798 833\n",
      " 325   6 408 566 637 755 740 770 783 162 852 327 831 140 474 955 212 590\n",
      " 290 534 933  11   7 271 574  44 573 150 138 399 616 695 387 307 262 733\n",
      " 481  84 772 666 594 355  77 426 130 261  34 714 918 948 392 208 872 605\n",
      " 503  50 636 854 809 137 528  24 422 346 646 865 668 340  36 683  27 313\n",
      "  57 751 192 301 295  38 170 407 907 501 238 323 456 205 391 642 329 679\n",
      " 180 855 796  40 722 451  13 336 707 276 185 488 421 320 202  58 495 513\n",
      " 536 526 507 584 667 411 763 696 631 186 788  52 404 925 579 862 703 905\n",
      "  97 861 716 163 804 412 390 613 464 698  64 532 377 818 277 575  83 500\n",
      " 241 808 283 232 125 472 893 762 402 789 561 596 230 496 452 248 410  79\n",
      "  46 459 517 268 253 512 457 539 467 361 494 196  89 640  29  87 843 473\n",
      " 372  65 699  15  19 847 586 820 465 142 222 826 778 571 823 659 462 215\n",
      " 580 303  85 357 780  74 351 223 519 478 417 343 567 936 857 484 338  78\n",
      " 581 591 626 124 882 560 219 260 153 738 638 806 425 424 279   0  23 648\n",
      " 105 794 116 240 946 689  56  48 224 669 449 213 460 951 750 742 805 661\n",
      " 904 209 799 766 546 469 612 317 428 498 838 347 734 108 793 418 620  10\n",
      " 688 814 364 725 236 341 285 427 845 272 547 443 509 123 902 853 381 746\n",
      " 565  81 606 310 898 258 615 598 705 210 718 405 328 131 432 113  20 868\n",
      " 732 530 761 871 614 873 531 803 446 840 652 552 133  21 899 194 649 167\n",
      " 508 315 311 754 681 870 118 324 380 690  68 147  67 306  91 244 152 522\n",
      " 801 250 360 505 117  96 950 344  92 913 812 247  35 298 184 139 879 723\n",
      " 641 282 727 609 697  33 671 161 114 352 764 454 437 625 414 515 708 393\n",
      " 169 111 741 802 297 243 655 419 291 941 821 394 712 956 627 749 919]\n",
      "TEST INDEX: [800 158 816 468 197 680 529 463 516 958 354 947 769 438 665 333 330 917\n",
      " 891 415 588   8 151  45 597 204 239 813 374 938 880 499 433 489 844 691\n",
      " 834 440 647 867 107 322 817 692 901 319 931 191 848 375 485 368 334 520\n",
      " 774 518 940 353 819 858 406 143 157 622 860   5 792 645 359 266 510 132\n",
      " 572  17 211 653 535  98 176 455 849 775 945 164  63 670 188 686 228  62\n",
      " 896 398 286 660 877 630 308 779 120 477 332 926 743 280 326 787   4 430\n",
      " 506 859 944 930 658 214 409 356 314 895  25 629 550 551 423 771 713 701\n",
      " 274 892 611 943 663 709 395 504 453 109 910 942 177 684 576 156 369 777\n",
      "  90 846 445 822 810 149 639  14 523  73 604 759 540 389 252 492 889  28\n",
      " 335 312 677 863 345 533 908 384 600 874  66 168 110 607 939 524 875 935\n",
      " 837 275 439 470 502 583 288 183 217 486 182 119 305 644 911 487 886 189\n",
      " 126 358 724  69 296 715 618  82 165 582 657 807  31 257 929 559 786 562\n",
      " 160 815 490 900 289 269 173  26 719 915 632 593 835 537 259 511 127 765\n",
      " 887 221 602 174 159 102]\n"
     ]
    }
   ],
   "source": [
    "# Stratified Split retains the class balance in both sets\n",
    "\n",
    "splitter = StratifiedShuffleSplit(n_splits=1, test_size=testset_size, random_state=0)\n",
    "splits = splitter.split(data, classes)\n",
    "\n",
    "for train_index, test_index in splits:\n",
    "    print(\"TRAIN INDEX:\", train_index)\n",
    "    print(\"TEST INDEX:\", test_index)\n",
    "    train_set = data[train_index]\n",
    "    test_set = data[test_index]\n",
    "    train_classes = classes[train_index]\n",
    "    test_classes = classes[test_index]\n",
    "# Note: this for loop is only executed once if n_splits==1"
   ]
  },
  {
   "cell_type": "code",
   "execution_count": 39,
   "metadata": {},
   "outputs": [
    {
     "name": "stdout",
     "output_type": "stream",
     "text": [
      "(719, 96, 683, 1)\n",
      "(240, 96, 683, 1)\n"
     ]
    }
   ],
   "source": [
    "print(train_set.shape)\n",
    "print(test_set.shape)"
   ]
  },
  {
   "cell_type": "code",
   "execution_count": 40,
   "metadata": {},
   "outputs": [
    {
     "name": "stdout",
     "output_type": "stream",
     "text": [
      "Class Counts: Class 0: 216 Class 1: 503\n"
     ]
    }
   ],
   "source": [
    "print(\"Class Counts: Class 0:\", sum(train_classes==0), \"Class 1:\", sum(train_classes))"
   ]
  },
  {
   "cell_type": "markdown",
   "metadata": {},
   "source": [
    "# Creating CNN Models in Keras"
   ]
  },
  {
   "cell_type": "markdown",
   "metadata": {},
   "source": [
    "## Compact CNN\n",
    "\n",
    "This is a 5 layer Convolutional Neural Network inspired and adapted from Keunwoo Choi (https://github.com/keunwoochoi/music-auto_tagging-keras)"
   ]
  },
  {
   "cell_type": "code",
   "execution_count": 48,
   "metadata": {},
   "outputs": [
    {
     "data": {
      "text/plain": [
       "(959, 96, 683, 1)"
      ]
     },
     "execution_count": 48,
     "metadata": {},
     "output_type": "execute_result"
    }
   ],
   "source": [
    "data.shape"
   ]
  },
  {
   "cell_type": "code",
   "execution_count": 86,
   "metadata": {},
   "outputs": [],
   "source": [
    "def CompactCNN(input_shape, nb_conv, nb_filters, n_mels, normalize, nb_hidden, dense_units, \n",
    "               output_shape, activation, dropout, multiple_segments=False, graph_model=False, input_tensor=None):\n",
    "    \n",
    "    melgram_input = Input(shape=input_shape)\n",
    "\n",
    "    if n_mels >= 256:\n",
    "        poolings = [(2, 4), (4, 4), (4, 5), (2, 4), (4, 4)]\n",
    "    elif n_mels >= 128:\n",
    "        poolings = [(2, 4), (4, 4), (2, 5), (2, 4), (4, 4)]\n",
    "    elif n_mels >= 96:\n",
    "        poolings = [(2, 4), (3, 4), (2, 5), (2, 4), (4, 4)]\n",
    "    elif n_mels >= 72:\n",
    "        poolings = [(2, 4), (3, 4), (2, 5), (2, 4), (3, 4)]\n",
    "    elif n_mels >= 64:\n",
    "        poolings = [(2, 4), (2, 4), (2, 5), (2, 4), (4, 4)]\n",
    "\n",
    "    # Determine input axis\n",
    "    if keras.backend.image_dim_ordering() == 'th':\n",
    "        channel_axis = 1\n",
    "        freq_axis = 2\n",
    "        time_axis = 3\n",
    "    else:\n",
    "        channel_axis = 3\n",
    "        freq_axis = 1\n",
    "        time_axis = 2\n",
    "            \n",
    "    # Input block\n",
    "    #x = BatchNormalization(axis=time_axis, name='bn_0_freq')(melgram_input)\n",
    "        \n",
    "    if normalize == 'batch':\n",
    "        x = BatchNormalization(axis=freq_axis, name='bn_0_freq')(melgram_input)\n",
    "    elif normalize in ('data_sample', 'time', 'freq', 'channel'):\n",
    "        x = Normalization2D(normalize, name='nomalization')(melgram_input)\n",
    "    elif normalize in ('no', 'False'):\n",
    "        x = melgram_input\n",
    "\n",
    "    # Conv block 1\n",
    "    x = Convolution2D(nb_filters[0], (3, 3), padding='same')(x)\n",
    "    x = BatchNormalization(axis=channel_axis, name='bn1')(x)\n",
    "    x = ELU()(x)\n",
    "    x = MaxPooling2D(pool_size=poolings[0], name='pool1')(x)\n",
    "        \n",
    "    # Conv block 2\n",
    "    x = Convolution2D(nb_filters[1], (3, 3), padding='same')(x)\n",
    "    x = BatchNormalization(axis=channel_axis, name='bn2')(x)\n",
    "    x = ELU()(x)\n",
    "    x = MaxPooling2D(pool_size=poolings[1], name='pool2')(x)\n",
    "        \n",
    "    # Conv block 3\n",
    "    x = Convolution2D(nb_filters[2], (3, 3), padding='same')(x)\n",
    "    x = BatchNormalization(axis=channel_axis, name='bn3')(x)\n",
    "    x = ELU()(x)\n",
    "    x = MaxPooling2D(pool_size=poolings[2], name='pool3')(x)\n",
    "    \n",
    "    # Conv block 4\n",
    "    if nb_conv > 3:        \n",
    "        x = Convolution2D(nb_filters[3], (3, 3), padding='same')(x)\n",
    "        x = BatchNormalization(axis=channel_axis, name='bn4')(x)\n",
    "        x = ELU()(x)   \n",
    "        x = MaxPooling2D(pool_size=poolings[3], name='pool4')(x)\n",
    "        \n",
    "    # Conv block 5\n",
    "    if nb_conv == 5:\n",
    "        x = Convolution2D(nb_filters[4], (3, 3), padding='same')(x)\n",
    "        x = BatchNormalization(axis=channel_axis, name='bn5')(x)\n",
    "        x = ELU()(x)\n",
    "        x = MaxPooling2D(pool_size=poolings[4], name='pool5')(x)\n",
    "\n",
    "    # Flatten the outout of the last Conv Layer\n",
    "    x = Flatten()(x)\n",
    "      \n",
    "    if nb_hidden == 1:\n",
    "        x = Dropout(dropout)(x)\n",
    "        x = Dense(dense_units, activation='relu')(x)\n",
    "    elif nb_hidden == 2:\n",
    "        x = Dropout(dropout)(x)\n",
    "        x = Dense(dense_units[0], activation='relu')(x)\n",
    "        x = Dropout(dropout)(x)\n",
    "        x = Dense(dense_units[1], activation='relu')(x) \n",
    "    else:\n",
    "        raise ValueError(\"More than 2 hidden units not supported at the moment.\")\n",
    "    \n",
    "    # Output Layer\n",
    "    x = Dense(output_shape, activation=activation, name = 'output')(x)\n",
    "    \n",
    "    # Create model\n",
    "    model = Model(melgram_input, x)\n",
    "    \n",
    "    return model"
   ]
  },
  {
   "cell_type": "markdown",
   "metadata": {},
   "source": [
    "### Set model parameters\n",
    "\n"
   ]
  },
  {
   "cell_type": "code",
   "execution_count": 87,
   "metadata": {},
   "outputs": [],
   "source": [
    "# number of Convolutional Layers\n",
    "nb_conv_layers = 4\n",
    "\n",
    "# number of Filters in each layer\n",
    "nb_filters = [64,64,64,128,128]\n",
    "\n",
    "# number of hidden layers at the end of the model\n",
    "nb_hidden = 1 # 2\n",
    "\n",
    "# how many neurons in each hidden layer\n",
    "dense_units = 128 #[128,56]\n",
    "\n",
    "# how many output units\n",
    "# IN A BINARY CLASSIFICATION TASK with 2 possible outputs, 1 single output unit is sufficent (deciding between 0 and 1)\n",
    "output_shape = 1\n",
    "\n",
    "# which activation function to use for OUTPUT layer\n",
    "# IN A BINARY CLASSIFICATION TASK sigmoid activation is the right choice (activating betwee 0 and 1)\n",
    "output_activation = 'sigmoid'\n",
    "\n",
    "# which type of normalization\n",
    "normalization = 'batch'\n",
    "\n",
    "# droupout\n",
    "dropout = 0.2"
   ]
  },
  {
   "cell_type": "code",
   "execution_count": 50,
   "metadata": {},
   "outputs": [],
   "source": [
    "model = CompactCNN(input_shape, nb_conv = nb_conv_layers, nb_filters= nb_filters, n_mels = 96, \n",
    "                           normalize=normalization, \n",
    "                           nb_hidden = nb_hidden, dense_units = dense_units, \n",
    "                           output_shape = output_shape, activation = output_activation, \n",
    "                           dropout = dropout)"
   ]
  },
  {
   "cell_type": "code",
   "execution_count": 51,
   "metadata": {},
   "outputs": [
    {
     "name": "stdout",
     "output_type": "stream",
     "text": [
      "_________________________________________________________________\n",
      "Layer (type)                 Output Shape              Param #   \n",
      "=================================================================\n",
      "input_2 (InputLayer)         (None, 96, 683, 1)        0         \n",
      "_________________________________________________________________\n",
      "bn_0_freq (BatchNormalizatio (None, 96, 683, 1)        384       \n",
      "_________________________________________________________________\n",
      "conv2d_6 (Conv2D)            (None, 96, 683, 64)       640       \n",
      "_________________________________________________________________\n",
      "bn1 (BatchNormalization)     (None, 96, 683, 64)       256       \n",
      "_________________________________________________________________\n",
      "elu_6 (ELU)                  (None, 96, 683, 64)       0         \n",
      "_________________________________________________________________\n",
      "pool1 (MaxPooling2D)         (None, 48, 170, 64)       0         \n",
      "_________________________________________________________________\n",
      "conv2d_7 (Conv2D)            (None, 48, 170, 64)       36928     \n",
      "_________________________________________________________________\n",
      "bn2 (BatchNormalization)     (None, 48, 170, 64)       256       \n",
      "_________________________________________________________________\n",
      "elu_7 (ELU)                  (None, 48, 170, 64)       0         \n",
      "_________________________________________________________________\n",
      "pool2 (MaxPooling2D)         (None, 16, 42, 64)        0         \n",
      "_________________________________________________________________\n",
      "conv2d_8 (Conv2D)            (None, 16, 42, 64)        36928     \n",
      "_________________________________________________________________\n",
      "bn3 (BatchNormalization)     (None, 16, 42, 64)        256       \n",
      "_________________________________________________________________\n",
      "elu_8 (ELU)                  (None, 16, 42, 64)        0         \n",
      "_________________________________________________________________\n",
      "pool3 (MaxPooling2D)         (None, 8, 8, 64)          0         \n",
      "_________________________________________________________________\n",
      "conv2d_9 (Conv2D)            (None, 8, 8, 128)         73856     \n",
      "_________________________________________________________________\n",
      "bn4 (BatchNormalization)     (None, 8, 8, 128)         512       \n",
      "_________________________________________________________________\n",
      "elu_9 (ELU)                  (None, 8, 8, 128)         0         \n",
      "_________________________________________________________________\n",
      "pool4 (MaxPooling2D)         (None, 4, 2, 128)         0         \n",
      "_________________________________________________________________\n",
      "flatten_1 (Flatten)          (None, 1024)              0         \n",
      "_________________________________________________________________\n",
      "dropout_1 (Dropout)          (None, 1024)              0         \n",
      "_________________________________________________________________\n",
      "dense_1 (Dense)              (None, 128)               131200    \n",
      "_________________________________________________________________\n",
      "output (Dense)               (None, 1)                 129       \n",
      "=================================================================\n",
      "Total params: 281,345\n",
      "Trainable params: 280,513\n",
      "Non-trainable params: 832\n",
      "_________________________________________________________________\n"
     ]
    }
   ],
   "source": [
    "model.summary()"
   ]
  },
  {
   "cell_type": "markdown",
   "metadata": {},
   "source": [
    "## Training Setup"
   ]
  },
  {
   "cell_type": "code",
   "execution_count": 52,
   "metadata": {},
   "outputs": [],
   "source": [
    "# Loss\n",
    "\n",
    "# the loss for a binary classification task is BINARY crossentropy\n",
    "loss = 'binary_crossentropy' "
   ]
  },
  {
   "cell_type": "code",
   "execution_count": 79,
   "metadata": {},
   "outputs": [],
   "source": [
    "# Optimizers\n",
    "\n",
    "# simple case:\n",
    "# Stochastic Gradient Descent\n",
    "#optimizer = 'sgd' \n",
    "\n",
    "# advanced:\n",
    "sgd = optimizers.SGD(momentum=0.9, nesterov=True)\n",
    "rmsprop = optimizers.RMSprop(lr=0.001, rho=0.9, epsilon=1e-08, decay=0.01)#lr=0.001 decay = 0.03\n",
    "adagrad = optimizers.Adagrad(lr=0.01, epsilon=1e-08, decay=0.0)\n",
    "\n",
    "# We use mostly ADAM\n",
    "adam = optimizers.Adam(lr=0.003, beta_1=0.9, beta_2=0.999, epsilon=1e-07, decay=0.01)\n",
    "nadam = optimizers.Nadam(lr=0.002, beta_1=0.9, beta_2=0.999, epsilon=1e-07, schedule_decay=0.004)\n",
    "\n",
    "# choose\n",
    "optimizer = adam"
   ]
  },
  {
   "cell_type": "code",
   "execution_count": 80,
   "metadata": {},
   "outputs": [],
   "source": [
    "# Metrics\n",
    "\n",
    "def precision(y_true, y_pred):\n",
    "    true_positives = K.sum(K.round(K.clip(y_true * y_pred, 0, 1)))\n",
    "    predicted_positives = K.sum(K.round(K.clip(y_pred, 0, 1)))\n",
    "    precision = true_positives / (predicted_positives + K.epsilon())\n",
    "    return precision\n",
    "\n",
    "def recall(y_true, y_pred):\n",
    "    true_positives = K.sum(K.round(K.clip(y_true * y_pred, 0, 1)))\n",
    "    possible_positives = K.sum(K.round(K.clip(y_true, 0, 1)))\n",
    "    recall = true_positives / (possible_positives + K.epsilon())\n",
    "    return recall\n",
    "\n",
    "metrics = ['accuracy', precision, recall]"
   ]
  },
  {
   "cell_type": "code",
   "execution_count": 81,
   "metadata": {},
   "outputs": [],
   "source": [
    "# Other\n",
    "batch_size = 32 \n",
    "\n",
    "epochs = 40\n",
    "\n",
    "validation_split=0.1 \n",
    "\n",
    "#n_folds = 5\n",
    "random_seed = 0\n",
    "\n",
    "callbacks = None"
   ]
  },
  {
   "cell_type": "markdown",
   "metadata": {},
   "source": [
    "### Tensorboard (optional)"
   ]
  },
  {
   "cell_type": "code",
   "execution_count": 56,
   "metadata": {},
   "outputs": [],
   "source": [
    "from keras.callbacks import TensorBoard"
   ]
  },
  {
   "cell_type": "code",
   "execution_count": 57,
   "metadata": {},
   "outputs": [],
   "source": [
    "home_dir = os.getenv(\"HOME\")\n",
    "\n",
    "tb_logdir = os.path.join(home_dir, \"tensorboard\")"
   ]
  },
  {
   "cell_type": "code",
   "execution_count": 58,
   "metadata": {},
   "outputs": [],
   "source": [
    "# OPTIONAL\n",
    "# new tensorboard callback at each training\n",
    "# tensorboard_run_id = \"Vocal_magna_2seg_adam_compact_128fbis_128h\"\n",
    "# tb_logdir = \"%s/%s_fold%d %s\" %(tb_logdir, tensorboard_run_id, fold, strftime(\"%Y-%m-%d %H:%M:%S\", localtime()))"
   ]
  },
  {
   "cell_type": "code",
   "execution_count": 59,
   "metadata": {},
   "outputs": [
    {
     "name": "stdout",
     "output_type": "stream",
     "text": [
      "Execute the following in a terminal:\n",
      "\n",
      "tensorboard --logdir=/home/tlidy/tensorboard\n"
     ]
    }
   ],
   "source": [
    "print(\"Execute the following in a terminal:\\n\")\n",
    "print(\"tensorboard --logdir=\" + tb_logdir)"
   ]
  },
  {
   "cell_type": "code",
   "execution_count": 60,
   "metadata": {},
   "outputs": [],
   "source": [
    "# initialize TensorBoard in Python\n",
    "tensorboard = TensorBoard(log_dir = tb_logdir)\n",
    "\n",
    "# + add to callbacks\n",
    "callbacks = [tensorboard]"
   ]
  },
  {
   "cell_type": "markdown",
   "metadata": {},
   "source": [
    "Then open Tensorboard in browser:\n",
    "\n",
    "http://localhost:6006"
   ]
  },
  {
   "cell_type": "markdown",
   "metadata": {},
   "source": [
    "## Training"
   ]
  },
  {
   "cell_type": "code",
   "execution_count": 61,
   "metadata": {},
   "outputs": [
    {
     "name": "stdout",
     "output_type": "stream",
     "text": [
      "binary_crossentropy\n",
      "<keras.optimizers.Adam object at 0x7f34f081d208>\n",
      "['accuracy', <function precision at 0x7f34f0b3f2f0>, <function recall at 0x7f34f0b3fae8>]\n",
      "Batch size: 32 Epochs: 40\n"
     ]
    }
   ],
   "source": [
    "# Summary of Training options\n",
    "\n",
    "print(loss)\n",
    "print(optimizer)\n",
    "print(metrics)\n",
    "print(\"Batch size:\", batch_size, \"Epochs:\", epochs)"
   ]
  },
  {
   "cell_type": "code",
   "execution_count": 65,
   "metadata": {},
   "outputs": [],
   "source": [
    "# COMPILE MODEL\n",
    "\n",
    "model.compile(loss=loss, metrics=metrics, optimizer=optimizer)"
   ]
  },
  {
   "cell_type": "code",
   "execution_count": null,
   "metadata": {},
   "outputs": [],
   "source": [
    "# past_epochs is only for the case that we execute the next code box multiple times (so that Tensorboard is displaying properly)\n",
    "past_epochs = 0"
   ]
  },
  {
   "cell_type": "code",
   "execution_count": 67,
   "metadata": {},
   "outputs": [
    {
     "name": "stdout",
     "output_type": "stream",
     "text": [
      "Train on 647 samples, validate on 72 samples\n",
      "Epoch 1/40\n",
      "647/647 [==============================] - 5s 8ms/step - loss: 0.0555 - acc: 0.9768 - precision: 0.9874 - recall: 0.9830 - val_loss: 1.0835 - val_acc: 0.8611 - val_precision: 0.8443 - val_recall: 1.0000\n",
      "Epoch 2/40\n",
      "647/647 [==============================] - 5s 7ms/step - loss: 0.0894 - acc: 0.9614 - precision: 0.9691 - recall: 0.9801 - val_loss: 0.8851 - val_acc: 0.8333 - val_precision: 0.8598 - val_recall: 0.9251\n",
      "Epoch 3/40\n",
      "647/647 [==============================] - 5s 7ms/step - loss: 0.0339 - acc: 0.9907 - precision: 0.9931 - recall: 0.9946 - val_loss: 1.1578 - val_acc: 0.8750 - val_precision: 0.8697 - val_recall: 0.9815\n",
      "Epoch 4/40\n",
      "647/647 [==============================] - 5s 7ms/step - loss: 0.0303 - acc: 0.9907 - precision: 0.9945 - recall: 0.9916 - val_loss: 0.8963 - val_acc: 0.8472 - val_precision: 0.8636 - val_recall: 0.9436\n",
      "Epoch 5/40\n",
      "647/647 [==============================] - 5s 7ms/step - loss: 0.0171 - acc: 0.9938 - precision: 0.9965 - recall: 0.9959 - val_loss: 0.6863 - val_acc: 0.8750 - val_precision: 0.9052 - val_recall: 0.9251\n",
      "Epoch 6/40\n",
      "647/647 [==============================] - 5s 7ms/step - loss: 0.0212 - acc: 0.9969 - precision: 0.9978 - recall: 0.9979 - val_loss: 0.7754 - val_acc: 0.8472 - val_precision: 0.9181 - val_recall: 0.8680\n",
      "Epoch 7/40\n",
      "647/647 [==============================] - 5s 7ms/step - loss: 0.0322 - acc: 0.9876 - precision: 0.9927 - recall: 0.9898 - val_loss: 0.6466 - val_acc: 0.8750 - val_precision: 0.9088 - val_recall: 0.9251\n",
      "Epoch 8/40\n",
      "647/647 [==============================] - 5s 7ms/step - loss: 0.0079 - acc: 0.9985 - precision: 1.0000 - recall: 0.9978 - val_loss: 0.6795 - val_acc: 0.8472 - val_precision: 0.8741 - val_recall: 0.9251\n",
      "Epoch 9/40\n",
      "647/647 [==============================] - 5s 7ms/step - loss: 0.0137 - acc: 0.9954 - precision: 0.9923 - recall: 1.0000 - val_loss: 0.6583 - val_acc: 0.8472 - val_precision: 0.8874 - val_recall: 0.9066\n",
      "Epoch 10/40\n",
      "647/647 [==============================] - 5s 7ms/step - loss: 0.0174 - acc: 0.9907 - precision: 0.9939 - recall: 0.9907 - val_loss: 0.7998 - val_acc: 0.8056 - val_precision: 0.9329 - val_recall: 0.7915\n",
      "Epoch 11/40\n",
      "647/647 [==============================] - 5s 7ms/step - loss: 0.0060 - acc: 1.0000 - precision: 1.0000 - recall: 1.0000 - val_loss: 0.8224 - val_acc: 0.8056 - val_precision: 0.9333 - val_recall: 0.7923\n",
      "Epoch 12/40\n",
      "647/647 [==============================] - 5s 7ms/step - loss: 0.0194 - acc: 0.9954 - precision: 0.9946 - recall: 0.9978 - val_loss: 1.2215 - val_acc: 0.7500 - val_precision: 0.9500 - val_recall: 0.6973\n",
      "Epoch 13/40\n",
      "647/647 [==============================] - 5s 7ms/step - loss: 0.0435 - acc: 0.9815 - precision: 0.9957 - recall: 0.9791 - val_loss: 1.0149 - val_acc: 0.7917 - val_precision: 0.9122 - val_recall: 0.7923\n",
      "Epoch 14/40\n",
      "647/647 [==============================] - 5s 7ms/step - loss: 0.0202 - acc: 0.9938 - precision: 0.9927 - recall: 0.9978 - val_loss: 1.0249 - val_acc: 0.7500 - val_precision: 0.9255 - val_recall: 0.7158\n",
      "Epoch 15/40\n",
      "647/647 [==============================] - 5s 7ms/step - loss: 0.0132 - acc: 0.9985 - precision: 1.0000 - recall: 0.9980 - val_loss: 0.6672 - val_acc: 0.8611 - val_precision: 0.9198 - val_recall: 0.8873\n",
      "Epoch 16/40\n",
      "647/647 [==============================] - 5s 7ms/step - loss: 0.0079 - acc: 1.0000 - precision: 1.0000 - recall: 1.0000 - val_loss: 0.6116 - val_acc: 0.8611 - val_precision: 0.9205 - val_recall: 0.8881\n",
      "Epoch 17/40\n",
      "647/647 [==============================] - 5s 7ms/step - loss: 0.0083 - acc: 0.9985 - precision: 0.9969 - recall: 1.0000 - val_loss: 0.7015 - val_acc: 0.8333 - val_precision: 0.9333 - val_recall: 0.8293\n",
      "Epoch 18/40\n",
      "647/647 [==============================] - 5s 7ms/step - loss: 0.0047 - acc: 1.0000 - precision: 1.0000 - recall: 1.0000 - val_loss: 0.6665 - val_acc: 0.8333 - val_precision: 0.9354 - val_recall: 0.8301\n",
      "Epoch 19/40\n",
      "647/647 [==============================] - 5s 7ms/step - loss: 0.0030 - acc: 1.0000 - precision: 1.0000 - recall: 1.0000 - val_loss: 0.6601 - val_acc: 0.8611 - val_precision: 0.9198 - val_recall: 0.8873\n",
      "Epoch 20/40\n",
      "647/647 [==============================] - 5s 7ms/step - loss: 0.0040 - acc: 1.0000 - precision: 1.0000 - recall: 1.0000 - val_loss: 0.6819 - val_acc: 0.8611 - val_precision: 0.9374 - val_recall: 0.8680\n",
      "Epoch 21/40\n",
      "647/647 [==============================] - 5s 7ms/step - loss: 0.0115 - acc: 0.9969 - precision: 1.0000 - recall: 0.9960 - val_loss: 0.6998 - val_acc: 0.8750 - val_precision: 0.9059 - val_recall: 0.9251\n",
      "Epoch 22/40\n",
      "647/647 [==============================] - 5s 7ms/step - loss: 0.0055 - acc: 0.9969 - precision: 0.9951 - recall: 1.0000 - val_loss: 0.6873 - val_acc: 0.8889 - val_precision: 0.9222 - val_recall: 0.9251\n",
      "Epoch 23/40\n",
      "647/647 [==============================] - 5s 7ms/step - loss: 0.0041 - acc: 1.0000 - precision: 1.0000 - recall: 1.0000 - val_loss: 0.7059 - val_acc: 0.8889 - val_precision: 0.9222 - val_recall: 0.9251\n",
      "Epoch 24/40\n",
      "647/647 [==============================] - 5s 7ms/step - loss: 0.0034 - acc: 1.0000 - precision: 1.0000 - recall: 1.0000 - val_loss: 0.7022 - val_acc: 0.8889 - val_precision: 0.9222 - val_recall: 0.9251\n",
      "Epoch 25/40\n",
      "647/647 [==============================] - 5s 7ms/step - loss: 0.0032 - acc: 1.0000 - precision: 1.0000 - recall: 1.0000 - val_loss: 0.7069 - val_acc: 0.8750 - val_precision: 0.9214 - val_recall: 0.9066\n",
      "Epoch 26/40\n",
      "647/647 [==============================] - 5s 7ms/step - loss: 0.0021 - acc: 1.0000 - precision: 1.0000 - recall: 1.0000 - val_loss: 0.7271 - val_acc: 0.8611 - val_precision: 0.9205 - val_recall: 0.8881\n",
      "Epoch 27/40\n",
      "647/647 [==============================] - 5s 7ms/step - loss: 0.0054 - acc: 0.9985 - precision: 1.0000 - recall: 0.9980 - val_loss: 0.7469 - val_acc: 0.8611 - val_precision: 0.9205 - val_recall: 0.8881\n",
      "Epoch 28/40\n",
      "647/647 [==============================] - 5s 7ms/step - loss: 0.0023 - acc: 1.0000 - precision: 1.0000 - recall: 1.0000 - val_loss: 0.7885 - val_acc: 0.8472 - val_precision: 0.9181 - val_recall: 0.8680\n",
      "Epoch 29/40\n",
      "647/647 [==============================] - 5s 7ms/step - loss: 0.0035 - acc: 1.0000 - precision: 1.0000 - recall: 1.0000 - val_loss: 0.7864 - val_acc: 0.8611 - val_precision: 0.9374 - val_recall: 0.8680\n",
      "Epoch 30/40\n",
      "647/647 [==============================] - 5s 7ms/step - loss: 0.0034 - acc: 0.9985 - precision: 1.0000 - recall: 0.9979 - val_loss: 0.6829 - val_acc: 0.8750 - val_precision: 0.9214 - val_recall: 0.9066\n",
      "Epoch 31/40\n",
      "647/647 [==============================] - 5s 7ms/step - loss: 0.0019 - acc: 1.0000 - precision: 1.0000 - recall: 1.0000 - val_loss: 0.6818 - val_acc: 0.8889 - val_precision: 0.9222 - val_recall: 0.9251\n",
      "Epoch 32/40\n",
      "647/647 [==============================] - 5s 7ms/step - loss: 0.0027 - acc: 1.0000 - precision: 1.0000 - recall: 1.0000 - val_loss: 0.7535 - val_acc: 0.8611 - val_precision: 0.9374 - val_recall: 0.8680\n",
      "Epoch 33/40\n",
      "647/647 [==============================] - 5s 7ms/step - loss: 0.0032 - acc: 1.0000 - precision: 1.0000 - recall: 1.0000 - val_loss: 0.7137 - val_acc: 0.8750 - val_precision: 0.9214 - val_recall: 0.9066\n",
      "Epoch 34/40\n",
      "647/647 [==============================] - 5s 7ms/step - loss: 0.0054 - acc: 0.9969 - precision: 0.9953 - recall: 1.0000 - val_loss: 0.7606 - val_acc: 0.8750 - val_precision: 0.9383 - val_recall: 0.8873\n",
      "Epoch 35/40\n",
      "647/647 [==============================] - 5s 7ms/step - loss: 0.0085 - acc: 0.9954 - precision: 0.9982 - recall: 0.9956 - val_loss: 0.7127 - val_acc: 0.8889 - val_precision: 0.9222 - val_recall: 0.9251\n",
      "Epoch 36/40\n",
      "647/647 [==============================] - 5s 7ms/step - loss: 0.0081 - acc: 0.9985 - precision: 1.0000 - recall: 0.9981 - val_loss: 1.0106 - val_acc: 0.8056 - val_precision: 0.9333 - val_recall: 0.7923\n",
      "Epoch 37/40\n",
      "647/647 [==============================] - 5s 7ms/step - loss: 0.0078 - acc: 0.9969 - precision: 0.9971 - recall: 0.9983 - val_loss: 0.6810 - val_acc: 0.8889 - val_precision: 0.9391 - val_recall: 0.9066\n",
      "Epoch 38/40\n",
      "647/647 [==============================] - 5s 7ms/step - loss: 0.0027 - acc: 1.0000 - precision: 1.0000 - recall: 1.0000 - val_loss: 0.6472 - val_acc: 0.8750 - val_precision: 0.9214 - val_recall: 0.9066\n"
     ]
    },
    {
     "name": "stdout",
     "output_type": "stream",
     "text": [
      "Epoch 39/40\n",
      "647/647 [==============================] - 5s 7ms/step - loss: 0.0047 - acc: 0.9985 - precision: 0.9969 - recall: 1.0000 - val_loss: 0.6763 - val_acc: 0.8611 - val_precision: 0.9037 - val_recall: 0.9066\n",
      "Epoch 40/40\n",
      "647/647 [==============================] - 5s 7ms/step - loss: 0.0024 - acc: 1.0000 - precision: 1.0000 - recall: 1.0000 - val_loss: 0.7388 - val_acc: 0.8889 - val_precision: 0.9222 - val_recall: 0.9251\n"
     ]
    }
   ],
   "source": [
    "# START TRAINING\n",
    "\n",
    "history = model.fit(train_set, train_classes, \n",
    "                     validation_split=validation_split,\n",
    "                     #validation_data=(X_test,y_test), \n",
    "                     epochs=epochs, \n",
    "                     initial_epoch=past_epochs,\n",
    "                     batch_size=batch_size, \n",
    "                     callbacks=callbacks\n",
    "                     )\n",
    "\n",
    "past_epochs += epochs"
   ]
  },
  {
   "cell_type": "markdown",
   "metadata": {},
   "source": [
    "### Verifying Accuracy on Test Set"
   ]
  },
  {
   "cell_type": "code",
   "execution_count": null,
   "metadata": {
    "scrolled": true
   },
   "outputs": [],
   "source": [
    "# compute probabilities for the classes (= get outputs of output layer)\n",
    "test_pred_prob = model.predict(test_set)\n",
    "test_pred_prob"
   ]
  },
  {
   "cell_type": "code",
   "execution_count": 119,
   "metadata": {},
   "outputs": [
    {
     "data": {
      "text/plain": [
       "array([3, 0, 2, 3, 2, 0, 2, 2, 1, 2, 0, 2, 0, 0, 2, 1, 0, 0, 0, 0, 0, 2,\n",
       "       2, 0, 2, 2, 2, 1, 3, 1, 2, 0, 2, 0, 2, 2, 2, 2, 2, 2, 2, 2, 2, 3,\n",
       "       2, 2, 0, 0, 3, 0, 2, 2, 2, 0, 0, 2, 2, 2, 0, 0, 2, 0, 0, 2, 1, 2,\n",
       "       2, 2, 2, 2, 1, 2, 1, 2, 0, 0, 3, 0, 0, 0, 2, 0, 0, 0, 1, 1, 0, 2,\n",
       "       1, 0, 2, 0, 0, 2, 1, 2, 2, 2, 2, 0, 1, 2, 2, 2, 0, 2, 0, 2, 2, 3,\n",
       "       2, 0, 0, 0, 3, 2, 0, 0, 2, 0, 2, 2, 2, 2, 0, 0, 2, 0, 0, 0, 0, 0,\n",
       "       2, 0, 0])"
      ]
     },
     "execution_count": 119,
     "metadata": {},
     "output_type": "execute_result"
    }
   ],
   "source": [
    "# to get the predicted class, we take the ARG MAX of the row vectors \n",
    "test_pred = np.argmax(test_pred_prob, axis=1)\n",
    "test_pred"
   ]
  },
  {
   "cell_type": "code",
   "execution_count": 120,
   "metadata": {},
   "outputs": [
    {
     "data": {
      "text/plain": [
       "array([2, 0, 2, 0, 2, 1, 2, 1, 1, 2, 0, 2, 0, 0, 0, 1, 0, 0, 0, 3, 3, 2,\n",
       "       2, 0, 2, 2, 2, 0, 3, 2, 3, 0, 2, 0, 2, 1, 0, 2, 2, 2, 1, 2, 2, 2,\n",
       "       2, 2, 0, 1, 2, 1, 2, 2, 2, 1, 0, 2, 2, 0, 0, 0, 2, 0, 0, 0, 1, 3,\n",
       "       1, 2, 2, 2, 3, 2, 1, 2, 0, 0, 1, 0, 0, 0, 2, 0, 0, 0, 2, 1, 0, 1,\n",
       "       1, 0, 2, 0, 0, 0, 3, 2, 2, 1, 2, 1, 3, 3, 2, 2, 0, 3, 0, 2, 2, 2,\n",
       "       2, 0, 0, 0, 3, 2, 0, 0, 2, 0, 0, 0, 2, 0, 0, 0, 3, 0, 0, 0, 0, 0,\n",
       "       2, 0, 0])"
      ]
     },
     "execution_count": 120,
     "metadata": {},
     "output_type": "execute_result"
    }
   ],
   "source": [
    "# do the same for groundtruth\n",
    "test_gt = np.argmax(test_classes, axis=1)\n",
    "test_gt"
   ]
  },
  {
   "cell_type": "code",
   "execution_count": 122,
   "metadata": {},
   "outputs": [
    {
     "data": {
      "text/plain": [
       "0.7185185185185186"
      ]
     },
     "execution_count": 122,
     "metadata": {},
     "output_type": "execute_result"
    }
   ],
   "source": [
    "# get final Accuracy\n",
    "accuracy_score(test_gt, test_pred)"
   ]
  },
  {
   "cell_type": "markdown",
   "metadata": {},
   "source": [
    "# 2) Genre Classification\n",
    "\n",
    "this is a single-label / multi-class task (multiple categories, but decision needs to be for 1 of them)"
   ]
  },
  {
   "cell_type": "markdown",
   "metadata": {},
   "source": [
    "## Prepare Metadata"
   ]
  },
  {
   "cell_type": "code",
   "execution_count": 9,
   "metadata": {},
   "outputs": [
    {
     "data": {
      "text/html": [
       "<div>\n",
       "<style scoped>\n",
       "    .dataframe tbody tr th:only-of-type {\n",
       "        vertical-align: middle;\n",
       "    }\n",
       "\n",
       "    .dataframe tbody tr th {\n",
       "        vertical-align: top;\n",
       "    }\n",
       "\n",
       "    .dataframe thead th {\n",
       "        text-align: right;\n",
       "    }\n",
       "</style>\n",
       "<table border=\"1\" class=\"dataframe\">\n",
       "  <thead>\n",
       "    <tr style=\"text-align: right;\">\n",
       "      <th></th>\n",
       "      <th>no voice</th>\n",
       "      <th>singer</th>\n",
       "      <th>duet</th>\n",
       "      <th>plucking</th>\n",
       "      <th>hard rock</th>\n",
       "      <th>world</th>\n",
       "      <th>bongos</th>\n",
       "      <th>harpsichord</th>\n",
       "      <th>female singing</th>\n",
       "      <th>clasical</th>\n",
       "      <th>...</th>\n",
       "      <th>female singer</th>\n",
       "      <th>rap</th>\n",
       "      <th>metal</th>\n",
       "      <th>hip hop</th>\n",
       "      <th>quick</th>\n",
       "      <th>water</th>\n",
       "      <th>baroque</th>\n",
       "      <th>women</th>\n",
       "      <th>fiddle</th>\n",
       "      <th>english</th>\n",
       "    </tr>\n",
       "    <tr>\n",
       "      <th>mp3_path</th>\n",
       "      <th></th>\n",
       "      <th></th>\n",
       "      <th></th>\n",
       "      <th></th>\n",
       "      <th></th>\n",
       "      <th></th>\n",
       "      <th></th>\n",
       "      <th></th>\n",
       "      <th></th>\n",
       "      <th></th>\n",
       "      <th></th>\n",
       "      <th></th>\n",
       "      <th></th>\n",
       "      <th></th>\n",
       "      <th></th>\n",
       "      <th></th>\n",
       "      <th></th>\n",
       "      <th></th>\n",
       "      <th></th>\n",
       "      <th></th>\n",
       "      <th></th>\n",
       "    </tr>\n",
       "  </thead>\n",
       "  <tbody>\n",
       "    <tr>\n",
       "      <th>d/ambient_teknology-the_all_seeing_eye_project-01-cyclops-262-291.mp3</th>\n",
       "      <td>0</td>\n",
       "      <td>0</td>\n",
       "      <td>0</td>\n",
       "      <td>0</td>\n",
       "      <td>0</td>\n",
       "      <td>0</td>\n",
       "      <td>0</td>\n",
       "      <td>0</td>\n",
       "      <td>0</td>\n",
       "      <td>0</td>\n",
       "      <td>...</td>\n",
       "      <td>0</td>\n",
       "      <td>0</td>\n",
       "      <td>0</td>\n",
       "      <td>0</td>\n",
       "      <td>0</td>\n",
       "      <td>0</td>\n",
       "      <td>0</td>\n",
       "      <td>0</td>\n",
       "      <td>0</td>\n",
       "      <td>0</td>\n",
       "    </tr>\n",
       "    <tr>\n",
       "      <th>d/ambient_teknology-the_all_seeing_eye_project-02-all_seeing_eye-175-204.mp3</th>\n",
       "      <td>0</td>\n",
       "      <td>0</td>\n",
       "      <td>0</td>\n",
       "      <td>0</td>\n",
       "      <td>0</td>\n",
       "      <td>0</td>\n",
       "      <td>0</td>\n",
       "      <td>0</td>\n",
       "      <td>0</td>\n",
       "      <td>0</td>\n",
       "      <td>...</td>\n",
       "      <td>0</td>\n",
       "      <td>0</td>\n",
       "      <td>0</td>\n",
       "      <td>0</td>\n",
       "      <td>0</td>\n",
       "      <td>0</td>\n",
       "      <td>0</td>\n",
       "      <td>0</td>\n",
       "      <td>0</td>\n",
       "      <td>0</td>\n",
       "    </tr>\n",
       "    <tr>\n",
       "      <th>d/ambient_teknology-the_all_seeing_eye_project-03-black-175-204.mp3</th>\n",
       "      <td>0</td>\n",
       "      <td>0</td>\n",
       "      <td>0</td>\n",
       "      <td>0</td>\n",
       "      <td>0</td>\n",
       "      <td>0</td>\n",
       "      <td>0</td>\n",
       "      <td>0</td>\n",
       "      <td>0</td>\n",
       "      <td>0</td>\n",
       "      <td>...</td>\n",
       "      <td>0</td>\n",
       "      <td>0</td>\n",
       "      <td>0</td>\n",
       "      <td>0</td>\n",
       "      <td>0</td>\n",
       "      <td>0</td>\n",
       "      <td>0</td>\n",
       "      <td>0</td>\n",
       "      <td>0</td>\n",
       "      <td>0</td>\n",
       "    </tr>\n",
       "    <tr>\n",
       "      <th>d/ambient_teknology-the_all_seeing_eye_project-04-confusion_says-88-117.mp3</th>\n",
       "      <td>0</td>\n",
       "      <td>0</td>\n",
       "      <td>0</td>\n",
       "      <td>0</td>\n",
       "      <td>0</td>\n",
       "      <td>0</td>\n",
       "      <td>0</td>\n",
       "      <td>0</td>\n",
       "      <td>0</td>\n",
       "      <td>0</td>\n",
       "      <td>...</td>\n",
       "      <td>0</td>\n",
       "      <td>0</td>\n",
       "      <td>0</td>\n",
       "      <td>0</td>\n",
       "      <td>0</td>\n",
       "      <td>0</td>\n",
       "      <td>0</td>\n",
       "      <td>0</td>\n",
       "      <td>0</td>\n",
       "      <td>0</td>\n",
       "    </tr>\n",
       "    <tr>\n",
       "      <th>d/ambient_teknology-the_all_seeing_eye_project-05-the_beholder-291-320.mp3</th>\n",
       "      <td>0</td>\n",
       "      <td>0</td>\n",
       "      <td>0</td>\n",
       "      <td>0</td>\n",
       "      <td>0</td>\n",
       "      <td>0</td>\n",
       "      <td>0</td>\n",
       "      <td>0</td>\n",
       "      <td>0</td>\n",
       "      <td>0</td>\n",
       "      <td>...</td>\n",
       "      <td>0</td>\n",
       "      <td>0</td>\n",
       "      <td>0</td>\n",
       "      <td>0</td>\n",
       "      <td>0</td>\n",
       "      <td>0</td>\n",
       "      <td>0</td>\n",
       "      <td>0</td>\n",
       "      <td>0</td>\n",
       "      <td>0</td>\n",
       "    </tr>\n",
       "  </tbody>\n",
       "</table>\n",
       "<p>5 rows × 188 columns</p>\n",
       "</div>"
      ],
      "text/plain": [
       "                                                    no voice  singer  duet  \\\n",
       "mp3_path                                                                     \n",
       "d/ambient_teknology-the_all_seeing_eye_project-...         0       0     0   \n",
       "d/ambient_teknology-the_all_seeing_eye_project-...         0       0     0   \n",
       "d/ambient_teknology-the_all_seeing_eye_project-...         0       0     0   \n",
       "d/ambient_teknology-the_all_seeing_eye_project-...         0       0     0   \n",
       "d/ambient_teknology-the_all_seeing_eye_project-...         0       0     0   \n",
       "\n",
       "                                                    plucking  hard rock  \\\n",
       "mp3_path                                                                  \n",
       "d/ambient_teknology-the_all_seeing_eye_project-...         0          0   \n",
       "d/ambient_teknology-the_all_seeing_eye_project-...         0          0   \n",
       "d/ambient_teknology-the_all_seeing_eye_project-...         0          0   \n",
       "d/ambient_teknology-the_all_seeing_eye_project-...         0          0   \n",
       "d/ambient_teknology-the_all_seeing_eye_project-...         0          0   \n",
       "\n",
       "                                                    world  bongos  \\\n",
       "mp3_path                                                            \n",
       "d/ambient_teknology-the_all_seeing_eye_project-...      0       0   \n",
       "d/ambient_teknology-the_all_seeing_eye_project-...      0       0   \n",
       "d/ambient_teknology-the_all_seeing_eye_project-...      0       0   \n",
       "d/ambient_teknology-the_all_seeing_eye_project-...      0       0   \n",
       "d/ambient_teknology-the_all_seeing_eye_project-...      0       0   \n",
       "\n",
       "                                                    harpsichord  \\\n",
       "mp3_path                                                          \n",
       "d/ambient_teknology-the_all_seeing_eye_project-...            0   \n",
       "d/ambient_teknology-the_all_seeing_eye_project-...            0   \n",
       "d/ambient_teknology-the_all_seeing_eye_project-...            0   \n",
       "d/ambient_teknology-the_all_seeing_eye_project-...            0   \n",
       "d/ambient_teknology-the_all_seeing_eye_project-...            0   \n",
       "\n",
       "                                                    female singing  clasical  \\\n",
       "mp3_path                                                                       \n",
       "d/ambient_teknology-the_all_seeing_eye_project-...               0         0   \n",
       "d/ambient_teknology-the_all_seeing_eye_project-...               0         0   \n",
       "d/ambient_teknology-the_all_seeing_eye_project-...               0         0   \n",
       "d/ambient_teknology-the_all_seeing_eye_project-...               0         0   \n",
       "d/ambient_teknology-the_all_seeing_eye_project-...               0         0   \n",
       "\n",
       "                                                     ...     female singer  \\\n",
       "mp3_path                                             ...                     \n",
       "d/ambient_teknology-the_all_seeing_eye_project-...   ...                 0   \n",
       "d/ambient_teknology-the_all_seeing_eye_project-...   ...                 0   \n",
       "d/ambient_teknology-the_all_seeing_eye_project-...   ...                 0   \n",
       "d/ambient_teknology-the_all_seeing_eye_project-...   ...                 0   \n",
       "d/ambient_teknology-the_all_seeing_eye_project-...   ...                 0   \n",
       "\n",
       "                                                    rap  metal  hip hop  \\\n",
       "mp3_path                                                                  \n",
       "d/ambient_teknology-the_all_seeing_eye_project-...    0      0        0   \n",
       "d/ambient_teknology-the_all_seeing_eye_project-...    0      0        0   \n",
       "d/ambient_teknology-the_all_seeing_eye_project-...    0      0        0   \n",
       "d/ambient_teknology-the_all_seeing_eye_project-...    0      0        0   \n",
       "d/ambient_teknology-the_all_seeing_eye_project-...    0      0        0   \n",
       "\n",
       "                                                    quick  water  baroque  \\\n",
       "mp3_path                                                                    \n",
       "d/ambient_teknology-the_all_seeing_eye_project-...      0      0        0   \n",
       "d/ambient_teknology-the_all_seeing_eye_project-...      0      0        0   \n",
       "d/ambient_teknology-the_all_seeing_eye_project-...      0      0        0   \n",
       "d/ambient_teknology-the_all_seeing_eye_project-...      0      0        0   \n",
       "d/ambient_teknology-the_all_seeing_eye_project-...      0      0        0   \n",
       "\n",
       "                                                    women  fiddle  english  \n",
       "mp3_path                                                                    \n",
       "d/ambient_teknology-the_all_seeing_eye_project-...      0       0        0  \n",
       "d/ambient_teknology-the_all_seeing_eye_project-...      0       0        0  \n",
       "d/ambient_teknology-the_all_seeing_eye_project-...      0       0        0  \n",
       "d/ambient_teknology-the_all_seeing_eye_project-...      0       0        0  \n",
       "d/ambient_teknology-the_all_seeing_eye_project-...      0       0        0  \n",
       "\n",
       "[5 rows x 188 columns]"
      ]
     },
     "execution_count": 9,
     "metadata": {},
     "output_type": "execute_result"
    }
   ],
   "source": [
    "metadata.head()"
   ]
  },
  {
   "cell_type": "code",
   "execution_count": 13,
   "metadata": {},
   "outputs": [
    {
     "data": {
      "text/plain": [
       "['no voice',\n",
       " 'singer',\n",
       " 'duet',\n",
       " 'plucking',\n",
       " 'hard rock',\n",
       " 'world',\n",
       " 'bongos',\n",
       " 'harpsichord',\n",
       " 'female singing',\n",
       " 'clasical',\n",
       " 'sitar',\n",
       " 'chorus',\n",
       " 'female opera',\n",
       " 'male vocal',\n",
       " 'vocals',\n",
       " 'clarinet',\n",
       " 'heavy',\n",
       " 'silence',\n",
       " 'beats',\n",
       " 'men',\n",
       " 'woodwind',\n",
       " 'funky',\n",
       " 'no strings',\n",
       " 'chimes',\n",
       " 'foreign',\n",
       " 'no piano',\n",
       " 'horns',\n",
       " 'classical',\n",
       " 'female',\n",
       " 'no voices',\n",
       " 'soft rock',\n",
       " 'eerie',\n",
       " 'spacey',\n",
       " 'jazz',\n",
       " 'guitar',\n",
       " 'quiet',\n",
       " 'no beat',\n",
       " 'banjo',\n",
       " 'electric',\n",
       " 'solo',\n",
       " 'violins',\n",
       " 'folk',\n",
       " 'female voice',\n",
       " 'wind',\n",
       " 'happy',\n",
       " 'ambient',\n",
       " 'new age',\n",
       " 'synth',\n",
       " 'funk',\n",
       " 'no singing',\n",
       " 'middle eastern',\n",
       " 'trumpet',\n",
       " 'percussion',\n",
       " 'drum',\n",
       " 'airy',\n",
       " 'voice',\n",
       " 'repetitive',\n",
       " 'birds',\n",
       " 'space',\n",
       " 'strings',\n",
       " 'bass',\n",
       " 'harpsicord',\n",
       " 'medieval',\n",
       " 'male voice',\n",
       " 'girl',\n",
       " 'keyboard',\n",
       " 'acoustic',\n",
       " 'loud',\n",
       " 'classic',\n",
       " 'string',\n",
       " 'drums',\n",
       " 'electronic',\n",
       " 'not classical',\n",
       " 'chanting',\n",
       " 'no violin',\n",
       " 'not rock',\n",
       " 'no guitar',\n",
       " 'organ',\n",
       " 'no vocal',\n",
       " 'talking',\n",
       " 'choral',\n",
       " 'weird',\n",
       " 'opera',\n",
       " 'soprano',\n",
       " 'fast',\n",
       " 'acoustic guitar',\n",
       " 'electric guitar',\n",
       " 'male singer',\n",
       " 'man singing',\n",
       " 'classical guitar',\n",
       " 'country',\n",
       " 'violin',\n",
       " 'electro',\n",
       " 'reggae',\n",
       " 'tribal',\n",
       " 'dark',\n",
       " 'male opera',\n",
       " 'no vocals',\n",
       " 'irish',\n",
       " 'electronica',\n",
       " 'horn',\n",
       " 'operatic',\n",
       " 'arabic',\n",
       " 'lol',\n",
       " 'low',\n",
       " 'instrumental',\n",
       " 'trance',\n",
       " 'chant',\n",
       " 'strange',\n",
       " 'drone',\n",
       " 'synthesizer',\n",
       " 'heavy metal',\n",
       " 'modern',\n",
       " 'disco',\n",
       " 'bells',\n",
       " 'man',\n",
       " 'deep',\n",
       " 'fast beat',\n",
       " 'industrial',\n",
       " 'hard',\n",
       " 'harp',\n",
       " 'no flute',\n",
       " 'jungle',\n",
       " 'pop',\n",
       " 'lute',\n",
       " 'female vocal',\n",
       " 'oboe',\n",
       " 'mellow',\n",
       " 'orchestral',\n",
       " 'viola',\n",
       " 'light',\n",
       " 'echo',\n",
       " 'piano',\n",
       " 'celtic',\n",
       " 'male vocals',\n",
       " 'orchestra',\n",
       " 'eastern',\n",
       " 'old',\n",
       " 'flutes',\n",
       " 'punk',\n",
       " 'spanish',\n",
       " 'sad',\n",
       " 'sax',\n",
       " 'slow',\n",
       " 'male',\n",
       " 'blues',\n",
       " 'vocal',\n",
       " 'indian',\n",
       " 'no singer',\n",
       " 'scary',\n",
       " 'india',\n",
       " 'woman',\n",
       " 'woman singing',\n",
       " 'rock',\n",
       " 'dance',\n",
       " 'piano solo',\n",
       " 'guitars',\n",
       " 'no drums',\n",
       " 'jazzy',\n",
       " 'singing',\n",
       " 'cello',\n",
       " 'calm',\n",
       " 'female vocals',\n",
       " 'voices',\n",
       " 'different',\n",
       " 'techno',\n",
       " 'clapping',\n",
       " 'house',\n",
       " 'monks',\n",
       " 'flute',\n",
       " 'not opera',\n",
       " 'not english',\n",
       " 'oriental',\n",
       " 'beat',\n",
       " 'upbeat',\n",
       " 'soft',\n",
       " 'noise',\n",
       " 'choir',\n",
       " 'female singer',\n",
       " 'rap',\n",
       " 'metal',\n",
       " 'hip hop',\n",
       " 'quick',\n",
       " 'water',\n",
       " 'baroque',\n",
       " 'women',\n",
       " 'fiddle',\n",
       " 'english']"
      ]
     },
     "execution_count": 13,
     "metadata": {},
     "output_type": "execute_result"
    }
   ],
   "source": [
    "# check which columns are available\n",
    "tags_all = metadata.columns.tolist()\n",
    "tags_all"
   ]
  },
  {
   "cell_type": "code",
   "execution_count": 14,
   "metadata": {},
   "outputs": [
    {
     "data": {
      "text/plain": [
       "188"
      ]
     },
     "execution_count": 14,
     "metadata": {},
     "output_type": "execute_result"
    }
   ],
   "source": [
    "len(tags_all)"
   ]
  },
  {
   "cell_type": "code",
   "execution_count": 76,
   "metadata": {},
   "outputs": [
    {
     "data": {
      "text/plain": [
       "4"
      ]
     },
     "execution_count": 76,
     "metadata": {},
     "output_type": "execute_result"
    }
   ],
   "source": [
    "genres = ['rock', 'pop', 'electronic', 'jazz']  ## too little data: , 'metal', 'hip hop']\n",
    "\n",
    "n_genres = len(genres)\n",
    "n_genres"
   ]
  },
  {
   "cell_type": "code",
   "execution_count": 44,
   "metadata": {},
   "outputs": [
    {
     "data": {
      "text/html": [
       "<div>\n",
       "<style scoped>\n",
       "    .dataframe tbody tr th:only-of-type {\n",
       "        vertical-align: middle;\n",
       "    }\n",
       "\n",
       "    .dataframe tbody tr th {\n",
       "        vertical-align: top;\n",
       "    }\n",
       "\n",
       "    .dataframe thead th {\n",
       "        text-align: right;\n",
       "    }\n",
       "</style>\n",
       "<table border=\"1\" class=\"dataframe\">\n",
       "  <thead>\n",
       "    <tr style=\"text-align: right;\">\n",
       "      <th></th>\n",
       "      <th>rock</th>\n",
       "      <th>pop</th>\n",
       "      <th>electronic</th>\n",
       "      <th>jazz</th>\n",
       "    </tr>\n",
       "    <tr>\n",
       "      <th>mp3_path</th>\n",
       "      <th></th>\n",
       "      <th></th>\n",
       "      <th></th>\n",
       "      <th></th>\n",
       "    </tr>\n",
       "  </thead>\n",
       "  <tbody>\n",
       "    <tr>\n",
       "      <th>d/ambient_teknology-the_all_seeing_eye_project-01-cyclops-262-291.mp3</th>\n",
       "      <td>0</td>\n",
       "      <td>0</td>\n",
       "      <td>1</td>\n",
       "      <td>0</td>\n",
       "    </tr>\n",
       "    <tr>\n",
       "      <th>d/ambient_teknology-the_all_seeing_eye_project-02-all_seeing_eye-175-204.mp3</th>\n",
       "      <td>0</td>\n",
       "      <td>0</td>\n",
       "      <td>1</td>\n",
       "      <td>0</td>\n",
       "    </tr>\n",
       "    <tr>\n",
       "      <th>d/ambient_teknology-the_all_seeing_eye_project-03-black-175-204.mp3</th>\n",
       "      <td>0</td>\n",
       "      <td>0</td>\n",
       "      <td>0</td>\n",
       "      <td>0</td>\n",
       "    </tr>\n",
       "    <tr>\n",
       "      <th>d/ambient_teknology-the_all_seeing_eye_project-04-confusion_says-88-117.mp3</th>\n",
       "      <td>0</td>\n",
       "      <td>0</td>\n",
       "      <td>0</td>\n",
       "      <td>0</td>\n",
       "    </tr>\n",
       "    <tr>\n",
       "      <th>d/ambient_teknology-the_all_seeing_eye_project-05-the_beholder-291-320.mp3</th>\n",
       "      <td>0</td>\n",
       "      <td>0</td>\n",
       "      <td>1</td>\n",
       "      <td>0</td>\n",
       "    </tr>\n",
       "    <tr>\n",
       "      <th>d/ambient_teknology-the_all_seeing_eye_project-06-cyead-378-407.mp3</th>\n",
       "      <td>0</td>\n",
       "      <td>0</td>\n",
       "      <td>1</td>\n",
       "      <td>0</td>\n",
       "    </tr>\n",
       "    <tr>\n",
       "      <th>d/ambient_teknology-the_all_seeing_eye_project-07-telekonology-117-146.mp3</th>\n",
       "      <td>0</td>\n",
       "      <td>0</td>\n",
       "      <td>1</td>\n",
       "      <td>0</td>\n",
       "    </tr>\n",
       "    <tr>\n",
       "      <th>0/american_bach_soloists-j_s__bach__cantatas_volume_v-01-gleichwie_der_regen_und_schnee_vom_himmel_fallt_bwv_18_i_sinfonia-117-146.mp3</th>\n",
       "      <td>0</td>\n",
       "      <td>0</td>\n",
       "      <td>0</td>\n",
       "      <td>0</td>\n",
       "    </tr>\n",
       "    <tr>\n",
       "      <th>0/american_bach_soloists-j_s__bach__cantatas_volume_v-02-gleichwie_der_regen_und_schnee_vom_himmel_fallt_bwv_18_ii_recitative__gleichwie_der_regen_und_schnee-30-59.mp3</th>\n",
       "      <td>0</td>\n",
       "      <td>0</td>\n",
       "      <td>0</td>\n",
       "      <td>0</td>\n",
       "    </tr>\n",
       "    <tr>\n",
       "      <th>0/american_bach_soloists-j_s__bach__cantatas_volume_v-03-gleichwie_der_regen_und_schnee_vom_himmel_fallt_bwv_18_iii_recitative_and_litany__mein_gott_hier_wird_mein_herze_sein-88-117.mp3</th>\n",
       "      <td>0</td>\n",
       "      <td>0</td>\n",
       "      <td>0</td>\n",
       "      <td>0</td>\n",
       "    </tr>\n",
       "    <tr>\n",
       "      <th>0/american_bach_soloists-j_s__bach__cantatas_volume_v-04-gleichwie_der_regen_und_schnee_vom_himmel_fallt_bwv_18_iv_aria__mein_seelenschatz_ist_gottes_wort-146-175.mp3</th>\n",
       "      <td>0</td>\n",
       "      <td>0</td>\n",
       "      <td>0</td>\n",
       "      <td>0</td>\n",
       "    </tr>\n",
       "    <tr>\n",
       "      <th>0/american_bach_soloists-j_s__bach__cantatas_volume_v-06-weinen_klagen_sorgen_zagen_bwv_12_i_sinfonia-88-117.mp3</th>\n",
       "      <td>0</td>\n",
       "      <td>0</td>\n",
       "      <td>0</td>\n",
       "      <td>0</td>\n",
       "    </tr>\n",
       "    <tr>\n",
       "      <th>0/american_bach_soloists-j_s__bach__cantatas_volume_v-07-weinen_klagen_sorgen_zagen_bwv_12_ii_chorus__weinen_klagen_sorgen_zagen-262-291.mp3</th>\n",
       "      <td>0</td>\n",
       "      <td>0</td>\n",
       "      <td>0</td>\n",
       "      <td>0</td>\n",
       "    </tr>\n",
       "    <tr>\n",
       "      <th>0/american_bach_soloists-j_s__bach__cantatas_volume_v-08-weinen_klagen_sorgen_zagen_bwv_12_iii_recitative__wir_mussen_durch_viel_truebsal-0-29.mp3</th>\n",
       "      <td>0</td>\n",
       "      <td>0</td>\n",
       "      <td>0</td>\n",
       "      <td>0</td>\n",
       "    </tr>\n",
       "    <tr>\n",
       "      <th>0/american_bach_soloists-j_s__bach__cantatas_volume_v-09-weinen_klagen_sorgen_zagen_bwv_12_iv_aria__kreuz_und_krone_sind_verbunden-59-88.mp3</th>\n",
       "      <td>0</td>\n",
       "      <td>0</td>\n",
       "      <td>0</td>\n",
       "      <td>0</td>\n",
       "    </tr>\n",
       "    <tr>\n",
       "      <th>0/american_bach_soloists-j_s__bach__cantatas_volume_v-10-weinen_klagen_sorgen_zagen_bwv_12_v_aria__ich_folge_christo_nach-88-117.mp3</th>\n",
       "      <td>0</td>\n",
       "      <td>0</td>\n",
       "      <td>0</td>\n",
       "      <td>0</td>\n",
       "    </tr>\n",
       "    <tr>\n",
       "      <th>0/american_bach_soloists-j_s__bach__cantatas_volume_v-11-weinen_klagen_sorgen_zagen_bwv_12_vi_aria__sei_getreu-88-117.mp3</th>\n",
       "      <td>0</td>\n",
       "      <td>0</td>\n",
       "      <td>0</td>\n",
       "      <td>0</td>\n",
       "    </tr>\n",
       "    <tr>\n",
       "      <th>0/american_bach_soloists-j_s__bach__cantatas_volume_v-13-nun_komm_der_heiden_heiland_bwv_61_i_ouverture__nun_komm_der_heiden_heiland-59-88.mp3</th>\n",
       "      <td>0</td>\n",
       "      <td>0</td>\n",
       "      <td>0</td>\n",
       "      <td>0</td>\n",
       "    </tr>\n",
       "    <tr>\n",
       "      <th>0/american_bach_soloists-j_s__bach__cantatas_volume_v-14-nun_komm_der_heiden_heiland_bwv_61_ii_recitative__der_heiland_ist_gekommen-30-59.mp3</th>\n",
       "      <td>0</td>\n",
       "      <td>0</td>\n",
       "      <td>0</td>\n",
       "      <td>0</td>\n",
       "    </tr>\n",
       "    <tr>\n",
       "      <th>0/american_bach_soloists-j_s__bach__cantatas_volume_v-15-nun_komm_der_heiden_heiland_bwv_61_iii_aria__komm_jesu_komm_zu_deiner_kirche-117-146.mp3</th>\n",
       "      <td>0</td>\n",
       "      <td>0</td>\n",
       "      <td>0</td>\n",
       "      <td>0</td>\n",
       "    </tr>\n",
       "    <tr>\n",
       "      <th>0/american_bach_soloists-j_s__bach__cantatas_volume_v-16-nun_komm_der_heiden_heiland_bwv_61_iv_recitative__siehe_ich_stehe_vor_der_tur-30-59.mp3</th>\n",
       "      <td>0</td>\n",
       "      <td>0</td>\n",
       "      <td>0</td>\n",
       "      <td>0</td>\n",
       "    </tr>\n",
       "    <tr>\n",
       "      <th>0/american_bach_soloists-j_s__bach__cantatas_volume_v-17-nun_komm_der_heiden_heiland_bwv_61_v_aria__offne_dich_mein_ganzes_herze-117-146.mp3</th>\n",
       "      <td>0</td>\n",
       "      <td>0</td>\n",
       "      <td>0</td>\n",
       "      <td>0</td>\n",
       "    </tr>\n",
       "    <tr>\n",
       "      <th>4/american_bach_soloists-j_s__bach__mass_in_b_minor_cd1-01-kyrie_eleison-204-233.mp3</th>\n",
       "      <td>0</td>\n",
       "      <td>0</td>\n",
       "      <td>0</td>\n",
       "      <td>0</td>\n",
       "    </tr>\n",
       "    <tr>\n",
       "      <th>4/american_bach_soloists-j_s__bach__mass_in_b_minor_cd1-02-christe_eleison-204-233.mp3</th>\n",
       "      <td>0</td>\n",
       "      <td>0</td>\n",
       "      <td>0</td>\n",
       "      <td>0</td>\n",
       "    </tr>\n",
       "    <tr>\n",
       "      <th>4/american_bach_soloists-j_s__bach__mass_in_b_minor_cd1-04-gloria_in_excelsis_deo-59-88.mp3</th>\n",
       "      <td>0</td>\n",
       "      <td>0</td>\n",
       "      <td>0</td>\n",
       "      <td>0</td>\n",
       "    </tr>\n",
       "    <tr>\n",
       "      <th>4/american_bach_soloists-j_s__bach__mass_in_b_minor_cd1-05-et_in_terra_pax-204-233.mp3</th>\n",
       "      <td>0</td>\n",
       "      <td>0</td>\n",
       "      <td>0</td>\n",
       "      <td>0</td>\n",
       "    </tr>\n",
       "    <tr>\n",
       "      <th>4/american_bach_soloists-j_s__bach__mass_in_b_minor_cd1-06-laudamus_te-117-146.mp3</th>\n",
       "      <td>0</td>\n",
       "      <td>0</td>\n",
       "      <td>0</td>\n",
       "      <td>0</td>\n",
       "    </tr>\n",
       "    <tr>\n",
       "      <th>4/american_bach_soloists-j_s__bach__mass_in_b_minor_cd1-07-gratias_agimus_tibi-88-117.mp3</th>\n",
       "      <td>0</td>\n",
       "      <td>0</td>\n",
       "      <td>0</td>\n",
       "      <td>0</td>\n",
       "    </tr>\n",
       "    <tr>\n",
       "      <th>4/american_bach_soloists-j_s__bach__mass_in_b_minor_cd1-08-domine_deus-117-146.mp3</th>\n",
       "      <td>0</td>\n",
       "      <td>0</td>\n",
       "      <td>0</td>\n",
       "      <td>0</td>\n",
       "    </tr>\n",
       "    <tr>\n",
       "      <th>4/american_bach_soloists-j_s__bach__mass_in_b_minor_cd1-09-qui_tollis_peccata_mundi-0-29.mp3</th>\n",
       "      <td>0</td>\n",
       "      <td>0</td>\n",
       "      <td>0</td>\n",
       "      <td>0</td>\n",
       "    </tr>\n",
       "    <tr>\n",
       "      <th>...</th>\n",
       "      <td>...</td>\n",
       "      <td>...</td>\n",
       "      <td>...</td>\n",
       "      <td>...</td>\n",
       "    </tr>\n",
       "    <tr>\n",
       "      <th>c/william_brooks-fowl_mouth-08-scooter-59-88.mp3</th>\n",
       "      <td>1</td>\n",
       "      <td>0</td>\n",
       "      <td>0</td>\n",
       "      <td>0</td>\n",
       "    </tr>\n",
       "    <tr>\n",
       "      <th>c/william_brooks-fowl_mouth-09-roll-88-117.mp3</th>\n",
       "      <td>0</td>\n",
       "      <td>0</td>\n",
       "      <td>0</td>\n",
       "      <td>0</td>\n",
       "    </tr>\n",
       "    <tr>\n",
       "      <th>c/william_brooks-fowl_mouth-10-maybe_meagan-0-29.mp3</th>\n",
       "      <td>0</td>\n",
       "      <td>0</td>\n",
       "      <td>0</td>\n",
       "      <td>0</td>\n",
       "    </tr>\n",
       "    <tr>\n",
       "      <th>c/william_brooks-fowl_mouth-11-karma_dogs-175-204.mp3</th>\n",
       "      <td>0</td>\n",
       "      <td>0</td>\n",
       "      <td>0</td>\n",
       "      <td>0</td>\n",
       "    </tr>\n",
       "    <tr>\n",
       "      <th>c/william_brooks-fowl_mouth-12-grace-146-175.mp3</th>\n",
       "      <td>0</td>\n",
       "      <td>0</td>\n",
       "      <td>0</td>\n",
       "      <td>0</td>\n",
       "    </tr>\n",
       "    <tr>\n",
       "      <th>c/william_brooks-fowl_mouth-13-seven_promises-175-204.mp3</th>\n",
       "      <td>0</td>\n",
       "      <td>0</td>\n",
       "      <td>0</td>\n",
       "      <td>0</td>\n",
       "    </tr>\n",
       "    <tr>\n",
       "      <th>c/william_brooks-fowl_mouth-14-ole_soledad-117-146.mp3</th>\n",
       "      <td>0</td>\n",
       "      <td>0</td>\n",
       "      <td>0</td>\n",
       "      <td>0</td>\n",
       "    </tr>\n",
       "    <tr>\n",
       "      <th>c/william_brooks-fowl_mouth-15-the_pony_song-146-175.mp3</th>\n",
       "      <td>0</td>\n",
       "      <td>0</td>\n",
       "      <td>0</td>\n",
       "      <td>0</td>\n",
       "    </tr>\n",
       "    <tr>\n",
       "      <th>c/william_brooks-fowl_mouth-16-a_boy_outta_love-0-29.mp3</th>\n",
       "      <td>0</td>\n",
       "      <td>0</td>\n",
       "      <td>0</td>\n",
       "      <td>0</td>\n",
       "    </tr>\n",
       "    <tr>\n",
       "      <th>0/williamson-a_few_things_to_hear_before_we_all_blow_up-01-2_percent_er-88-117.mp3</th>\n",
       "      <td>0</td>\n",
       "      <td>0</td>\n",
       "      <td>0</td>\n",
       "      <td>0</td>\n",
       "    </tr>\n",
       "    <tr>\n",
       "      <th>0/williamson-a_few_things_to_hear_before_we_all_blow_up-02-rubber-175-204.mp3</th>\n",
       "      <td>0</td>\n",
       "      <td>0</td>\n",
       "      <td>1</td>\n",
       "      <td>0</td>\n",
       "    </tr>\n",
       "    <tr>\n",
       "      <th>0/williamson-a_few_things_to_hear_before_we_all_blow_up-03-raining_at_the_crescent_house-117-146.mp3</th>\n",
       "      <td>0</td>\n",
       "      <td>0</td>\n",
       "      <td>1</td>\n",
       "      <td>0</td>\n",
       "    </tr>\n",
       "    <tr>\n",
       "      <th>0/williamson-a_few_things_to_hear_before_we_all_blow_up-04-time_youll_never_get_back-204-233.mp3</th>\n",
       "      <td>0</td>\n",
       "      <td>0</td>\n",
       "      <td>1</td>\n",
       "      <td>0</td>\n",
       "    </tr>\n",
       "    <tr>\n",
       "      <th>0/williamson-a_few_things_to_hear_before_we_all_blow_up-05-an_hour_in-30-59.mp3</th>\n",
       "      <td>0</td>\n",
       "      <td>0</td>\n",
       "      <td>0</td>\n",
       "      <td>1</td>\n",
       "    </tr>\n",
       "    <tr>\n",
       "      <th>0/williamson-a_few_things_to_hear_before_we_all_blow_up-06-were_all_boned-204-233.mp3</th>\n",
       "      <td>0</td>\n",
       "      <td>0</td>\n",
       "      <td>1</td>\n",
       "      <td>0</td>\n",
       "    </tr>\n",
       "    <tr>\n",
       "      <th>0/williamson-a_few_things_to_hear_before_we_all_blow_up-07-glitch_cowboy_local_16044-117-146.mp3</th>\n",
       "      <td>0</td>\n",
       "      <td>0</td>\n",
       "      <td>1</td>\n",
       "      <td>0</td>\n",
       "    </tr>\n",
       "    <tr>\n",
       "      <th>0/williamson-a_few_things_to_hear_before_we_all_blow_up-08-whats_on_the_ceiling_beats_whats_on_tv-146-175.mp3</th>\n",
       "      <td>0</td>\n",
       "      <td>0</td>\n",
       "      <td>0</td>\n",
       "      <td>0</td>\n",
       "    </tr>\n",
       "    <tr>\n",
       "      <th>0/williamson-a_few_things_to_hear_before_we_all_blow_up-09-and_then_its_all_gone-0-29.mp3</th>\n",
       "      <td>0</td>\n",
       "      <td>0</td>\n",
       "      <td>0</td>\n",
       "      <td>0</td>\n",
       "    </tr>\n",
       "    <tr>\n",
       "      <th>0/williamson-a_few_things_to_hear_before_we_all_blow_up-10-a-0-29.mp3</th>\n",
       "      <td>0</td>\n",
       "      <td>0</td>\n",
       "      <td>0</td>\n",
       "      <td>0</td>\n",
       "    </tr>\n",
       "    <tr>\n",
       "      <th>0/williamson-a_few_things_to_hear_before_we_all_blow_up-11-whiffle-146-175.mp3</th>\n",
       "      <td>0</td>\n",
       "      <td>0</td>\n",
       "      <td>1</td>\n",
       "      <td>0</td>\n",
       "    </tr>\n",
       "    <tr>\n",
       "      <th>0/williamson-a_few_things_to_hear_before_we_all_blow_up-12-a_please_goodbye_from_whore-0-29.mp3</th>\n",
       "      <td>0</td>\n",
       "      <td>0</td>\n",
       "      <td>0</td>\n",
       "      <td>0</td>\n",
       "    </tr>\n",
       "    <tr>\n",
       "      <th>e/yongen-moonrise-01-moonrise-59-88.mp3</th>\n",
       "      <td>0</td>\n",
       "      <td>0</td>\n",
       "      <td>0</td>\n",
       "      <td>0</td>\n",
       "    </tr>\n",
       "    <tr>\n",
       "      <th>e/yongen-moonrise-02-science_of_farewell-204-233.mp3</th>\n",
       "      <td>0</td>\n",
       "      <td>0</td>\n",
       "      <td>1</td>\n",
       "      <td>0</td>\n",
       "    </tr>\n",
       "    <tr>\n",
       "      <th>e/yongen-moonrise-03-sunflower-146-175.mp3</th>\n",
       "      <td>0</td>\n",
       "      <td>1</td>\n",
       "      <td>0</td>\n",
       "      <td>0</td>\n",
       "    </tr>\n",
       "    <tr>\n",
       "      <th>e/yongen-moonrise-04-im_in_love-30-59.mp3</th>\n",
       "      <td>0</td>\n",
       "      <td>0</td>\n",
       "      <td>0</td>\n",
       "      <td>0</td>\n",
       "    </tr>\n",
       "    <tr>\n",
       "      <th>e/yongen-moonrise-05-one-204-233.mp3</th>\n",
       "      <td>1</td>\n",
       "      <td>0</td>\n",
       "      <td>1</td>\n",
       "      <td>0</td>\n",
       "    </tr>\n",
       "    <tr>\n",
       "      <th>e/yongen-moonrise-06-whispers_and_knives-146-175.mp3</th>\n",
       "      <td>0</td>\n",
       "      <td>1</td>\n",
       "      <td>0</td>\n",
       "      <td>0</td>\n",
       "    </tr>\n",
       "    <tr>\n",
       "      <th>e/yongen-moonrise-07-vertigo-117-146.mp3</th>\n",
       "      <td>0</td>\n",
       "      <td>0</td>\n",
       "      <td>0</td>\n",
       "      <td>0</td>\n",
       "    </tr>\n",
       "    <tr>\n",
       "      <th>e/yongen-moonrise-08-nylon_heart-30-59.mp3</th>\n",
       "      <td>0</td>\n",
       "      <td>0</td>\n",
       "      <td>1</td>\n",
       "      <td>0</td>\n",
       "    </tr>\n",
       "    <tr>\n",
       "      <th>e/yongen-moonrise-09-beauty-233-262.mp3</th>\n",
       "      <td>0</td>\n",
       "      <td>0</td>\n",
       "      <td>0</td>\n",
       "      <td>0</td>\n",
       "    </tr>\n",
       "  </tbody>\n",
       "</table>\n",
       "<p>3023 rows × 4 columns</p>\n",
       "</div>"
      ],
      "text/plain": [
       "                                                    rock  pop  electronic  \\\n",
       "mp3_path                                                                    \n",
       "d/ambient_teknology-the_all_seeing_eye_project-...     0    0           1   \n",
       "d/ambient_teknology-the_all_seeing_eye_project-...     0    0           1   \n",
       "d/ambient_teknology-the_all_seeing_eye_project-...     0    0           0   \n",
       "d/ambient_teknology-the_all_seeing_eye_project-...     0    0           0   \n",
       "d/ambient_teknology-the_all_seeing_eye_project-...     0    0           1   \n",
       "d/ambient_teknology-the_all_seeing_eye_project-...     0    0           1   \n",
       "d/ambient_teknology-the_all_seeing_eye_project-...     0    0           1   \n",
       "0/american_bach_soloists-j_s__bach__cantatas_vo...     0    0           0   \n",
       "0/american_bach_soloists-j_s__bach__cantatas_vo...     0    0           0   \n",
       "0/american_bach_soloists-j_s__bach__cantatas_vo...     0    0           0   \n",
       "0/american_bach_soloists-j_s__bach__cantatas_vo...     0    0           0   \n",
       "0/american_bach_soloists-j_s__bach__cantatas_vo...     0    0           0   \n",
       "0/american_bach_soloists-j_s__bach__cantatas_vo...     0    0           0   \n",
       "0/american_bach_soloists-j_s__bach__cantatas_vo...     0    0           0   \n",
       "0/american_bach_soloists-j_s__bach__cantatas_vo...     0    0           0   \n",
       "0/american_bach_soloists-j_s__bach__cantatas_vo...     0    0           0   \n",
       "0/american_bach_soloists-j_s__bach__cantatas_vo...     0    0           0   \n",
       "0/american_bach_soloists-j_s__bach__cantatas_vo...     0    0           0   \n",
       "0/american_bach_soloists-j_s__bach__cantatas_vo...     0    0           0   \n",
       "0/american_bach_soloists-j_s__bach__cantatas_vo...     0    0           0   \n",
       "0/american_bach_soloists-j_s__bach__cantatas_vo...     0    0           0   \n",
       "0/american_bach_soloists-j_s__bach__cantatas_vo...     0    0           0   \n",
       "4/american_bach_soloists-j_s__bach__mass_in_b_m...     0    0           0   \n",
       "4/american_bach_soloists-j_s__bach__mass_in_b_m...     0    0           0   \n",
       "4/american_bach_soloists-j_s__bach__mass_in_b_m...     0    0           0   \n",
       "4/american_bach_soloists-j_s__bach__mass_in_b_m...     0    0           0   \n",
       "4/american_bach_soloists-j_s__bach__mass_in_b_m...     0    0           0   \n",
       "4/american_bach_soloists-j_s__bach__mass_in_b_m...     0    0           0   \n",
       "4/american_bach_soloists-j_s__bach__mass_in_b_m...     0    0           0   \n",
       "4/american_bach_soloists-j_s__bach__mass_in_b_m...     0    0           0   \n",
       "...                                                  ...  ...         ...   \n",
       "c/william_brooks-fowl_mouth-08-scooter-59-88.mp3       1    0           0   \n",
       "c/william_brooks-fowl_mouth-09-roll-88-117.mp3         0    0           0   \n",
       "c/william_brooks-fowl_mouth-10-maybe_meagan-0-2...     0    0           0   \n",
       "c/william_brooks-fowl_mouth-11-karma_dogs-175-2...     0    0           0   \n",
       "c/william_brooks-fowl_mouth-12-grace-146-175.mp3       0    0           0   \n",
       "c/william_brooks-fowl_mouth-13-seven_promises-1...     0    0           0   \n",
       "c/william_brooks-fowl_mouth-14-ole_soledad-117-...     0    0           0   \n",
       "c/william_brooks-fowl_mouth-15-the_pony_song-14...     0    0           0   \n",
       "c/william_brooks-fowl_mouth-16-a_boy_outta_love...     0    0           0   \n",
       "0/williamson-a_few_things_to_hear_before_we_all...     0    0           0   \n",
       "0/williamson-a_few_things_to_hear_before_we_all...     0    0           1   \n",
       "0/williamson-a_few_things_to_hear_before_we_all...     0    0           1   \n",
       "0/williamson-a_few_things_to_hear_before_we_all...     0    0           1   \n",
       "0/williamson-a_few_things_to_hear_before_we_all...     0    0           0   \n",
       "0/williamson-a_few_things_to_hear_before_we_all...     0    0           1   \n",
       "0/williamson-a_few_things_to_hear_before_we_all...     0    0           1   \n",
       "0/williamson-a_few_things_to_hear_before_we_all...     0    0           0   \n",
       "0/williamson-a_few_things_to_hear_before_we_all...     0    0           0   \n",
       "0/williamson-a_few_things_to_hear_before_we_all...     0    0           0   \n",
       "0/williamson-a_few_things_to_hear_before_we_all...     0    0           1   \n",
       "0/williamson-a_few_things_to_hear_before_we_all...     0    0           0   \n",
       "e/yongen-moonrise-01-moonrise-59-88.mp3                0    0           0   \n",
       "e/yongen-moonrise-02-science_of_farewell-204-23...     0    0           1   \n",
       "e/yongen-moonrise-03-sunflower-146-175.mp3             0    1           0   \n",
       "e/yongen-moonrise-04-im_in_love-30-59.mp3              0    0           0   \n",
       "e/yongen-moonrise-05-one-204-233.mp3                   1    0           1   \n",
       "e/yongen-moonrise-06-whispers_and_knives-146-17...     0    1           0   \n",
       "e/yongen-moonrise-07-vertigo-117-146.mp3               0    0           0   \n",
       "e/yongen-moonrise-08-nylon_heart-30-59.mp3             0    0           1   \n",
       "e/yongen-moonrise-09-beauty-233-262.mp3                0    0           0   \n",
       "\n",
       "                                                    jazz  \n",
       "mp3_path                                                  \n",
       "d/ambient_teknology-the_all_seeing_eye_project-...     0  \n",
       "d/ambient_teknology-the_all_seeing_eye_project-...     0  \n",
       "d/ambient_teknology-the_all_seeing_eye_project-...     0  \n",
       "d/ambient_teknology-the_all_seeing_eye_project-...     0  \n",
       "d/ambient_teknology-the_all_seeing_eye_project-...     0  \n",
       "d/ambient_teknology-the_all_seeing_eye_project-...     0  \n",
       "d/ambient_teknology-the_all_seeing_eye_project-...     0  \n",
       "0/american_bach_soloists-j_s__bach__cantatas_vo...     0  \n",
       "0/american_bach_soloists-j_s__bach__cantatas_vo...     0  \n",
       "0/american_bach_soloists-j_s__bach__cantatas_vo...     0  \n",
       "0/american_bach_soloists-j_s__bach__cantatas_vo...     0  \n",
       "0/american_bach_soloists-j_s__bach__cantatas_vo...     0  \n",
       "0/american_bach_soloists-j_s__bach__cantatas_vo...     0  \n",
       "0/american_bach_soloists-j_s__bach__cantatas_vo...     0  \n",
       "0/american_bach_soloists-j_s__bach__cantatas_vo...     0  \n",
       "0/american_bach_soloists-j_s__bach__cantatas_vo...     0  \n",
       "0/american_bach_soloists-j_s__bach__cantatas_vo...     0  \n",
       "0/american_bach_soloists-j_s__bach__cantatas_vo...     0  \n",
       "0/american_bach_soloists-j_s__bach__cantatas_vo...     0  \n",
       "0/american_bach_soloists-j_s__bach__cantatas_vo...     0  \n",
       "0/american_bach_soloists-j_s__bach__cantatas_vo...     0  \n",
       "0/american_bach_soloists-j_s__bach__cantatas_vo...     0  \n",
       "4/american_bach_soloists-j_s__bach__mass_in_b_m...     0  \n",
       "4/american_bach_soloists-j_s__bach__mass_in_b_m...     0  \n",
       "4/american_bach_soloists-j_s__bach__mass_in_b_m...     0  \n",
       "4/american_bach_soloists-j_s__bach__mass_in_b_m...     0  \n",
       "4/american_bach_soloists-j_s__bach__mass_in_b_m...     0  \n",
       "4/american_bach_soloists-j_s__bach__mass_in_b_m...     0  \n",
       "4/american_bach_soloists-j_s__bach__mass_in_b_m...     0  \n",
       "4/american_bach_soloists-j_s__bach__mass_in_b_m...     0  \n",
       "...                                                  ...  \n",
       "c/william_brooks-fowl_mouth-08-scooter-59-88.mp3       0  \n",
       "c/william_brooks-fowl_mouth-09-roll-88-117.mp3         0  \n",
       "c/william_brooks-fowl_mouth-10-maybe_meagan-0-2...     0  \n",
       "c/william_brooks-fowl_mouth-11-karma_dogs-175-2...     0  \n",
       "c/william_brooks-fowl_mouth-12-grace-146-175.mp3       0  \n",
       "c/william_brooks-fowl_mouth-13-seven_promises-1...     0  \n",
       "c/william_brooks-fowl_mouth-14-ole_soledad-117-...     0  \n",
       "c/william_brooks-fowl_mouth-15-the_pony_song-14...     0  \n",
       "c/william_brooks-fowl_mouth-16-a_boy_outta_love...     0  \n",
       "0/williamson-a_few_things_to_hear_before_we_all...     0  \n",
       "0/williamson-a_few_things_to_hear_before_we_all...     0  \n",
       "0/williamson-a_few_things_to_hear_before_we_all...     0  \n",
       "0/williamson-a_few_things_to_hear_before_we_all...     0  \n",
       "0/williamson-a_few_things_to_hear_before_we_all...     1  \n",
       "0/williamson-a_few_things_to_hear_before_we_all...     0  \n",
       "0/williamson-a_few_things_to_hear_before_we_all...     0  \n",
       "0/williamson-a_few_things_to_hear_before_we_all...     0  \n",
       "0/williamson-a_few_things_to_hear_before_we_all...     0  \n",
       "0/williamson-a_few_things_to_hear_before_we_all...     0  \n",
       "0/williamson-a_few_things_to_hear_before_we_all...     0  \n",
       "0/williamson-a_few_things_to_hear_before_we_all...     0  \n",
       "e/yongen-moonrise-01-moonrise-59-88.mp3                0  \n",
       "e/yongen-moonrise-02-science_of_farewell-204-23...     0  \n",
       "e/yongen-moonrise-03-sunflower-146-175.mp3             0  \n",
       "e/yongen-moonrise-04-im_in_love-30-59.mp3              0  \n",
       "e/yongen-moonrise-05-one-204-233.mp3                   0  \n",
       "e/yongen-moonrise-06-whispers_and_knives-146-17...     0  \n",
       "e/yongen-moonrise-07-vertigo-117-146.mp3               0  \n",
       "e/yongen-moonrise-08-nylon_heart-30-59.mp3             0  \n",
       "e/yongen-moonrise-09-beauty-233-262.mp3                0  \n",
       "\n",
       "[3023 rows x 4 columns]"
      ]
     },
     "execution_count": 44,
     "metadata": {},
     "output_type": "execute_result"
    }
   ],
   "source": [
    "metadata[genres]"
   ]
  },
  {
   "cell_type": "code",
   "execution_count": 45,
   "metadata": {},
   "outputs": [
    {
     "data": {
      "text/plain": [
       "rock          281\n",
       "pop           125\n",
       "electronic    233\n",
       "jazz           64\n",
       "dtype: int64"
      ]
     },
     "execution_count": 45,
     "metadata": {},
     "output_type": "execute_result"
    }
   ],
   "source": [
    "metadata[genres].sum()"
   ]
  },
  {
   "cell_type": "code",
   "execution_count": 46,
   "metadata": {},
   "outputs": [
    {
     "data": {
      "text/plain": [
       "(3023, 4)"
      ]
     },
     "execution_count": 46,
     "metadata": {},
     "output_type": "execute_result"
    }
   ],
   "source": [
    "metadata[genres].shape"
   ]
  },
  {
   "cell_type": "code",
   "execution_count": 48,
   "metadata": {},
   "outputs": [],
   "source": [
    "# for the single-label genre task, we only retain tracks that have EXACTLY 1 genre assigned in groundtruth\n",
    "idx = metadata[genres].sum(axis=1) == 1"
   ]
  },
  {
   "cell_type": "code",
   "execution_count": 49,
   "metadata": {},
   "outputs": [],
   "source": [
    "genre_metadata = metadata.loc[idx,genres]"
   ]
  },
  {
   "cell_type": "code",
   "execution_count": 50,
   "metadata": {},
   "outputs": [
    {
     "data": {
      "text/plain": [
       "(538, 4)"
      ]
     },
     "execution_count": 50,
     "metadata": {},
     "output_type": "execute_result"
    }
   ],
   "source": [
    "genre_metadata.shape"
   ]
  },
  {
   "cell_type": "code",
   "execution_count": 51,
   "metadata": {},
   "outputs": [
    {
     "data": {
      "text/plain": [
       "rock          220\n",
       "pop            70\n",
       "electronic    201\n",
       "jazz           47\n",
       "dtype: int64"
      ]
     },
     "execution_count": 51,
     "metadata": {},
     "output_type": "execute_result"
    }
   ],
   "source": [
    "genre_metadata.sum()"
   ]
  },
  {
   "cell_type": "code",
   "execution_count": 54,
   "metadata": {},
   "outputs": [
    {
     "data": {
      "text/plain": [
       "array([[0, 0, 1, 0],\n",
       "       [0, 0, 1, 0],\n",
       "       [0, 0, 1, 0],\n",
       "       ...,\n",
       "       [0, 1, 0, 0],\n",
       "       [0, 1, 0, 0],\n",
       "       [0, 0, 1, 0]])"
      ]
     },
     "execution_count": 54,
     "metadata": {},
     "output_type": "execute_result"
    }
   ],
   "source": [
    "# classes needs to be a \"1-hot encoded\" numpy array (which our groundtruth already is! we just convert pandas to numpy)\n",
    "classes = genre_metadata.values\n",
    "classes"
   ]
  },
  {
   "cell_type": "code",
   "execution_count": 56,
   "metadata": {},
   "outputs": [],
   "source": [
    "filelist = genre_metadata.index.tolist()"
   ]
  },
  {
   "cell_type": "markdown",
   "metadata": {},
   "source": [
    "## Load Audio Spectrograms\n",
    "\n",
    "based on the new filelist needed for the genre task \n",
    "\n",
    "we keep n_mel_bands and frames the same as before"
   ]
  },
  {
   "cell_type": "code",
   "execution_count": 63,
   "metadata": {},
   "outputs": [
    {
     "name": "stdout",
     "output_type": "stream",
     "text": [
      "..............................................................................................................................................................................................................................."
     ]
    },
    {
     "name": "stderr",
     "output_type": "stream",
     "text": [
      "/usr/local/lib/python3.5/dist-packages/ipykernel_launcher.py:33: RuntimeWarning: divide by zero encountered in log10\n"
     ]
    },
    {
     "name": "stdout",
     "output_type": "stream",
     "text": [
      "............................."
     ]
    },
    {
     "name": "stderr",
     "output_type": "stream",
     "text": [
      "/usr/local/lib/python3.5/dist-packages/ipykernel_launcher.py:33: RuntimeWarning: divide by zero encountered in log10\n"
     ]
    },
    {
     "name": "stdout",
     "output_type": "stream",
     "text": [
      "..............................................................................................................................................................................................................................................................................................\n",
      "Read 538 audio files\n",
      "Converting to big data array...\n",
      "done.\n"
     ]
    }
   ],
   "source": [
    "data = create_spectrograms(filelist, n_mel_bands, frames)"
   ]
  },
  {
   "cell_type": "code",
   "execution_count": 65,
   "metadata": {},
   "outputs": [
    {
     "data": {
      "text/plain": [
       "(538, 96, 683)"
      ]
     },
     "execution_count": 65,
     "metadata": {},
     "output_type": "execute_result"
    }
   ],
   "source": [
    "data.shape"
   ]
  },
  {
   "cell_type": "code",
   "execution_count": 71,
   "metadata": {},
   "outputs": [
    {
     "data": {
      "text/plain": [
       "(538, 96, 683)"
      ]
     },
     "execution_count": 71,
     "metadata": {},
     "output_type": "execute_result"
    }
   ],
   "source": [
    "# standardize the data (see above)\n",
    "data = standardize(data)\n",
    "data.shape"
   ]
  },
  {
   "cell_type": "code",
   "execution_count": 72,
   "metadata": {},
   "outputs": [
    {
     "data": {
      "text/plain": [
       "(538, 96, 683, 1)"
      ]
     },
     "execution_count": 72,
     "metadata": {},
     "output_type": "execute_result"
    }
   ],
   "source": [
    "# add color channel (see above)\n",
    "data = add_channel(data, n_channels=1)\n",
    "data.shape"
   ]
  },
  {
   "cell_type": "code",
   "execution_count": 93,
   "metadata": {},
   "outputs": [
    {
     "data": {
      "text/plain": [
       "(96, 683, 1)"
      ]
     },
     "execution_count": 93,
     "metadata": {},
     "output_type": "execute_result"
    }
   ],
   "source": [
    "# input_shape: we store the new shape of the images in the 'input_shape' variable.\n",
    "# take all dimensions except the 0th one (which is the number of files)\n",
    "input_shape = data.shape[1:]  \n",
    "input_shape"
   ]
  },
  {
   "cell_type": "markdown",
   "metadata": {},
   "source": [
    "### Train & Test Set Split\n",
    "\n",
    "We split the original full data set into two parts: Train Set (75%) and Test Set (25%)."
   ]
  },
  {
   "cell_type": "code",
   "execution_count": 95,
   "metadata": {},
   "outputs": [],
   "source": [
    "testset_size = 0.25 # % portion of whole data set to keep for testing, i.e. 75% is used for training"
   ]
  },
  {
   "cell_type": "code",
   "execution_count": 96,
   "metadata": {},
   "outputs": [],
   "source": [
    "# Stratified Split retains the class balance in both sets\n",
    "\n",
    "splitter = StratifiedShuffleSplit(n_splits=1, test_size=testset_size, random_state=0)\n",
    "splits = splitter.split(data, classes)\n",
    "\n",
    "for train_index, test_index in splits:\n",
    "    train_set = data[train_index]\n",
    "    test_set = data[test_index]\n",
    "    train_classes = classes[train_index]\n",
    "    test_classes = classes[test_index]\n",
    "# Note: this for loop is only executed once if n_splits==1"
   ]
  },
  {
   "cell_type": "code",
   "execution_count": 39,
   "metadata": {},
   "outputs": [
    {
     "name": "stdout",
     "output_type": "stream",
     "text": [
      "(719, 96, 683, 1)\n",
      "(240, 96, 683, 1)\n"
     ]
    }
   ],
   "source": [
    "print(train_set.shape)\n",
    "print(test_set.shape)"
   ]
  },
  {
   "cell_type": "markdown",
   "metadata": {},
   "source": [
    "## Model and Training Parameters\n",
    "\n",
    "we use the same model as for Instrumental vs. Vocal above\n",
    "\n",
    "with a few changes in the Training parameters"
   ]
  },
  {
   "cell_type": "markdown",
   "metadata": {},
   "source": [
    "### Change #1: Loss"
   ]
  },
  {
   "cell_type": "code",
   "execution_count": 97,
   "metadata": {},
   "outputs": [],
   "source": [
    "# the loss for a single label classification task is CATEGORICAL crossentropy\n",
    "loss = 'categorical_crossentropy' "
   ]
  },
  {
   "cell_type": "markdown",
   "metadata": {},
   "source": [
    "### Change #2: Output units and activation"
   ]
  },
  {
   "cell_type": "code",
   "execution_count": 98,
   "metadata": {},
   "outputs": [],
   "source": [
    "# how many output units\n",
    "# IN A SINGLE LABEL MULTI-CLASS TASK with N classes, we need N output units\n",
    "output_shape = n_genres\n",
    "\n",
    "# which activation function to use for OUTPUT layer\n",
    "# IN A SINGLE LABEL MULTI-CLASS TASK with N classes we use softmax activation to BALANCE best between the classes \n",
    "# and find the best decision for ONE class\n",
    "output_activation = 'softmax'\n"
   ]
  },
  {
   "cell_type": "markdown",
   "metadata": {},
   "source": [
    "### Rest of Parameters\n",
    "\n",
    "stay essentially the same (or similar)"
   ]
  },
  {
   "cell_type": "code",
   "execution_count": 99,
   "metadata": {},
   "outputs": [],
   "source": [
    "# Optimizer\n",
    "optimizer = adam\n",
    "\n",
    "batch_size = 32 \n",
    "\n",
    "epochs = 40\n",
    "\n",
    "validation_split=0.1 \n",
    "\n",
    "random_seed = 0"
   ]
  },
  {
   "cell_type": "markdown",
   "metadata": {},
   "source": [
    "## Training"
   ]
  },
  {
   "cell_type": "code",
   "execution_count": 100,
   "metadata": {},
   "outputs": [
    {
     "name": "stdout",
     "output_type": "stream",
     "text": [
      "categorical_crossentropy\n",
      "<keras.optimizers.Adam object at 0x7fe0059b1470>\n",
      "['accuracy', <function precision at 0x7fdf81823950>, <function recall at 0x7fdf810ddae8>]\n",
      "Batch size: 32 Epochs: 40\n"
     ]
    }
   ],
   "source": [
    "# Summary of Training options\n",
    "\n",
    "print(loss)\n",
    "print(optimizer)\n",
    "print(metrics)\n",
    "print(\"Batch size:\", batch_size, \"Epochs:\", epochs)"
   ]
  },
  {
   "cell_type": "code",
   "execution_count": 105,
   "metadata": {},
   "outputs": [],
   "source": [
    "model = CompactCNN(input_shape, nb_conv = nb_conv_layers, nb_filters= nb_filters, n_mels = 96, \n",
    "                           normalize=normalization, \n",
    "                           nb_hidden = nb_hidden, dense_units = dense_units, \n",
    "                           output_shape = output_shape, activation = output_activation, \n",
    "                           dropout = dropout)"
   ]
  },
  {
   "cell_type": "code",
   "execution_count": 106,
   "metadata": {},
   "outputs": [
    {
     "name": "stdout",
     "output_type": "stream",
     "text": [
      "_________________________________________________________________\n",
      "Layer (type)                 Output Shape              Param #   \n",
      "=================================================================\n",
      "input_2 (InputLayer)         (None, 96, 683, 1)        0         \n",
      "_________________________________________________________________\n",
      "bn_0_freq (BatchNormalizatio (None, 96, 683, 1)        384       \n",
      "_________________________________________________________________\n",
      "conv2d_2 (Conv2D)            (None, 96, 683, 64)       640       \n",
      "_________________________________________________________________\n",
      "bn1 (BatchNormalization)     (None, 96, 683, 64)       256       \n",
      "_________________________________________________________________\n",
      "elu_1 (ELU)                  (None, 96, 683, 64)       0         \n",
      "_________________________________________________________________\n",
      "pool1 (MaxPooling2D)         (None, 48, 170, 64)       0         \n",
      "_________________________________________________________________\n",
      "conv2d_3 (Conv2D)            (None, 48, 170, 64)       36928     \n",
      "_________________________________________________________________\n",
      "bn2 (BatchNormalization)     (None, 48, 170, 64)       256       \n",
      "_________________________________________________________________\n",
      "elu_2 (ELU)                  (None, 48, 170, 64)       0         \n",
      "_________________________________________________________________\n",
      "pool2 (MaxPooling2D)         (None, 16, 42, 64)        0         \n",
      "_________________________________________________________________\n",
      "conv2d_4 (Conv2D)            (None, 16, 42, 64)        36928     \n",
      "_________________________________________________________________\n",
      "bn3 (BatchNormalization)     (None, 16, 42, 64)        256       \n",
      "_________________________________________________________________\n",
      "elu_3 (ELU)                  (None, 16, 42, 64)        0         \n",
      "_________________________________________________________________\n",
      "pool3 (MaxPooling2D)         (None, 8, 8, 64)          0         \n",
      "_________________________________________________________________\n",
      "conv2d_5 (Conv2D)            (None, 8, 8, 128)         73856     \n",
      "_________________________________________________________________\n",
      "bn4 (BatchNormalization)     (None, 8, 8, 128)         512       \n",
      "_________________________________________________________________\n",
      "elu_4 (ELU)                  (None, 8, 8, 128)         0         \n",
      "_________________________________________________________________\n",
      "pool4 (MaxPooling2D)         (None, 4, 2, 128)         0         \n",
      "_________________________________________________________________\n",
      "flatten_1 (Flatten)          (None, 1024)              0         \n",
      "_________________________________________________________________\n",
      "dropout_1 (Dropout)          (None, 1024)              0         \n",
      "_________________________________________________________________\n",
      "dense_1 (Dense)              (None, 128)               131200    \n",
      "_________________________________________________________________\n",
      "output (Dense)               (None, 4)                 516       \n",
      "=================================================================\n",
      "Total params: 281,732\n",
      "Trainable params: 280,900\n",
      "Non-trainable params: 832\n",
      "_________________________________________________________________\n"
     ]
    }
   ],
   "source": [
    "model.summary()"
   ]
  },
  {
   "cell_type": "code",
   "execution_count": 107,
   "metadata": {},
   "outputs": [],
   "source": [
    "# COMPILE MODEL\n",
    "\n",
    "model.compile(loss=loss, metrics=metrics, optimizer=optimizer)"
   ]
  },
  {
   "cell_type": "code",
   "execution_count": 109,
   "metadata": {},
   "outputs": [],
   "source": [
    "# past_epochs is only for the case that we execute the next code box multiple times (so that Tensorboard is displaying properly)\n",
    "past_epochs = 0"
   ]
  },
  {
   "cell_type": "code",
   "execution_count": 110,
   "metadata": {},
   "outputs": [
    {
     "name": "stdout",
     "output_type": "stream",
     "text": [
      "Train on 362 samples, validate on 41 samples\n",
      "Epoch 1/40\n",
      "362/362 [==============================] - 3s 7ms/step - loss: 0.0956 - acc: 0.9751 - precision: 0.9805 - recall: 0.9641 - val_loss: 1.2845 - val_acc: 0.6098 - val_precision: 0.5926 - val_recall: 0.5610\n",
      "Epoch 2/40\n",
      "362/362 [==============================] - 3s 7ms/step - loss: 0.0713 - acc: 0.9890 - precision: 0.9917 - recall: 0.9862 - val_loss: 1.3030 - val_acc: 0.5854 - val_precision: 0.5549 - val_recall: 0.4878\n",
      "Epoch 3/40\n",
      "362/362 [==============================] - 3s 7ms/step - loss: 0.0680 - acc: 0.9834 - precision: 0.9861 - recall: 0.9779 - val_loss: 1.2725 - val_acc: 0.5854 - val_precision: 0.6037 - val_recall: 0.5854\n",
      "Epoch 4/40\n",
      "362/362 [==============================] - 3s 7ms/step - loss: 0.1003 - acc: 0.9669 - precision: 0.9667 - recall: 0.9641 - val_loss: 1.1926 - val_acc: 0.6341 - val_precision: 0.6665 - val_recall: 0.6098\n",
      "Epoch 5/40\n",
      "362/362 [==============================] - 3s 7ms/step - loss: 0.1000 - acc: 0.9613 - precision: 0.9691 - recall: 0.9558 - val_loss: 0.7606 - val_acc: 0.6829 - val_precision: 0.7359 - val_recall: 0.6829\n",
      "Epoch 6/40\n",
      "362/362 [==============================] - 3s 7ms/step - loss: 0.0668 - acc: 0.9834 - precision: 0.9862 - recall: 0.9779 - val_loss: 0.8977 - val_acc: 0.6829 - val_precision: 0.7090 - val_recall: 0.6585\n",
      "Epoch 7/40\n",
      "362/362 [==============================] - 3s 7ms/step - loss: 0.0491 - acc: 0.9945 - precision: 0.9945 - recall: 0.9945 - val_loss: 0.9260 - val_acc: 0.7317 - val_precision: 0.7444 - val_recall: 0.6585\n",
      "Epoch 8/40\n",
      "362/362 [==============================] - 3s 7ms/step - loss: 0.0343 - acc: 0.9972 - precision: 0.9972 - recall: 0.9972 - val_loss: 0.9043 - val_acc: 0.7073 - val_precision: 0.7238 - val_recall: 0.7073\n",
      "Epoch 9/40\n",
      "362/362 [==============================] - 3s 7ms/step - loss: 0.0514 - acc: 0.9917 - precision: 0.9945 - recall: 0.9917 - val_loss: 1.0870 - val_acc: 0.6341 - val_precision: 0.6750 - val_recall: 0.5610\n",
      "Epoch 10/40\n",
      "362/362 [==============================] - 3s 7ms/step - loss: 0.0375 - acc: 0.9972 - precision: 0.9972 - recall: 0.9972 - val_loss: 0.9008 - val_acc: 0.7073 - val_precision: 0.7384 - val_recall: 0.6829\n",
      "Epoch 11/40\n",
      "362/362 [==============================] - 3s 7ms/step - loss: 0.0290 - acc: 1.0000 - precision: 1.0000 - recall: 1.0000 - val_loss: 0.7687 - val_acc: 0.6829 - val_precision: 0.7496 - val_recall: 0.6585\n",
      "Epoch 12/40\n",
      "362/362 [==============================] - 3s 7ms/step - loss: 0.0377 - acc: 0.9917 - precision: 0.9945 - recall: 0.9862 - val_loss: 0.9701 - val_acc: 0.6585 - val_precision: 0.7065 - val_recall: 0.6585\n",
      "Epoch 13/40\n",
      "362/362 [==============================] - 3s 7ms/step - loss: 0.0435 - acc: 0.9890 - precision: 0.9916 - recall: 0.9890 - val_loss: 0.7866 - val_acc: 0.6829 - val_precision: 0.7217 - val_recall: 0.6341\n",
      "Epoch 14/40\n",
      "362/362 [==============================] - 3s 7ms/step - loss: 0.0333 - acc: 0.9917 - precision: 0.9945 - recall: 0.9917 - val_loss: 0.7732 - val_acc: 0.6585 - val_precision: 0.7090 - val_recall: 0.6585\n",
      "Epoch 15/40\n",
      "362/362 [==============================] - 3s 7ms/step - loss: 0.0354 - acc: 0.9972 - precision: 0.9972 - recall: 0.9972 - val_loss: 0.9525 - val_acc: 0.6829 - val_precision: 0.6987 - val_recall: 0.6829\n",
      "Epoch 16/40\n",
      "362/362 [==============================] - 3s 7ms/step - loss: 0.0408 - acc: 0.9917 - precision: 0.9972 - recall: 0.9890 - val_loss: 0.7135 - val_acc: 0.6829 - val_precision: 0.7090 - val_recall: 0.6585\n",
      "Epoch 17/40\n",
      "362/362 [==============================] - 3s 7ms/step - loss: 0.0239 - acc: 0.9972 - precision: 0.9972 - recall: 0.9972 - val_loss: 0.7485 - val_acc: 0.7073 - val_precision: 0.7282 - val_recall: 0.6585\n",
      "Epoch 18/40\n",
      "362/362 [==============================] - 3s 7ms/step - loss: 0.0205 - acc: 1.0000 - precision: 1.0000 - recall: 1.0000 - val_loss: 0.6289 - val_acc: 0.7073 - val_precision: 0.7282 - val_recall: 0.6585\n",
      "Epoch 19/40\n",
      "362/362 [==============================] - 3s 7ms/step - loss: 0.0216 - acc: 0.9972 - precision: 0.9972 - recall: 0.9972 - val_loss: 0.7471 - val_acc: 0.6585 - val_precision: 0.7090 - val_recall: 0.6585\n",
      "Epoch 20/40\n",
      "362/362 [==============================] - 3s 7ms/step - loss: 0.0199 - acc: 1.0000 - precision: 1.0000 - recall: 1.0000 - val_loss: 0.5773 - val_acc: 0.7317 - val_precision: 0.8118 - val_recall: 0.7317\n",
      "Epoch 21/40\n",
      "362/362 [==============================] - 3s 7ms/step - loss: 0.0285 - acc: 0.9945 - precision: 0.9945 - recall: 0.9945 - val_loss: 0.6573 - val_acc: 0.7073 - val_precision: 0.7431 - val_recall: 0.7073\n",
      "Epoch 22/40\n",
      "362/362 [==============================] - 3s 7ms/step - loss: 0.0163 - acc: 0.9972 - precision: 0.9972 - recall: 0.9972 - val_loss: 0.6253 - val_acc: 0.8049 - val_precision: 0.8211 - val_recall: 0.7805\n",
      "Epoch 23/40\n",
      "362/362 [==============================] - 3s 7ms/step - loss: 0.0194 - acc: 0.9945 - precision: 1.0000 - recall: 0.9945 - val_loss: 0.8454 - val_acc: 0.7317 - val_precision: 0.7317 - val_recall: 0.7317\n",
      "Epoch 24/40\n",
      "362/362 [==============================] - 3s 7ms/step - loss: 0.0158 - acc: 0.9972 - precision: 0.9972 - recall: 0.9972 - val_loss: 0.7232 - val_acc: 0.7317 - val_precision: 0.7431 - val_recall: 0.7073\n",
      "Epoch 25/40\n",
      "362/362 [==============================] - 3s 7ms/step - loss: 0.0128 - acc: 1.0000 - precision: 1.0000 - recall: 1.0000 - val_loss: 0.7191 - val_acc: 0.7073 - val_precision: 0.7431 - val_recall: 0.7073\n",
      "Epoch 26/40\n",
      "362/362 [==============================] - 3s 7ms/step - loss: 0.0152 - acc: 1.0000 - precision: 1.0000 - recall: 1.0000 - val_loss: 0.6215 - val_acc: 0.7561 - val_precision: 0.8385 - val_recall: 0.7317\n",
      "Epoch 27/40\n",
      "362/362 [==============================] - 3s 7ms/step - loss: 0.0189 - acc: 1.0000 - precision: 1.0000 - recall: 1.0000 - val_loss: 0.6181 - val_acc: 0.6829 - val_precision: 0.7359 - val_recall: 0.6829\n",
      "Epoch 28/40\n",
      "362/362 [==============================] - 3s 7ms/step - loss: 0.0076 - acc: 1.0000 - precision: 1.0000 - recall: 1.0000 - val_loss: 0.7998 - val_acc: 0.7073 - val_precision: 0.7171 - val_recall: 0.6829\n",
      "Epoch 29/40\n",
      "362/362 [==============================] - 3s 7ms/step - loss: 0.0073 - acc: 1.0000 - precision: 1.0000 - recall: 1.0000 - val_loss: 0.8846 - val_acc: 0.7073 - val_precision: 0.7246 - val_recall: 0.7073\n",
      "Epoch 30/40\n",
      "362/362 [==============================] - 3s 7ms/step - loss: 0.0215 - acc: 0.9945 - precision: 0.9945 - recall: 0.9945 - val_loss: 0.7139 - val_acc: 0.7073 - val_precision: 0.7431 - val_recall: 0.7073\n",
      "Epoch 31/40\n",
      "362/362 [==============================] - 3s 7ms/step - loss: 0.0204 - acc: 0.9917 - precision: 0.9917 - recall: 0.9917 - val_loss: 0.7542 - val_acc: 0.6829 - val_precision: 0.7171 - val_recall: 0.6829\n",
      "Epoch 32/40\n",
      "362/362 [==============================] - 3s 7ms/step - loss: 0.0153 - acc: 0.9972 - precision: 0.9972 - recall: 0.9972 - val_loss: 0.8508 - val_acc: 0.6585 - val_precision: 0.6821 - val_recall: 0.6341\n",
      "Epoch 33/40\n",
      "362/362 [==============================] - 3s 7ms/step - loss: 0.0133 - acc: 0.9972 - precision: 0.9972 - recall: 0.9972 - val_loss: 0.7642 - val_acc: 0.7073 - val_precision: 0.7431 - val_recall: 0.7073\n",
      "Epoch 34/40\n",
      "362/362 [==============================] - 3s 7ms/step - loss: 0.0091 - acc: 1.0000 - precision: 1.0000 - recall: 1.0000 - val_loss: 0.6049 - val_acc: 0.7805 - val_precision: 0.8002 - val_recall: 0.7805\n",
      "Epoch 35/40\n",
      "362/362 [==============================] - 3s 7ms/step - loss: 0.0103 - acc: 1.0000 - precision: 1.0000 - recall: 1.0000 - val_loss: 0.6491 - val_acc: 0.7561 - val_precision: 0.7840 - val_recall: 0.7073\n",
      "Epoch 36/40\n",
      "362/362 [==============================] - 3s 7ms/step - loss: 0.0084 - acc: 1.0000 - precision: 1.0000 - recall: 1.0000 - val_loss: 0.8756 - val_acc: 0.6829 - val_precision: 0.6994 - val_recall: 0.6829\n",
      "Epoch 37/40\n",
      "362/362 [==============================] - 3s 7ms/step - loss: 0.0111 - acc: 1.0000 - precision: 1.0000 - recall: 1.0000 - val_loss: 0.7190 - val_acc: 0.6829 - val_precision: 0.6994 - val_recall: 0.6829\n",
      "Epoch 38/40\n",
      "362/362 [==============================] - 3s 7ms/step - loss: 0.0054 - acc: 1.0000 - precision: 1.0000 - recall: 1.0000 - val_loss: 0.5783 - val_acc: 0.8049 - val_precision: 0.8049 - val_recall: 0.8049\n"
     ]
    },
    {
     "name": "stdout",
     "output_type": "stream",
     "text": [
      "Epoch 39/40\n",
      "362/362 [==============================] - 3s 7ms/step - loss: 0.0047 - acc: 1.0000 - precision: 1.0000 - recall: 1.0000 - val_loss: 0.5874 - val_acc: 0.8049 - val_precision: 0.8253 - val_recall: 0.8049\n",
      "Epoch 40/40\n",
      "362/362 [==============================] - 3s 7ms/step - loss: 0.0094 - acc: 1.0000 - precision: 1.0000 - recall: 1.0000 - val_loss: 0.5665 - val_acc: 0.7805 - val_precision: 0.7951 - val_recall: 0.7561\n"
     ]
    }
   ],
   "source": [
    "# START TRAINING\n",
    "\n",
    "history = model.fit(train_set, train_classes, \n",
    "                     validation_split=validation_split,\n",
    "                     #validation_data=(X_test,y_test), \n",
    "                     epochs=epochs, \n",
    "                     initial_epoch=past_epochs,\n",
    "                     batch_size=batch_size, \n",
    "                     callbacks=callbacks\n",
    "                     )\n",
    "\n",
    "past_epochs += epochs"
   ]
  },
  {
   "cell_type": "markdown",
   "metadata": {},
   "source": [
    "### Verifying Accuracy on Test Set"
   ]
  },
  {
   "cell_type": "code",
   "execution_count": 115,
   "metadata": {
    "scrolled": true
   },
   "outputs": [
    {
     "data": {
      "text/plain": [
       "array([[4.58237268e-02, 6.29269928e-02, 2.74088144e-01, 6.17161155e-01],\n",
       "       [9.99931812e-01, 8.68182087e-06, 5.93881814e-05, 5.73759422e-08],\n",
       "       [3.03911002e-05, 8.42150348e-06, 9.99960661e-01, 5.30375473e-07],\n",
       "       [2.21871868e-01, 3.09577495e-01, 1.39044793e-02, 4.54646200e-01],\n",
       "       [4.54415986e-03, 8.40436333e-05, 9.95371044e-01, 6.71957366e-07],\n",
       "       [7.99389899e-01, 2.83196084e-02, 1.48994446e-01, 2.32960675e-02],\n",
       "       [1.09411521e-05, 5.37062647e-07, 9.99988437e-01, 1.20640649e-07],\n",
       "       [2.43594982e-02, 3.42375487e-02, 6.15009785e-01, 3.26393187e-01],\n",
       "       [1.33457873e-02, 7.11745620e-01, 2.70068616e-01, 4.83996840e-03],\n",
       "       [4.10003740e-05, 1.08028557e-02, 9.89044905e-01, 1.11258683e-04],\n",
       "       [9.99465406e-01, 3.61945058e-05, 4.96864493e-04, 1.54878467e-06],\n",
       "       [2.46506806e-05, 2.48264441e-05, 9.99676108e-01, 2.74466205e-04],\n",
       "       [9.99857187e-01, 1.06293650e-04, 3.62198480e-05, 2.50632382e-07],\n",
       "       [9.95927751e-01, 2.97071575e-03, 9.06229310e-04, 1.95317567e-04],\n",
       "       [2.89872829e-02, 3.08682257e-03, 9.67911899e-01, 1.39543472e-05],\n",
       "       [5.91368228e-03, 4.80861068e-01, 1.96157411e-01, 3.17067891e-01],\n",
       "       [9.99900818e-01, 3.49159272e-05, 6.12637014e-05, 2.99921726e-06],\n",
       "       [9.91898179e-01, 4.01290460e-03, 3.64560471e-03, 4.43308469e-04],\n",
       "       [9.99914527e-01, 4.35261472e-06, 8.08991972e-05, 1.13960276e-07],\n",
       "       [7.11872876e-01, 1.03331774e-01, 4.89863344e-02, 1.35809034e-01],\n",
       "       [9.90643442e-01, 8.32569692e-03, 9.14730772e-04, 1.16161071e-04],\n",
       "       [4.60090223e-06, 1.83423236e-02, 7.74738193e-01, 2.06914887e-01],\n",
       "       [9.03443154e-03, 1.28281768e-03, 9.89590824e-01, 9.19384984e-05],\n",
       "       [9.99599397e-01, 1.00702229e-04, 2.99881067e-04, 4.91489738e-09],\n",
       "       [4.37257171e-04, 4.78257518e-03, 9.94767785e-01, 1.24143389e-05],\n",
       "       [9.23732109e-03, 1.00486119e-04, 9.90651369e-01, 1.08258109e-05],\n",
       "       [2.19088584e-01, 5.90084353e-04, 7.79122829e-01, 1.19853648e-03],\n",
       "       [1.78371405e-03, 9.96705949e-01, 2.90664375e-05, 1.48134318e-03],\n",
       "       [1.45924105e-06, 1.09650148e-03, 3.99385020e-03, 9.94908273e-01],\n",
       "       [1.26003739e-04, 5.00856161e-01, 2.39849299e-01, 2.59168565e-01],\n",
       "       [2.96703860e-04, 1.15721649e-03, 8.96845758e-01, 1.01700321e-01],\n",
       "       [9.99882460e-01, 5.23870149e-05, 6.50315778e-05, 9.31435125e-08],\n",
       "       [6.35458454e-02, 5.24709783e-02, 8.83675873e-01, 3.07307171e-04],\n",
       "       [9.99920249e-01, 5.93511431e-05, 2.02200154e-05, 1.50810365e-07],\n",
       "       [5.25229494e-04, 6.93541951e-03, 9.91011739e-01, 1.52758684e-03],\n",
       "       [9.15484037e-03, 9.74086821e-02, 8.92262638e-01, 1.17390498e-03],\n",
       "       [3.92281711e-02, 2.09171703e-04, 9.60562110e-01, 5.96312077e-07],\n",
       "       [1.96758698e-08, 2.90950197e-07, 9.99998927e-01, 7.02595344e-07],\n",
       "       [4.33056646e-11, 2.82917127e-11, 1.00000000e+00, 1.30866540e-09],\n",
       "       [4.37423878e-04, 1.10988236e-04, 9.99450266e-01, 1.28204840e-06],\n",
       "       [1.39970273e-01, 2.39689723e-01, 6.07171953e-01, 1.31680416e-02],\n",
       "       [1.16496524e-02, 2.68442594e-02, 9.58769739e-01, 2.73632375e-03],\n",
       "       [1.61860548e-02, 2.40980904e-03, 9.81284082e-01, 1.20060991e-04],\n",
       "       [1.39951578e-06, 1.39070824e-02, 1.99737072e-01, 7.86354423e-01],\n",
       "       [2.35870320e-04, 4.12876578e-03, 9.88439023e-01, 7.19643151e-03],\n",
       "       [1.23819600e-05, 1.53363708e-05, 9.99971151e-01, 1.07640733e-06],\n",
       "       [9.98992860e-01, 5.18876710e-04, 4.56404261e-04, 3.18279417e-05],\n",
       "       [6.46065772e-01, 1.95860311e-01, 1.48195639e-01, 9.87823214e-03],\n",
       "       [3.11786692e-07, 2.07267236e-04, 8.08441825e-03, 9.91707981e-01],\n",
       "       [9.45509315e-01, 1.08632981e-03, 5.33956960e-02, 8.67095787e-06],\n",
       "       [2.59859674e-03, 9.34102354e-05, 9.97277677e-01, 3.03062043e-05],\n",
       "       [1.51395434e-04, 2.56851403e-04, 9.99568760e-01, 2.29774287e-05],\n",
       "       [9.81211895e-04, 5.24811354e-03, 9.89028931e-01, 4.74171201e-03],\n",
       "       [9.94155228e-01, 1.41986099e-03, 4.42423951e-03, 6.91128491e-07],\n",
       "       [9.99883056e-01, 2.89328873e-05, 8.76063859e-05, 3.27498469e-07],\n",
       "       [1.51486063e-04, 2.05849074e-02, 9.78535116e-01, 7.28436920e-04],\n",
       "       [2.30677649e-02, 6.67462882e-05, 9.76865530e-01, 2.83552524e-08],\n",
       "       [3.31462085e-01, 1.72132149e-01, 4.91633803e-01, 4.77193156e-03],\n",
       "       [9.99872804e-01, 4.51593878e-05, 8.11712380e-05, 7.93568688e-07],\n",
       "       [9.99580443e-01, 3.72343435e-04, 4.63072392e-05, 8.59147463e-07],\n",
       "       [2.03144737e-03, 3.34463315e-04, 9.96945083e-01, 6.88912231e-04],\n",
       "       [9.99898076e-01, 2.17049791e-08, 1.01939549e-04, 9.17511414e-11],\n",
       "       [9.70570385e-01, 1.93358529e-02, 7.48196198e-03, 2.61174655e-03],\n",
       "       [1.69431511e-02, 6.14674296e-03, 9.76900458e-01, 9.64999435e-06],\n",
       "       [3.52215976e-01, 6.39158368e-01, 8.39841366e-03, 2.27251614e-04],\n",
       "       [6.78051310e-03, 4.68342891e-03, 9.84906733e-01, 3.62937991e-03],\n",
       "       [1.72340691e-01, 3.27119674e-03, 8.24347019e-01, 4.11163492e-05],\n",
       "       [5.90927375e-04, 1.20083940e-04, 9.99273956e-01, 1.49973066e-05],\n",
       "       [6.83077587e-06, 6.66829783e-06, 9.99957323e-01, 2.91486576e-05],\n",
       "       [2.46611239e-06, 1.10779924e-03, 9.98433411e-01, 4.56335954e-04],\n",
       "       [1.26906706e-03, 9.19612646e-01, 5.92071610e-03, 7.31975883e-02],\n",
       "       [3.40297050e-03, 1.70522230e-03, 9.88454163e-01, 6.43764529e-03],\n",
       "       [2.63648573e-04, 9.15083885e-01, 6.53830096e-02, 1.92694273e-02],\n",
       "       [3.60576302e-01, 8.74044187e-03, 6.29612863e-01, 1.07040047e-03],\n",
       "       [9.99894261e-01, 1.66828868e-05, 8.89263247e-05, 5.58083428e-08],\n",
       "       [9.99905467e-01, 9.09859082e-05, 2.85613055e-06, 6.84618669e-07],\n",
       "       [9.67716202e-02, 2.75003970e-01, 3.43910558e-03, 6.24785244e-01],\n",
       "       [9.64949191e-01, 3.46826315e-02, 3.56438715e-04, 1.17236659e-05],\n",
       "       [9.99157548e-01, 6.45597174e-04, 1.91211991e-04, 5.68079986e-06],\n",
       "       [9.93663311e-01, 1.50234686e-04, 6.18575001e-03, 7.82274867e-07],\n",
       "       [1.47710753e-05, 7.62339623e-05, 9.77188468e-01, 2.27205716e-02],\n",
       "       [7.62692928e-01, 3.46432993e-04, 2.36958697e-01, 1.91485287e-06],\n",
       "       [9.96864855e-01, 9.22859999e-06, 3.12579097e-03, 4.98648163e-08],\n",
       "       [9.99663591e-01, 6.09061390e-05, 2.72654579e-04, 2.85799229e-06],\n",
       "       [4.45016456e-04, 7.19443917e-01, 9.93111730e-02, 1.80799887e-01],\n",
       "       [3.20932627e-01, 6.57783151e-01, 2.05065170e-03, 1.92335360e-02],\n",
       "       [9.99958873e-01, 2.00514824e-05, 2.11274873e-05, 7.71212161e-09],\n",
       "       [3.29355597e-02, 7.28096515e-02, 8.94210756e-01, 4.39899777e-05],\n",
       "       [6.39169663e-03, 6.51924133e-01, 3.40343475e-01, 1.34064141e-03],\n",
       "       [9.97526348e-01, 1.91230641e-03, 5.49638120e-04, 1.17179325e-05],\n",
       "       [5.46871568e-04, 7.80515838e-04, 9.98320758e-01, 3.51813243e-04],\n",
       "       [9.84204233e-01, 1.56858526e-02, 4.37265517e-05, 6.61939048e-05],\n",
       "       [9.99961734e-01, 3.10150244e-05, 7.21540209e-06, 9.30641875e-09],\n",
       "       [3.65326018e-03, 4.75431356e-04, 9.95773733e-01, 9.75573421e-05],\n",
       "       [3.28994393e-02, 8.87131035e-01, 1.12192957e-02, 6.87502474e-02],\n",
       "       [9.29629605e-04, 1.87952217e-04, 9.90467966e-01, 8.41450598e-03],\n",
       "       [5.60681941e-03, 1.92591018e-04, 9.94185686e-01, 1.49806692e-05],\n",
       "       [1.53307058e-02, 2.36040309e-01, 7.48266220e-01, 3.62748106e-04],\n",
       "       [2.58873333e-05, 5.36047993e-03, 9.91462409e-01, 3.15123657e-03],\n",
       "       [9.95317698e-01, 4.40867385e-03, 2.09030099e-04, 6.45979599e-05],\n",
       "       [3.38234426e-03, 6.81299686e-01, 1.97497662e-02, 2.95568198e-01],\n",
       "       [6.28866861e-03, 5.70935979e-02, 7.70578384e-01, 1.66039333e-01],\n",
       "       [5.37453801e-04, 5.62614622e-03, 9.90784168e-01, 3.05220531e-03],\n",
       "       [1.65201909e-05, 8.08222285e-06, 9.98797059e-01, 1.17822539e-03],\n",
       "       [9.93131459e-01, 2.48130618e-05, 6.84355758e-03, 8.20795023e-08],\n",
       "       [3.15069665e-05, 2.49271970e-02, 9.67372775e-01, 7.66851055e-03],\n",
       "       [9.99650240e-01, 1.22730387e-04, 2.23245428e-04, 3.75055265e-06],\n",
       "       [2.87072976e-06, 3.20810504e-05, 9.99964833e-01, 2.56575447e-07],\n",
       "       [2.14827091e-01, 4.99282479e-02, 7.34678686e-01, 5.66034578e-04],\n",
       "       [3.44687942e-06, 1.74235940e-01, 7.59106642e-03, 8.18169594e-01],\n",
       "       [5.80853084e-04, 2.59009562e-03, 9.96795595e-01, 3.35631303e-05],\n",
       "       [9.99165773e-01, 1.89096827e-05, 8.08612094e-04, 6.71236467e-06],\n",
       "       [9.99788344e-01, 8.14885334e-06, 2.03280812e-04, 2.29933264e-07],\n",
       "       [9.59380507e-01, 3.34995203e-02, 4.05876013e-03, 3.06125637e-03],\n",
       "       [8.49919580e-03, 8.09861124e-02, 1.60444714e-02, 8.94470215e-01],\n",
       "       [1.17248402e-03, 6.48176283e-05, 9.98762250e-01, 4.38781683e-07],\n",
       "       [9.70606148e-01, 6.79852255e-03, 2.24808436e-02, 1.14511146e-04],\n",
       "       [9.99972701e-01, 2.05639535e-05, 6.67207132e-06, 1.81043305e-08],\n",
       "       [3.16178262e-06, 5.93895020e-05, 9.99876738e-01, 6.06634567e-05],\n",
       "       [9.99549210e-01, 5.08831863e-06, 4.45628626e-04, 5.00958883e-08],\n",
       "       [1.55801786e-06, 3.98888642e-06, 9.99979854e-01, 1.44925416e-05],\n",
       "       [1.88894686e-04, 1.06976554e-03, 9.98729527e-01, 1.17277041e-05],\n",
       "       [2.93029007e-03, 1.49124593e-04, 9.96634066e-01, 2.86530209e-04],\n",
       "       [2.80713066e-02, 9.80931614e-03, 9.49422359e-01, 1.26970187e-02],\n",
       "       [9.74206090e-01, 6.89291349e-03, 1.84385572e-02, 4.62432596e-04],\n",
       "       [9.97557282e-01, 1.53737419e-04, 2.28196057e-03, 7.01295994e-06],\n",
       "       [3.92612637e-05, 1.74758534e-04, 9.99244094e-01, 5.41834102e-04],\n",
       "       [9.90056038e-01, 2.31584650e-03, 7.59548275e-03, 3.25859910e-05],\n",
       "       [9.97551143e-01, 7.38943520e-04, 1.69797114e-03, 1.18947919e-05],\n",
       "       [9.99539256e-01, 2.33945048e-06, 4.58388677e-04, 4.51449633e-09],\n",
       "       [7.19251573e-01, 6.22576382e-03, 2.73578167e-01, 9.44460044e-04],\n",
       "       [9.99603093e-01, 3.61302654e-07, 3.96611576e-04, 1.66491831e-09],\n",
       "       [1.32198386e-06, 8.74936632e-06, 9.57378626e-01, 4.26112860e-02],\n",
       "       [9.99925733e-01, 2.93944231e-05, 4.06236868e-05, 4.21710456e-06],\n",
       "       [9.76098716e-01, 3.18392320e-03, 2.06870977e-02, 3.02642620e-05]],\n",
       "      dtype=float32)"
      ]
     },
     "execution_count": 115,
     "metadata": {},
     "output_type": "execute_result"
    }
   ],
   "source": [
    "# compute probabilities for the classes (= get outputs of output layer)\n",
    "test_pred_prob = model.predict(test_set)\n",
    "test_pred_prob"
   ]
  },
  {
   "cell_type": "code",
   "execution_count": 119,
   "metadata": {},
   "outputs": [
    {
     "data": {
      "text/plain": [
       "array([3, 0, 2, 3, 2, 0, 2, 2, 1, 2, 0, 2, 0, 0, 2, 1, 0, 0, 0, 0, 0, 2,\n",
       "       2, 0, 2, 2, 2, 1, 3, 1, 2, 0, 2, 0, 2, 2, 2, 2, 2, 2, 2, 2, 2, 3,\n",
       "       2, 2, 0, 0, 3, 0, 2, 2, 2, 0, 0, 2, 2, 2, 0, 0, 2, 0, 0, 2, 1, 2,\n",
       "       2, 2, 2, 2, 1, 2, 1, 2, 0, 0, 3, 0, 0, 0, 2, 0, 0, 0, 1, 1, 0, 2,\n",
       "       1, 0, 2, 0, 0, 2, 1, 2, 2, 2, 2, 0, 1, 2, 2, 2, 0, 2, 0, 2, 2, 3,\n",
       "       2, 0, 0, 0, 3, 2, 0, 0, 2, 0, 2, 2, 2, 2, 0, 0, 2, 0, 0, 0, 0, 0,\n",
       "       2, 0, 0])"
      ]
     },
     "execution_count": 119,
     "metadata": {},
     "output_type": "execute_result"
    }
   ],
   "source": [
    "# to get the predicted class, we take the ARG MAX of the row vectors \n",
    "test_pred = np.argmax(test_pred_prob, axis=1)\n",
    "test_pred"
   ]
  },
  {
   "cell_type": "code",
   "execution_count": 120,
   "metadata": {},
   "outputs": [
    {
     "data": {
      "text/plain": [
       "array([2, 0, 2, 0, 2, 1, 2, 1, 1, 2, 0, 2, 0, 0, 0, 1, 0, 0, 0, 3, 3, 2,\n",
       "       2, 0, 2, 2, 2, 0, 3, 2, 3, 0, 2, 0, 2, 1, 0, 2, 2, 2, 1, 2, 2, 2,\n",
       "       2, 2, 0, 1, 2, 1, 2, 2, 2, 1, 0, 2, 2, 0, 0, 0, 2, 0, 0, 0, 1, 3,\n",
       "       1, 2, 2, 2, 3, 2, 1, 2, 0, 0, 1, 0, 0, 0, 2, 0, 0, 0, 2, 1, 0, 1,\n",
       "       1, 0, 2, 0, 0, 0, 3, 2, 2, 1, 2, 1, 3, 3, 2, 2, 0, 3, 0, 2, 2, 2,\n",
       "       2, 0, 0, 0, 3, 2, 0, 0, 2, 0, 0, 0, 2, 0, 0, 0, 3, 0, 0, 0, 0, 0,\n",
       "       2, 0, 0])"
      ]
     },
     "execution_count": 120,
     "metadata": {},
     "output_type": "execute_result"
    }
   ],
   "source": [
    "# do the same for groundtruth\n",
    "test_gt = np.argmax(test_classes, axis=1)\n",
    "test_gt"
   ]
  },
  {
   "cell_type": "code",
   "execution_count": 122,
   "metadata": {},
   "outputs": [
    {
     "data": {
      "text/plain": [
       "0.7185185185185186"
      ]
     },
     "execution_count": 122,
     "metadata": {},
     "output_type": "execute_result"
    }
   ],
   "source": [
    "# get final Accuracy\n",
    "accuracy_score(test_gt, test_pred)"
   ]
  },
  {
   "cell_type": "markdown",
   "metadata": {},
   "source": [
    "# 3) Mood Recognition\n",
    "\n",
    "this is a multi-label classification task (multiple categories to detect, any of them can be 0 or 1)"
   ]
  },
  {
   "cell_type": "code",
   "execution_count": null,
   "metadata": {},
   "outputs": [],
   "source": [
    "# TODO"
   ]
  }
 ],
 "metadata": {
  "kernelspec": {
   "display_name": "Python 3",
   "language": "python",
   "name": "python3"
  },
  "language_info": {
   "codemirror_mode": {
    "name": "ipython",
    "version": 3
   },
   "file_extension": ".py",
   "mimetype": "text/x-python",
   "name": "python",
   "nbconvert_exporter": "python",
   "pygments_lexer": "ipython3",
   "version": "3.5.2"
  }
 },
 "nbformat": 4,
 "nbformat_minor": 1
}
